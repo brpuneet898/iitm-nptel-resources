{
 "cells": [
  {
   "cell_type": "markdown",
   "metadata": {},
   "source": [
    "# Importing Required Libraries"
   ]
  },
  {
   "cell_type": "markdown",
   "metadata": {},
   "source": [
    "## PyTorch and Torchvision Libraries"
   ]
  },
  {
   "cell_type": "code",
   "execution_count": null,
   "metadata": {
    "execution": {
     "iopub.execute_input": "2025-03-18T21:32:13.625246Z",
     "iopub.status.busy": "2025-03-18T21:32:13.624915Z",
     "iopub.status.idle": "2025-03-18T21:32:21.477663Z",
     "shell.execute_reply": "2025-03-18T21:32:21.476757Z",
     "shell.execute_reply.started": "2025-03-18T21:32:13.625217Z"
    },
    "trusted": true
   },
   "outputs": [],
   "source": [
    "import torch\n",
    "import torch.nn as nn\n",
    "import torch.optim as optim\n",
    "import torchvision.transforms as transforms\n",
    "import torchvision.datasets as datasets\n",
    "from torchvision.models import vit_b_16\n",
    "from torch.utils.data import DataLoader, Dataset\n",
    "from torch.cuda.amp import autocast, GradScaler"
   ]
  },
  {
   "cell_type": "markdown",
   "metadata": {},
   "source": [
    "## Other Libraries"
   ]
  },
  {
   "cell_type": "code",
   "execution_count": null,
   "metadata": {},
   "outputs": [],
   "source": [
    "from PIL import Image\n",
    "import os"
   ]
  },
  {
   "cell_type": "markdown",
   "metadata": {},
   "source": [
    "# Transformation Function for Images"
   ]
  },
  {
   "cell_type": "code",
   "execution_count": null,
   "metadata": {
    "execution": {
     "iopub.execute_input": "2025-03-18T21:33:01.576229Z",
     "iopub.status.busy": "2025-03-18T21:33:01.575776Z",
     "iopub.status.idle": "2025-03-18T21:33:01.583379Z",
     "shell.execute_reply": "2025-03-18T21:33:01.582557Z",
     "shell.execute_reply.started": "2025-03-18T21:33:01.576190Z"
    },
    "trusted": true
   },
   "outputs": [],
   "source": [
    "transform = transforms.Compose([\n",
    "    transforms.Resize((224, 224)),  \n",
    "    transforms.RandomHorizontalFlip(),\n",
    "    transforms.ToTensor(),\n",
    "    transforms.Normalize(mean=[0.485, 0.456, 0.406], std=[0.229, 0.224, 0.225])\n",
    "])\n"
   ]
  },
  {
   "cell_type": "markdown",
   "metadata": {},
   "source": [
    "# Loading the Dataset"
   ]
  },
  {
   "cell_type": "code",
   "execution_count": null,
   "metadata": {
    "execution": {
     "iopub.execute_input": "2025-03-18T21:33:04.216192Z",
     "iopub.status.busy": "2025-03-18T21:33:04.215924Z",
     "iopub.status.idle": "2025-03-18T21:33:15.719340Z",
     "shell.execute_reply": "2025-03-18T21:33:15.718671Z",
     "shell.execute_reply.started": "2025-03-18T21:33:04.216172Z"
    },
    "trusted": true
   },
   "outputs": [],
   "source": [
    "train_dataset = datasets.ImageFolder(root=\"/kaggle/input/deep-learning-practice-week-9-image-c-lassifica/train\", transform=transform)\n",
    "train_loader = DataLoader(train_dataset, batch_size=32, shuffle=True, num_workers=4)"
   ]
  },
  {
   "cell_type": "code",
   "execution_count": null,
   "metadata": {
    "execution": {
     "iopub.execute_input": "2025-03-18T21:33:18.575457Z",
     "iopub.status.busy": "2025-03-18T21:33:18.575169Z",
     "iopub.status.idle": "2025-03-18T21:33:18.602131Z",
     "shell.execute_reply": "2025-03-18T21:33:18.601521Z",
     "shell.execute_reply.started": "2025-03-18T21:33:18.575435Z"
    },
    "trusted": true
   },
   "outputs": [],
   "source": [
    "import os\n",
    "from PIL import Image\n",
    "from torch.utils.data import Dataset, DataLoader\n",
    "\n",
    "class TestDataset(Dataset):\n",
    "    def __init__(self, root, transform=None):\n",
    "        self.root = root\n",
    "        self.transform = transform\n",
    "        self.image_paths = [os.path.join(root, img) for img in os.listdir(root)]\n",
    "    \n",
    "    def __len__(self):\n",
    "        return len(self.image_paths)\n",
    "    \n",
    "    def __getitem__(self, idx):\n",
    "        img_path = self.image_paths[idx]\n",
    "        img = Image.open(img_path).convert(\"RGB\") \n",
    "        if self.transform:\n",
    "            img = self.transform(img)\n",
    "        filename = os.path.basename(img_path)  \n",
    "        return img, filename \n",
    "\n",
    "test_dataset = TestDataset(root=\"/kaggle/input/deep-learning-practice-week-9-image-c-lassifica/test\", transform=transform)\n",
    "test_loader = DataLoader(test_dataset, batch_size=32, shuffle=False, num_workers=4)\n"
   ]
  },
  {
   "cell_type": "markdown",
   "metadata": {},
   "source": [
    "# Loading the Models (VIT L, VIT B, Swin T)"
   ]
  },
  {
   "cell_type": "code",
   "execution_count": null,
   "metadata": {
    "execution": {
     "iopub.execute_input": "2025-03-18T09:54:03.688904Z",
     "iopub.status.busy": "2025-03-18T09:54:03.688581Z",
     "iopub.status.idle": "2025-03-18T09:54:03.692746Z",
     "shell.execute_reply": "2025-03-18T09:54:03.692016Z",
     "shell.execute_reply.started": "2025-03-18T09:54:03.688880Z"
    },
    "trusted": true
   },
   "outputs": [],
   "source": [
    "from torchvision.models import vit_l_16 "
   ]
  },
  {
   "cell_type": "code",
   "execution_count": null,
   "metadata": {
    "execution": {
     "iopub.execute_input": "2025-03-18T10:23:28.589362Z",
     "iopub.status.busy": "2025-03-18T10:23:28.589020Z",
     "iopub.status.idle": "2025-03-18T10:23:28.593085Z",
     "shell.execute_reply": "2025-03-18T10:23:28.592369Z",
     "shell.execute_reply.started": "2025-03-18T10:23:28.589332Z"
    },
    "trusted": true
   },
   "outputs": [],
   "source": [
    "from torchvision.models import swin_t "
   ]
  },
  {
   "cell_type": "code",
   "execution_count": null,
   "metadata": {
    "execution": {
     "iopub.execute_input": "2025-03-18T21:33:27.866550Z",
     "iopub.status.busy": "2025-03-18T21:33:27.866259Z",
     "iopub.status.idle": "2025-03-18T21:33:27.870448Z",
     "shell.execute_reply": "2025-03-18T21:33:27.869485Z",
     "shell.execute_reply.started": "2025-03-18T21:33:27.866529Z"
    },
    "trusted": true
   },
   "outputs": [],
   "source": [
    "device = torch.device(\"cuda\" if torch.cuda.is_available() else \"cpu\")\n",
    "\n",
    "model = swin_t(pretrained=True)\n",
    "num_classes = len(train_dataset.classes)  # Auto-detect number of classes\n",
    "# model.heads.head = nn.Linear(model.hidden_dim, num_classes)\n",
    "model.head = nn.Linear(model.head.in_features, num_classes)\n",
    "\n",
    "# Freeze All Layers Initially\n",
    "for param in model.parameters():\n",
    "    param.requires_grad = False\n",
    "\n",
    "# Unfreeze only the classifier head\n",
    "for param in model.head.parameters():\n",
    "    param.requires_grad = True\n",
    "\n",
    "model.to(device)\n"
   ]
  },
  {
   "cell_type": "markdown",
   "metadata": {},
   "source": [
    "# Setting up the Device"
   ]
  },
  {
   "cell_type": "code",
   "execution_count": null,
   "metadata": {
    "execution": {
     "iopub.execute_input": "2025-03-18T21:41:49.203528Z",
     "iopub.status.busy": "2025-03-18T21:41:49.203225Z",
     "iopub.status.idle": "2025-03-18T21:41:49.210262Z",
     "shell.execute_reply": "2025-03-18T21:41:49.209527Z",
     "shell.execute_reply.started": "2025-03-18T21:41:49.203505Z"
    },
    "trusted": true
   },
   "outputs": [
    {
     "name": "stderr",
     "output_type": "stream",
     "text": [
      "<ipython-input-22-9373974159c1>:5: FutureWarning: `torch.cuda.amp.GradScaler(args...)` is deprecated. Please use `torch.amp.GradScaler('cuda', args...)` instead.\n",
      "  scaler = GradScaler()  # Mixed Precision Training\n"
     ]
    }
   ],
   "source": [
    "criterion = nn.CrossEntropyLoss()\n",
    "optimizer = optim.AdamW(model.parameters(), lr=3e-4, weight_decay=1e-4)\n",
    "scheduler = optim.lr_scheduler.CosineAnnealingLR(optimizer, T_max=10)\n",
    "\n",
    "scaler = GradScaler()\n"
   ]
  },
  {
   "cell_type": "markdown",
   "metadata": {},
   "source": [
    "# Training Function"
   ]
  },
  {
   "cell_type": "code",
   "execution_count": null,
   "metadata": {
    "execution": {
     "iopub.execute_input": "2025-03-18T21:41:51.689690Z",
     "iopub.status.busy": "2025-03-18T21:41:51.689336Z",
     "iopub.status.idle": "2025-03-18T21:41:51.695354Z",
     "shell.execute_reply": "2025-03-18T21:41:51.694476Z",
     "shell.execute_reply.started": "2025-03-18T21:41:51.689636Z"
    },
    "trusted": true
   },
   "outputs": [],
   "source": [
    "def train(model, train_loader, optimizer, criterion, scaler, scheduler, num_epochs=8):\n",
    "    model.train()\n",
    "    for epoch in range(num_epochs):\n",
    "        total_loss, correct, total = 0, 0, 0\n",
    "        for inputs, targets in train_loader:\n",
    "            inputs, targets = inputs.to(device), targets.to(device)\n",
    "\n",
    "            optimizer.zero_grad()\n",
    "\n",
    "            with autocast():  \n",
    "                outputs = model(inputs)\n",
    "                loss = criterion(outputs, targets)\n",
    "\n",
    "            scaler.scale(loss).backward()\n",
    "            scaler.step(optimizer)\n",
    "            scaler.update()\n",
    "\n",
    "            total_loss += loss.item()\n",
    "            _, predicted = outputs.max(1)\n",
    "            total += targets.size(0)\n",
    "            correct += predicted.eq(targets).sum().item()\n",
    "\n",
    "        scheduler.step()\n",
    "        acc = 100. * correct / total\n",
    "        print(f\"Epoch {epoch+1}: Loss = {total_loss:.4f}, Accuracy = {acc:.2f}%\")\n",
    "\n"
   ]
  },
  {
   "cell_type": "markdown",
   "metadata": {},
   "source": [
    "# Prediction Function"
   ]
  },
  {
   "cell_type": "code",
   "execution_count": null,
   "metadata": {
    "execution": {
     "iopub.execute_input": "2025-03-18T21:41:54.551023Z",
     "iopub.status.busy": "2025-03-18T21:41:54.550704Z",
     "iopub.status.idle": "2025-03-18T21:41:54.555761Z",
     "shell.execute_reply": "2025-03-18T21:41:54.554958Z",
     "shell.execute_reply.started": "2025-03-18T21:41:54.550996Z"
    },
    "trusted": true
   },
   "outputs": [],
   "source": [
    "def predict(model, test_loader):\n",
    "    model.eval()\n",
    "    predictions = []\n",
    "    with torch.no_grad():\n",
    "        for inputs, filenames in test_loader:\n",
    "            inputs = inputs.to(device)\n",
    "            outputs = model(inputs)\n",
    "            _, predicted = outputs.max(1) \n",
    "\n",
    "            for i in range(len(filenames)):\n",
    "                predictions.append((filenames[i], predicted[i].item()))\n",
    "    \n",
    "    return predictions\n"
   ]
  },
  {
   "cell_type": "markdown",
   "metadata": {},
   "source": [
    "# Training the Model"
   ]
  },
  {
   "cell_type": "code",
   "execution_count": null,
   "metadata": {
    "execution": {
     "iopub.execute_input": "2025-03-18T21:41:57.124460Z",
     "iopub.status.busy": "2025-03-18T21:41:57.124161Z",
     "iopub.status.idle": "2025-03-18T21:49:05.343337Z",
     "shell.execute_reply": "2025-03-18T21:49:05.342411Z",
     "shell.execute_reply.started": "2025-03-18T21:41:57.124437Z"
    },
    "trusted": true
   },
   "outputs": [
    {
     "name": "stderr",
     "output_type": "stream",
     "text": [
      "<ipython-input-23-9c824535b245>:10: FutureWarning: `torch.cuda.amp.autocast(args...)` is deprecated. Please use `torch.amp.autocast('cuda', args...)` instead.\n",
      "  with autocast():  # Mixed Precision Training\n"
     ]
    },
    {
     "name": "stdout",
     "output_type": "stream",
     "text": [
      "Epoch 1: Loss = 387.7096, Accuracy = 64.69%\n",
      "Epoch 2: Loss = 258.5520, Accuracy = 74.02%\n",
      "Epoch 3: Loss = 236.6052, Accuracy = 75.70%\n",
      "Epoch 4: Loss = 223.9331, Accuracy = 77.03%\n",
      "Epoch 5: Loss = 216.3614, Accuracy = 77.87%\n",
      "Epoch 6: Loss = 212.9473, Accuracy = 77.97%\n",
      "Epoch 7: Loss = 210.6648, Accuracy = 78.25%\n",
      "Epoch 8: Loss = 207.5805, Accuracy = 78.74%\n"
     ]
    }
   ],
   "source": [
    "train(model, train_loader, optimizer, criterion, scaler, scheduler, num_epochs=8)\n"
   ]
  },
  {
   "cell_type": "markdown",
   "metadata": {},
   "source": [
    "# Finding the Predictions"
   ]
  },
  {
   "cell_type": "code",
   "execution_count": null,
   "metadata": {
    "execution": {
     "iopub.execute_input": "2025-03-18T21:49:22.791522Z",
     "iopub.status.busy": "2025-03-18T21:49:22.791213Z",
     "iopub.status.idle": "2025-03-18T21:49:38.915992Z",
     "shell.execute_reply": "2025-03-18T21:49:38.914847Z",
     "shell.execute_reply.started": "2025-03-18T21:49:22.791499Z"
    },
    "trusted": true
   },
   "outputs": [],
   "source": [
    "test_predictions = predict(model, test_loader)"
   ]
  },
  {
   "cell_type": "code",
   "execution_count": null,
   "metadata": {
    "execution": {
     "iopub.execute_input": "2025-03-18T21:49:44.674087Z",
     "iopub.status.busy": "2025-03-18T21:49:44.673777Z",
     "iopub.status.idle": "2025-03-18T21:49:44.679546Z",
     "shell.execute_reply": "2025-03-18T21:49:44.678864Z",
     "shell.execute_reply.started": "2025-03-18T21:49:44.674063Z"
    },
    "trusted": true
   },
   "outputs": [
    {
     "name": "stdout",
     "output_type": "stream",
     "text": [
      "Image_0612.jpg -> Predicted Class: 5\n",
      "Image_0946.jpg -> Predicted Class: 4\n",
      "Image_0755.jpg -> Predicted Class: 8\n",
      "Image_0178.jpg -> Predicted Class: 2\n",
      "Image_1593.jpg -> Predicted Class: 5\n"
     ]
    }
   ],
   "source": [
    "for filename, label in test_predictions[:5]:\n",
    "    print(f\"{filename} -> Predicted Class: {label}\")"
   ]
  },
  {
   "cell_type": "markdown",
   "metadata": {},
   "source": [
    "# Understanding the Submission File"
   ]
  },
  {
   "cell_type": "code",
   "execution_count": null,
   "metadata": {
    "execution": {
     "iopub.execute_input": "2025-03-18T21:49:53.829050Z",
     "iopub.status.busy": "2025-03-18T21:49:53.828749Z",
     "iopub.status.idle": "2025-03-18T21:49:54.366960Z",
     "shell.execute_reply": "2025-03-18T21:49:54.366281Z",
     "shell.execute_reply.started": "2025-03-18T21:49:53.829029Z"
    },
    "trusted": true
   },
   "outputs": [],
   "source": [
    "import pandas as pd\n",
    "\n",
    "sample = pd.read_csv(\"/kaggle/input/deep-learning-practice-week-9-image-c-lassifica/sample_submission.csv\")"
   ]
  },
  {
   "cell_type": "code",
   "execution_count": null,
   "metadata": {
    "execution": {
     "iopub.execute_input": "2025-03-18T21:49:56.506982Z",
     "iopub.status.busy": "2025-03-18T21:49:56.506617Z",
     "iopub.status.idle": "2025-03-18T21:49:56.549987Z",
     "shell.execute_reply": "2025-03-18T21:49:56.549128Z",
     "shell.execute_reply.started": "2025-03-18T21:49:56.506953Z"
    },
    "trusted": true
   },
   "outputs": [
    {
     "data": {
      "text/html": [
       "<div>\n",
       "<style scoped>\n",
       "    .dataframe tbody tr th:only-of-type {\n",
       "        vertical-align: middle;\n",
       "    }\n",
       "\n",
       "    .dataframe tbody tr th {\n",
       "        vertical-align: top;\n",
       "    }\n",
       "\n",
       "    .dataframe thead th {\n",
       "        text-align: right;\n",
       "    }\n",
       "</style>\n",
       "<table border=\"1\" class=\"dataframe\">\n",
       "  <thead>\n",
       "    <tr style=\"text-align: right;\">\n",
       "      <th></th>\n",
       "      <th>Image_ID</th>\n",
       "      <th>Label</th>\n",
       "    </tr>\n",
       "  </thead>\n",
       "  <tbody>\n",
       "    <tr>\n",
       "      <th>0</th>\n",
       "      <td>Image_0001</td>\n",
       "      <td>5</td>\n",
       "    </tr>\n",
       "    <tr>\n",
       "      <th>1</th>\n",
       "      <td>Image_0002</td>\n",
       "      <td>0</td>\n",
       "    </tr>\n",
       "    <tr>\n",
       "      <th>2</th>\n",
       "      <td>Image_0003</td>\n",
       "      <td>0</td>\n",
       "    </tr>\n",
       "    <tr>\n",
       "      <th>3</th>\n",
       "      <td>Image_0004</td>\n",
       "      <td>4</td>\n",
       "    </tr>\n",
       "    <tr>\n",
       "      <th>4</th>\n",
       "      <td>Image_0005</td>\n",
       "      <td>7</td>\n",
       "    </tr>\n",
       "    <tr>\n",
       "      <th>...</th>\n",
       "      <td>...</td>\n",
       "      <td>...</td>\n",
       "    </tr>\n",
       "    <tr>\n",
       "      <th>1995</th>\n",
       "      <td>Image_1996</td>\n",
       "      <td>3</td>\n",
       "    </tr>\n",
       "    <tr>\n",
       "      <th>1996</th>\n",
       "      <td>Image_1997</td>\n",
       "      <td>0</td>\n",
       "    </tr>\n",
       "    <tr>\n",
       "      <th>1997</th>\n",
       "      <td>Image_1998</td>\n",
       "      <td>6</td>\n",
       "    </tr>\n",
       "    <tr>\n",
       "      <th>1998</th>\n",
       "      <td>Image_1999</td>\n",
       "      <td>7</td>\n",
       "    </tr>\n",
       "    <tr>\n",
       "      <th>1999</th>\n",
       "      <td>Image_2000</td>\n",
       "      <td>7</td>\n",
       "    </tr>\n",
       "  </tbody>\n",
       "</table>\n",
       "<p>2000 rows × 2 columns</p>\n",
       "</div>"
      ],
      "text/plain": [
       "        Image_ID  Label\n",
       "0     Image_0001      5\n",
       "1     Image_0002      0\n",
       "2     Image_0003      0\n",
       "3     Image_0004      4\n",
       "4     Image_0005      7\n",
       "...          ...    ...\n",
       "1995  Image_1996      3\n",
       "1996  Image_1997      0\n",
       "1997  Image_1998      6\n",
       "1998  Image_1999      7\n",
       "1999  Image_2000      7\n",
       "\n",
       "[2000 rows x 2 columns]"
      ]
     },
     "execution_count": 30,
     "metadata": {},
     "output_type": "execute_result"
    }
   ],
   "source": [
    "sample"
   ]
  },
  {
   "cell_type": "markdown",
   "metadata": {},
   "source": [
    "# Prepare the Submission File"
   ]
  },
  {
   "cell_type": "code",
   "execution_count": null,
   "metadata": {
    "execution": {
     "iopub.execute_input": "2025-03-18T21:49:59.209208Z",
     "iopub.status.busy": "2025-03-18T21:49:59.208860Z",
     "iopub.status.idle": "2025-03-18T21:49:59.215423Z",
     "shell.execute_reply": "2025-03-18T21:49:59.214562Z",
     "shell.execute_reply.started": "2025-03-18T21:49:59.209167Z"
    },
    "trusted": true
   },
   "outputs": [],
   "source": [
    "df_submission = pd.DataFrame(test_predictions, columns=['Image_ID', 'Label'])\n",
    "df_submission['Image_ID'] = df_submission['Image_ID'].apply(lambda x: x.split('.')[0])"
   ]
  },
  {
   "cell_type": "code",
   "execution_count": null,
   "metadata": {
    "execution": {
     "iopub.execute_input": "2025-03-18T21:50:01.307765Z",
     "iopub.status.busy": "2025-03-18T21:50:01.307394Z",
     "iopub.status.idle": "2025-03-18T21:50:01.316615Z",
     "shell.execute_reply": "2025-03-18T21:50:01.315723Z",
     "shell.execute_reply.started": "2025-03-18T21:50:01.307735Z"
    },
    "trusted": true
   },
   "outputs": [
    {
     "data": {
      "text/html": [
       "<div>\n",
       "<style scoped>\n",
       "    .dataframe tbody tr th:only-of-type {\n",
       "        vertical-align: middle;\n",
       "    }\n",
       "\n",
       "    .dataframe tbody tr th {\n",
       "        vertical-align: top;\n",
       "    }\n",
       "\n",
       "    .dataframe thead th {\n",
       "        text-align: right;\n",
       "    }\n",
       "</style>\n",
       "<table border=\"1\" class=\"dataframe\">\n",
       "  <thead>\n",
       "    <tr style=\"text-align: right;\">\n",
       "      <th></th>\n",
       "      <th>Image_ID</th>\n",
       "      <th>Label</th>\n",
       "    </tr>\n",
       "  </thead>\n",
       "  <tbody>\n",
       "    <tr>\n",
       "      <th>0</th>\n",
       "      <td>Image_0612</td>\n",
       "      <td>5</td>\n",
       "    </tr>\n",
       "    <tr>\n",
       "      <th>1</th>\n",
       "      <td>Image_0946</td>\n",
       "      <td>4</td>\n",
       "    </tr>\n",
       "    <tr>\n",
       "      <th>2</th>\n",
       "      <td>Image_0755</td>\n",
       "      <td>8</td>\n",
       "    </tr>\n",
       "    <tr>\n",
       "      <th>3</th>\n",
       "      <td>Image_0178</td>\n",
       "      <td>2</td>\n",
       "    </tr>\n",
       "    <tr>\n",
       "      <th>4</th>\n",
       "      <td>Image_1593</td>\n",
       "      <td>5</td>\n",
       "    </tr>\n",
       "    <tr>\n",
       "      <th>...</th>\n",
       "      <td>...</td>\n",
       "      <td>...</td>\n",
       "    </tr>\n",
       "    <tr>\n",
       "      <th>1995</th>\n",
       "      <td>Image_0955</td>\n",
       "      <td>5</td>\n",
       "    </tr>\n",
       "    <tr>\n",
       "      <th>1996</th>\n",
       "      <td>Image_0576</td>\n",
       "      <td>4</td>\n",
       "    </tr>\n",
       "    <tr>\n",
       "      <th>1997</th>\n",
       "      <td>Image_0356</td>\n",
       "      <td>2</td>\n",
       "    </tr>\n",
       "    <tr>\n",
       "      <th>1998</th>\n",
       "      <td>Image_1287</td>\n",
       "      <td>0</td>\n",
       "    </tr>\n",
       "    <tr>\n",
       "      <th>1999</th>\n",
       "      <td>Image_0415</td>\n",
       "      <td>1</td>\n",
       "    </tr>\n",
       "  </tbody>\n",
       "</table>\n",
       "<p>2000 rows × 2 columns</p>\n",
       "</div>"
      ],
      "text/plain": [
       "        Image_ID  Label\n",
       "0     Image_0612      5\n",
       "1     Image_0946      4\n",
       "2     Image_0755      8\n",
       "3     Image_0178      2\n",
       "4     Image_1593      5\n",
       "...          ...    ...\n",
       "1995  Image_0955      5\n",
       "1996  Image_0576      4\n",
       "1997  Image_0356      2\n",
       "1998  Image_1287      0\n",
       "1999  Image_0415      1\n",
       "\n",
       "[2000 rows x 2 columns]"
      ]
     },
     "execution_count": 32,
     "metadata": {},
     "output_type": "execute_result"
    }
   ],
   "source": [
    "df_submission"
   ]
  },
  {
   "cell_type": "code",
   "execution_count": null,
   "metadata": {
    "execution": {
     "iopub.execute_input": "2025-03-18T21:50:04.244236Z",
     "iopub.status.busy": "2025-03-18T21:50:04.243913Z",
     "iopub.status.idle": "2025-03-18T21:50:04.263639Z",
     "shell.execute_reply": "2025-03-18T21:50:04.262803Z",
     "shell.execute_reply.started": "2025-03-18T21:50:04.244208Z"
    },
    "trusted": true
   },
   "outputs": [],
   "source": [
    "df_submission.to_csv('submission.csv', index=False)"
   ]
  }
 ],
 "metadata": {
  "kaggle": {
   "accelerator": "nvidiaTeslaT4",
   "dataSources": [
    {
     "databundleVersionId": 11298874,
     "sourceId": 95041,
     "sourceType": "competition"
    }
   ],
   "dockerImageVersionId": 30919,
   "isGpuEnabled": true,
   "isInternetEnabled": true,
   "language": "python",
   "sourceType": "notebook"
  },
  "kernelspec": {
   "display_name": "Python 3",
   "language": "python",
   "name": "python3"
  },
  "language_info": {
   "codemirror_mode": {
    "name": "ipython",
    "version": 3
   },
   "file_extension": ".py",
   "mimetype": "text/x-python",
   "name": "python",
   "nbconvert_exporter": "python",
   "pygments_lexer": "ipython3",
   "version": "3.11.4"
  }
 },
 "nbformat": 4,
 "nbformat_minor": 4
}
