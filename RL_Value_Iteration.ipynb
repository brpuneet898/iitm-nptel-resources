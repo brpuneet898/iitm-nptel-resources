{
 "cells": [
  {
   "cell_type": "code",
   "execution_count": 1,
   "metadata": {},
   "outputs": [],
   "source": [
    "import numpy as np"
   ]
  },
  {
   "cell_type": "code",
   "execution_count": 2,
   "metadata": {},
   "outputs": [],
   "source": [
    "S = ('s1', 's2')\n",
    "A = ('a1', 'a2')\n",
    "p = {s: {a: {s_next: 0 for s_next in S} for a in A} for s in S}\n",
    "r = {s: {a: {s_next: 0 for s_next in S} for a in A} for s in S}\n",
    "\n",
    "p['s1']['a1']['s1'] = 0.8\n",
    "p['s1']['a1']['s2'] = 0.2\n",
    "p['s1']['a2']['s1'] = 0.5\n",
    "p['s1']['a2']['s2'] = 0.5\n",
    "p['s2']['a1']['s1'] = 0.7\n",
    "p['s2']['a1']['s2'] = 0.3\n",
    "p['s2']['a2']['s1'] = 0.4\n",
    "p['s2']['a2']['s2'] = 0.6\n",
    "\n",
    "r['s1']['a1']['s1'] = 4\n",
    "r['s1']['a1']['s2'] = 4\n",
    "r['s1']['a2']['s1'] = 6\n",
    "r['s1']['a2']['s2'] = 6\n",
    "r['s2']['a1']['s1'] = -5\n",
    "r['s2']['a1']['s2'] = -5\n",
    "r['s2']['a2']['s1'] = -3\n",
    "r['s2']['a2']['s2'] = -3\n",
    "\n",
    "gamma = 0.9"
   ]
  },
  {
   "cell_type": "code",
   "execution_count": 4,
   "metadata": {},
   "outputs": [
    {
     "name": "stdout",
     "output_type": "stream",
     "text": [
      "convergence after 73 iterations for theta 0.001\n"
     ]
    }
   ],
   "source": [
    "theta = 1e-3\n",
    "delta = theta + 1\n",
    "iter = 0\n",
    "v = {s: 0 for s in S}\n",
    "\n",
    "while delta >= theta:\n",
    "    iter += 1\n",
    "    q = {s: {a: 0 for a in A} for s in S}\n",
    "    v_next = {s: 0 for s in S}\n",
    "    delta = 0\n",
    "    for s in S:\n",
    "        for a in A:\n",
    "            for s_next in S:\n",
    "                q[s][a] += p[s][a][s_next] * (r[s][a][s_next] + gamma * v[s_next])\n",
    "        v_next[s] = max([q[s][a] for a in A])\n",
    "        delta = max(delta, np.abs(v_next[s] - v[s]))\n",
    "    v = v_next.copy()\n",
    "print(f'convergence after {iter} iterations for theta {theta}')     "
   ]
  }
 ],
 "metadata": {
  "kernelspec": {
   "display_name": "Python 3",
   "language": "python",
   "name": "python3"
  },
  "language_info": {
   "codemirror_mode": {
    "name": "ipython",
    "version": 3
   },
   "file_extension": ".py",
   "mimetype": "text/x-python",
   "name": "python",
   "nbconvert_exporter": "python",
   "pygments_lexer": "ipython3",
   "version": "3.11.4"
  }
 },
 "nbformat": 4,
 "nbformat_minor": 2
}
