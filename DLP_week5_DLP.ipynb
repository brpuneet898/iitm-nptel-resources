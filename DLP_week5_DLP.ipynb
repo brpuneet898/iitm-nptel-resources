{
  "nbformat": 4,
  "nbformat_minor": 0,
  "metadata": {
    "colab": {
      "provenance": [],
      "gpuType": "T4"
    },
    "kernelspec": {
      "name": "python3",
      "display_name": "Python 3"
    },
    "language_info": {
      "name": "python"
    },
    "accelerator": "GPU"
  },
  "cells": [
    {
      "cell_type": "code",
      "execution_count": 3,
      "metadata": {
        "colab": {
          "base_uri": "https://localhost:8080/"
        },
        "id": "ztGbYrPnTYUK",
        "outputId": "88eec8c7-9665-44a7-8215-0ececf56be8f"
      },
      "outputs": [
        {
          "output_type": "stream",
          "name": "stdout",
          "text": [
            "Requirement already satisfied: transformers in /usr/local/lib/python3.11/dist-packages (4.48.2)\n",
            "Requirement already satisfied: filelock in /usr/local/lib/python3.11/dist-packages (from transformers) (3.17.0)\n",
            "Requirement already satisfied: huggingface-hub<1.0,>=0.24.0 in /usr/local/lib/python3.11/dist-packages (from transformers) (0.28.1)\n",
            "Requirement already satisfied: numpy>=1.17 in /usr/local/lib/python3.11/dist-packages (from transformers) (1.26.4)\n",
            "Requirement already satisfied: packaging>=20.0 in /usr/local/lib/python3.11/dist-packages (from transformers) (24.2)\n",
            "Requirement already satisfied: pyyaml>=5.1 in /usr/local/lib/python3.11/dist-packages (from transformers) (6.0.2)\n",
            "Requirement already satisfied: regex!=2019.12.17 in /usr/local/lib/python3.11/dist-packages (from transformers) (2024.11.6)\n",
            "Requirement already satisfied: requests in /usr/local/lib/python3.11/dist-packages (from transformers) (2.32.3)\n",
            "Requirement already satisfied: tokenizers<0.22,>=0.21 in /usr/local/lib/python3.11/dist-packages (from transformers) (0.21.0)\n",
            "Requirement already satisfied: safetensors>=0.4.1 in /usr/local/lib/python3.11/dist-packages (from transformers) (0.5.2)\n",
            "Requirement already satisfied: tqdm>=4.27 in /usr/local/lib/python3.11/dist-packages (from transformers) (4.67.1)\n",
            "Requirement already satisfied: fsspec>=2023.5.0 in /usr/local/lib/python3.11/dist-packages (from huggingface-hub<1.0,>=0.24.0->transformers) (2024.9.0)\n",
            "Requirement already satisfied: typing-extensions>=3.7.4.3 in /usr/local/lib/python3.11/dist-packages (from huggingface-hub<1.0,>=0.24.0->transformers) (4.12.2)\n",
            "Requirement already satisfied: charset-normalizer<4,>=2 in /usr/local/lib/python3.11/dist-packages (from requests->transformers) (3.4.1)\n",
            "Requirement already satisfied: idna<4,>=2.5 in /usr/local/lib/python3.11/dist-packages (from requests->transformers) (3.10)\n",
            "Requirement already satisfied: urllib3<3,>=1.21.1 in /usr/local/lib/python3.11/dist-packages (from requests->transformers) (2.3.0)\n",
            "Requirement already satisfied: certifi>=2017.4.17 in /usr/local/lib/python3.11/dist-packages (from requests->transformers) (2025.1.31)\n"
          ]
        }
      ],
      "source": [
        "pip install transformers"
      ]
    },
    {
      "cell_type": "code",
      "source": [
        "pip install datasets"
      ],
      "metadata": {
        "colab": {
          "base_uri": "https://localhost:8080/"
        },
        "id": "mNIYVRFBThSt",
        "outputId": "fb2e6017-a4b3-4dde-e20b-4cef970c7974"
      },
      "execution_count": 4,
      "outputs": [
        {
          "output_type": "stream",
          "name": "stdout",
          "text": [
            "Requirement already satisfied: datasets in /usr/local/lib/python3.11/dist-packages (3.2.0)\n",
            "Requirement already satisfied: filelock in /usr/local/lib/python3.11/dist-packages (from datasets) (3.17.0)\n",
            "Requirement already satisfied: numpy>=1.17 in /usr/local/lib/python3.11/dist-packages (from datasets) (1.26.4)\n",
            "Requirement already satisfied: pyarrow>=15.0.0 in /usr/local/lib/python3.11/dist-packages (from datasets) (17.0.0)\n",
            "Requirement already satisfied: dill<0.3.9,>=0.3.0 in /usr/local/lib/python3.11/dist-packages (from datasets) (0.3.8)\n",
            "Requirement already satisfied: pandas in /usr/local/lib/python3.11/dist-packages (from datasets) (2.2.2)\n",
            "Requirement already satisfied: requests>=2.32.2 in /usr/local/lib/python3.11/dist-packages (from datasets) (2.32.3)\n",
            "Requirement already satisfied: tqdm>=4.66.3 in /usr/local/lib/python3.11/dist-packages (from datasets) (4.67.1)\n",
            "Requirement already satisfied: xxhash in /usr/local/lib/python3.11/dist-packages (from datasets) (3.5.0)\n",
            "Requirement already satisfied: multiprocess<0.70.17 in /usr/local/lib/python3.11/dist-packages (from datasets) (0.70.16)\n",
            "Requirement already satisfied: fsspec<=2024.9.0,>=2023.1.0 in /usr/local/lib/python3.11/dist-packages (from fsspec[http]<=2024.9.0,>=2023.1.0->datasets) (2024.9.0)\n",
            "Requirement already satisfied: aiohttp in /usr/local/lib/python3.11/dist-packages (from datasets) (3.11.12)\n",
            "Requirement already satisfied: huggingface-hub>=0.23.0 in /usr/local/lib/python3.11/dist-packages (from datasets) (0.28.1)\n",
            "Requirement already satisfied: packaging in /usr/local/lib/python3.11/dist-packages (from datasets) (24.2)\n",
            "Requirement already satisfied: pyyaml>=5.1 in /usr/local/lib/python3.11/dist-packages (from datasets) (6.0.2)\n",
            "Requirement already satisfied: aiohappyeyeballs>=2.3.0 in /usr/local/lib/python3.11/dist-packages (from aiohttp->datasets) (2.4.4)\n",
            "Requirement already satisfied: aiosignal>=1.1.2 in /usr/local/lib/python3.11/dist-packages (from aiohttp->datasets) (1.3.2)\n",
            "Requirement already satisfied: attrs>=17.3.0 in /usr/local/lib/python3.11/dist-packages (from aiohttp->datasets) (25.1.0)\n",
            "Requirement already satisfied: frozenlist>=1.1.1 in /usr/local/lib/python3.11/dist-packages (from aiohttp->datasets) (1.5.0)\n",
            "Requirement already satisfied: multidict<7.0,>=4.5 in /usr/local/lib/python3.11/dist-packages (from aiohttp->datasets) (6.1.0)\n",
            "Requirement already satisfied: propcache>=0.2.0 in /usr/local/lib/python3.11/dist-packages (from aiohttp->datasets) (0.2.1)\n",
            "Requirement already satisfied: yarl<2.0,>=1.17.0 in /usr/local/lib/python3.11/dist-packages (from aiohttp->datasets) (1.18.3)\n",
            "Requirement already satisfied: typing-extensions>=3.7.4.3 in /usr/local/lib/python3.11/dist-packages (from huggingface-hub>=0.23.0->datasets) (4.12.2)\n",
            "Requirement already satisfied: charset-normalizer<4,>=2 in /usr/local/lib/python3.11/dist-packages (from requests>=2.32.2->datasets) (3.4.1)\n",
            "Requirement already satisfied: idna<4,>=2.5 in /usr/local/lib/python3.11/dist-packages (from requests>=2.32.2->datasets) (3.10)\n",
            "Requirement already satisfied: urllib3<3,>=1.21.1 in /usr/local/lib/python3.11/dist-packages (from requests>=2.32.2->datasets) (2.3.0)\n",
            "Requirement already satisfied: certifi>=2017.4.17 in /usr/local/lib/python3.11/dist-packages (from requests>=2.32.2->datasets) (2025.1.31)\n",
            "Requirement already satisfied: python-dateutil>=2.8.2 in /usr/local/lib/python3.11/dist-packages (from pandas->datasets) (2.8.2)\n",
            "Requirement already satisfied: pytz>=2020.1 in /usr/local/lib/python3.11/dist-packages (from pandas->datasets) (2025.1)\n",
            "Requirement already satisfied: tzdata>=2022.7 in /usr/local/lib/python3.11/dist-packages (from pandas->datasets) (2025.1)\n",
            "Requirement already satisfied: six>=1.5 in /usr/local/lib/python3.11/dist-packages (from python-dateutil>=2.8.2->pandas->datasets) (1.17.0)\n"
          ]
        }
      ]
    },
    {
      "cell_type": "code",
      "source": [
        "pip install torch"
      ],
      "metadata": {
        "colab": {
          "base_uri": "https://localhost:8080/"
        },
        "id": "_Xa-d5AuTit6",
        "outputId": "2461d797-122e-4ddc-b32b-b69c66bdb244"
      },
      "execution_count": 5,
      "outputs": [
        {
          "output_type": "stream",
          "name": "stdout",
          "text": [
            "Requirement already satisfied: torch in /usr/local/lib/python3.11/dist-packages (2.5.1+cu124)\n",
            "Requirement already satisfied: filelock in /usr/local/lib/python3.11/dist-packages (from torch) (3.17.0)\n",
            "Requirement already satisfied: typing-extensions>=4.8.0 in /usr/local/lib/python3.11/dist-packages (from torch) (4.12.2)\n",
            "Requirement already satisfied: networkx in /usr/local/lib/python3.11/dist-packages (from torch) (3.4.2)\n",
            "Requirement already satisfied: jinja2 in /usr/local/lib/python3.11/dist-packages (from torch) (3.1.5)\n",
            "Requirement already satisfied: fsspec in /usr/local/lib/python3.11/dist-packages (from torch) (2024.9.0)\n",
            "Requirement already satisfied: nvidia-cuda-nvrtc-cu12==12.4.127 in /usr/local/lib/python3.11/dist-packages (from torch) (12.4.127)\n",
            "Requirement already satisfied: nvidia-cuda-runtime-cu12==12.4.127 in /usr/local/lib/python3.11/dist-packages (from torch) (12.4.127)\n",
            "Requirement already satisfied: nvidia-cuda-cupti-cu12==12.4.127 in /usr/local/lib/python3.11/dist-packages (from torch) (12.4.127)\n",
            "Requirement already satisfied: nvidia-cudnn-cu12==9.1.0.70 in /usr/local/lib/python3.11/dist-packages (from torch) (9.1.0.70)\n",
            "Requirement already satisfied: nvidia-cublas-cu12==12.4.5.8 in /usr/local/lib/python3.11/dist-packages (from torch) (12.4.5.8)\n",
            "Requirement already satisfied: nvidia-cufft-cu12==11.2.1.3 in /usr/local/lib/python3.11/dist-packages (from torch) (11.2.1.3)\n",
            "Requirement already satisfied: nvidia-curand-cu12==10.3.5.147 in /usr/local/lib/python3.11/dist-packages (from torch) (10.3.5.147)\n",
            "Requirement already satisfied: nvidia-cusolver-cu12==11.6.1.9 in /usr/local/lib/python3.11/dist-packages (from torch) (11.6.1.9)\n",
            "Requirement already satisfied: nvidia-cusparse-cu12==12.3.1.170 in /usr/local/lib/python3.11/dist-packages (from torch) (12.3.1.170)\n",
            "Requirement already satisfied: nvidia-nccl-cu12==2.21.5 in /usr/local/lib/python3.11/dist-packages (from torch) (2.21.5)\n",
            "Requirement already satisfied: nvidia-nvtx-cu12==12.4.127 in /usr/local/lib/python3.11/dist-packages (from torch) (12.4.127)\n",
            "Requirement already satisfied: nvidia-nvjitlink-cu12==12.4.127 in /usr/local/lib/python3.11/dist-packages (from torch) (12.4.127)\n",
            "Requirement already satisfied: triton==3.1.0 in /usr/local/lib/python3.11/dist-packages (from torch) (3.1.0)\n",
            "Requirement already satisfied: sympy==1.13.1 in /usr/local/lib/python3.11/dist-packages (from torch) (1.13.1)\n",
            "Requirement already satisfied: mpmath<1.4,>=1.1.0 in /usr/local/lib/python3.11/dist-packages (from sympy==1.13.1->torch) (1.3.0)\n",
            "Requirement already satisfied: MarkupSafe>=2.0 in /usr/local/lib/python3.11/dist-packages (from jinja2->torch) (3.0.2)\n"
          ]
        }
      ]
    },
    {
      "cell_type": "code",
      "source": [
        "import transformers, datasets, torch\n",
        "from datasets import load_dataset"
      ],
      "metadata": {
        "id": "OZwfDhcjTpGs"
      },
      "execution_count": 6,
      "outputs": []
    },
    {
      "cell_type": "code",
      "source": [
        "dataset_tamil = load_dataset(\"SPRINGLab/IndicVoices-R_Tamil\", split = 'train', streaming = True)"
      ],
      "metadata": {
        "colab": {
          "base_uri": "https://localhost:8080/"
        },
        "id": "hMBlwfY8Tu66",
        "outputId": "0db74d9f-dd12-49a5-88ad-8d86273b7ae0"
      },
      "execution_count": 7,
      "outputs": [
        {
          "output_type": "stream",
          "name": "stderr",
          "text": [
            "/usr/local/lib/python3.11/dist-packages/huggingface_hub/utils/_auth.py:94: UserWarning: \n",
            "The secret `HF_TOKEN` does not exist in your Colab secrets.\n",
            "To authenticate with the Hugging Face Hub, create a token in your settings tab (https://huggingface.co/settings/tokens), set it as secret in your Google Colab and restart your session.\n",
            "You will be able to reuse this secret in all of your notebooks.\n",
            "Please note that authentication is recommended but still optional to access public models or datasets.\n",
            "  warnings.warn(\n"
          ]
        }
      ]
    },
    {
      "cell_type": "code",
      "source": [
        "dataset_hindi = load_dataset(\"SPRINGLab/IndicVoices-R_Hindi\", split = 'train', streaming = True)"
      ],
      "metadata": {
        "id": "F_MBt69DUnQO"
      },
      "execution_count": 8,
      "outputs": []
    },
    {
      "cell_type": "code",
      "source": [
        "dataset_bengali = load_dataset(\"SPRINGLab/IndicVoices-R_Bengali\", split = 'train', streaming = True)"
      ],
      "metadata": {
        "id": "3pui4_PRU-KF"
      },
      "execution_count": 9,
      "outputs": []
    },
    {
      "cell_type": "code",
      "source": [
        "dataset_bengali"
      ],
      "metadata": {
        "colab": {
          "base_uri": "https://localhost:8080/"
        },
        "id": "7dg9lHCIVElq",
        "outputId": "9e2354c8-f172-480f-c3f8-e99ad9d7ad59"
      },
      "execution_count": 10,
      "outputs": [
        {
          "output_type": "execute_result",
          "data": {
            "text/plain": [
              "IterableDataset({\n",
              "    features: ['text', 'lang', 'samples', 'verbatim', 'normalized', 'speaker_id', 'scenario', 'task_name', 'gender', 'age_group', 'job_type', 'qualification', 'area', 'district', 'state', 'occupation', 'utterance_pitch_mean', 'utterance_pitch_std', 'snr', 'c50', 'speaking_rate', 'cer', 'duration', 'audio'],\n",
              "    num_shards: 16\n",
              "})"
            ]
          },
          "metadata": {},
          "execution_count": 10
        }
      ]
    },
    {
      "cell_type": "code",
      "source": [
        "dataset_bengali.features"
      ],
      "metadata": {
        "colab": {
          "base_uri": "https://localhost:8080/"
        },
        "id": "1Kug-wyEWC-7",
        "outputId": "0c6fcd82-9683-4b96-d460-16579c8ad0ba"
      },
      "execution_count": 11,
      "outputs": [
        {
          "output_type": "execute_result",
          "data": {
            "text/plain": [
              "{'text': Value(dtype='string', id=None),\n",
              " 'lang': ClassLabel(names=['bn'], id=None),\n",
              " 'samples': Value(dtype='int64', id=None),\n",
              " 'verbatim': Value(dtype='string', id=None),\n",
              " 'normalized': Value(dtype='string', id=None),\n",
              " 'speaker_id': Value(dtype='string', id=None),\n",
              " 'scenario': ClassLabel(names=['Extempore', 'Read'], id=None),\n",
              " 'task_name': Value(dtype='string', id=None),\n",
              " 'gender': ClassLabel(names=['Female', 'Male'], id=None),\n",
              " 'age_group': ClassLabel(names=['18-30', '30-45', '45-60', '60+'], id=None),\n",
              " 'job_type': ClassLabel(names=['Blue Collar', 'Student', 'Unemployed', 'White Collar'], id=None),\n",
              " 'qualification': ClassLabel(names=['No Schooling', 'Post Grad + PhD', 'Undergrad and Grad.', 'Upto 12th'], id=None),\n",
              " 'area': ClassLabel(names=['Rural', 'Urban'], id=None),\n",
              " 'district': Value(dtype='string', id=None),\n",
              " 'state': ClassLabel(names=['West Bengal'], id=None),\n",
              " 'occupation': Value(dtype='string', id=None),\n",
              " 'utterance_pitch_mean': Value(dtype='float64', id=None),\n",
              " 'utterance_pitch_std': Value(dtype='float64', id=None),\n",
              " 'snr': Value(dtype='float64', id=None),\n",
              " 'c50': Value(dtype='float64', id=None),\n",
              " 'speaking_rate': Value(dtype='float64', id=None),\n",
              " 'cer': Value(dtype='string', id=None),\n",
              " 'duration': Value(dtype='float64', id=None),\n",
              " 'audio': Audio(sampling_rate=None, mono=True, decode=True, id=None)}"
            ]
          },
          "metadata": {},
          "execution_count": 11
        }
      ]
    },
    {
      "cell_type": "code",
      "source": [
        "for i , k in enumerate(dataset_hindi):\n",
        "  if i == 14:\n",
        "    print(k['speaker_id'])\n",
        "    break"
      ],
      "metadata": {
        "colab": {
          "base_uri": "https://localhost:8080/"
        },
        "id": "SetyynP0bpas",
        "outputId": "5bbe701f-407c-4e53-f156-b16deb9852ca"
      },
      "execution_count": 12,
      "outputs": [
        {
          "output_type": "stream",
          "name": "stdout",
          "text": [
            "S4259027400309283\n"
          ]
        }
      ]
    },
    {
      "cell_type": "code",
      "source": [
        "#Only taking 500 rows\n",
        "subset = []\n",
        "for i, example in enumerate(dataset_tamil):\n",
        "    if i >= 500:\n",
        "        break\n",
        "    subset.append(example)"
      ],
      "metadata": {
        "id": "4EmNjDPxbyjS"
      },
      "execution_count": 13,
      "outputs": []
    },
    {
      "cell_type": "code",
      "source": [
        "for i, example in enumerate(dataset_hindi):\n",
        "    if i >= 500:\n",
        "        break\n",
        "    subset.append(example)"
      ],
      "metadata": {
        "id": "SfvsDpWpfDUr"
      },
      "execution_count": 14,
      "outputs": []
    },
    {
      "cell_type": "code",
      "source": [
        "for i, example in enumerate(dataset_bengali):\n",
        "    if i >= 500:\n",
        "        break\n",
        "    subset.append(example)"
      ],
      "metadata": {
        "id": "jHuS5DxffIfL"
      },
      "execution_count": 15,
      "outputs": []
    },
    {
      "cell_type": "code",
      "source": [
        "len(subset)#3 languages 500 rows each hence 1500"
      ],
      "metadata": {
        "colab": {
          "base_uri": "https://localhost:8080/"
        },
        "id": "ledEFttLfLcO",
        "outputId": "1ab677e6-b19e-4201-fc75-952233a976fb"
      },
      "execution_count": 16,
      "outputs": [
        {
          "output_type": "execute_result",
          "data": {
            "text/plain": [
              "1500"
            ]
          },
          "metadata": {},
          "execution_count": 16
        }
      ]
    },
    {
      "cell_type": "code",
      "source": [
        "subset[0]"
      ],
      "metadata": {
        "colab": {
          "base_uri": "https://localhost:8080/"
        },
        "id": "M_HIrhBnk907",
        "outputId": "2355510c-3198-4a0e-cc57-3197456c2658"
      },
      "execution_count": 17,
      "outputs": [
        {
          "output_type": "execute_result",
          "data": {
            "text/plain": [
              "{'text': 'நான் எதனா வந்துட்டு தப்பாக சொல்லியிருந்தா என்னை மன்னிச்சுடுங்க ஆனால் வந்துட்டு இனிமேல் யாரை கூப்பிட்டாலுமே கரெக்ட் டைமுக்கு போய் அவங்கள கொண்டு போய் விட்டுருங்க ஏன்னால் அவங்களுக்கு அதுவே வாழ்க்கையாக கூட அமையலாம் சரிங்களா அண்ணா ஓகே அண்ணா',\n",
              " 'lang': 0,\n",
              " 'samples': 498154,\n",
              " 'verbatim': 'நா எதுனா வந்துட்டு தப்பா சொல்லிருந்தா என்ன மன்னிச்சுருங்க ஆனா வந்துட்டு இனிமேல் யார கூப்பிடாலுமே கரெக்ட் டைமுக்கு போயி அவுங்கள கொண்டு போயி விட்ருங்க ஏன்னா அவுங்களுக்கு அதுவே வாழ்க்கையா கூட அமையலாம் சேரிங்களா அண்ணா ஓகே அண்ணா',\n",
              " 'normalized': 'நான் எதனா வந்துட்டு தப்பாக சொல்லியிருந்தா என்னை மன்னிச்சுடுங்க ஆனால் வந்துட்டு இனிமேல் யாரை கூப்பிட்டாலுமே கரெக்ட் டைமுக்கு போய் அவங்கள கொண்டு போய் விட்டுருங்க ஏன்னால் அவங்களுக்கு அதுவே வாழ்க்கையாக கூட அமையலாம் சரிங்களா அண்ணா ஓகே அண்ணா',\n",
              " 'speaker_id': 'S4257183500382558',\n",
              " 'scenario': 0,\n",
              " 'task_name': 'Ola/Uber Prompts',\n",
              " 'gender': 0,\n",
              " 'age_group': 0,\n",
              " 'job_type': 1,\n",
              " 'qualification': 1,\n",
              " 'area': 0,\n",
              " 'district': 'Salem',\n",
              " 'state': 0,\n",
              " 'occupation': 'STUDENT',\n",
              " 'utterance_pitch_mean': 230.10704,\n",
              " 'utterance_pitch_std': 34.5232,\n",
              " 'snr': 39.9100227356,\n",
              " 'c50': 46.3007698059,\n",
              " 'speaking_rate': 20.803785994,\n",
              " 'cer': 'tensor(0.)',\n",
              " 'duration': 11.2960208333,\n",
              " 'audio': {'path': '3096224744236908_chunk_19_enhanced.wav',\n",
              "  'array': array([ 0.10333252,  0.12745667,  0.14057922, ..., -0.09536743,\n",
              "         -0.09786987, -0.0231781 ]),\n",
              "  'sampling_rate': 48000}}"
            ]
          },
          "metadata": {},
          "execution_count": 17
        }
      ]
    },
    {
      "cell_type": "code",
      "source": [
        "subset[514]['speaker_id']"
      ],
      "metadata": {
        "colab": {
          "base_uri": "https://localhost:8080/",
          "height": 36
        },
        "id": "HoaR0dhamHG2",
        "outputId": "64af28e8-bfcd-4e78-f542-e08bb31ec046"
      },
      "execution_count": 18,
      "outputs": [
        {
          "output_type": "execute_result",
          "data": {
            "text/plain": [
              "'S4259027400309283'"
            ],
            "application/vnd.google.colaboratory.intrinsic+json": {
              "type": "string"
            }
          },
          "metadata": {},
          "execution_count": 18
        }
      ]
    },
    {
      "cell_type": "code",
      "source": [
        "import random\n",
        "\n",
        "random.seed(42)\n",
        "random.shuffle(subset)#shuffling the dataset"
      ],
      "metadata": {
        "id": "hyhv5lkLfTpY"
      },
      "execution_count": 19,
      "outputs": []
    },
    {
      "cell_type": "code",
      "source": [
        "subset[514]['speaker_id']"
      ],
      "metadata": {
        "colab": {
          "base_uri": "https://localhost:8080/",
          "height": 36
        },
        "id": "jqxHUci0fZJl",
        "outputId": "a34ae07d-4f1b-4df0-cae2-75dccf4a3a16"
      },
      "execution_count": 22,
      "outputs": [
        {
          "output_type": "execute_result",
          "data": {
            "text/plain": [
              "'S4256570100331491'"
            ],
            "application/vnd.google.colaboratory.intrinsic+json": {
              "type": "string"
            }
          },
          "metadata": {},
          "execution_count": 22
        }
      ]
    },
    {
      "cell_type": "code",
      "source": [
        "#loading wav2vec model to extract features from audio files.\n",
        "import torch\n",
        "from transformers import Wav2Vec2Processor, Wav2Vec2Model\n",
        "from tqdm import tqdm\n",
        "# Load the Wav2Vec2 processor and model\n",
        "processor = Wav2Vec2Processor.from_pretrained(\"facebook/wav2vec2-base-960h\")\n",
        "model = Wav2Vec2Model.from_pretrained(\"facebook/wav2vec2-base-960h\")"
      ],
      "metadata": {
        "colab": {
          "base_uri": "https://localhost:8080/"
        },
        "id": "tunnLSPaffap",
        "outputId": "02ac44b6-d021-447e-9def-65229b224a35"
      },
      "execution_count": 23,
      "outputs": [
        {
          "output_type": "stream",
          "name": "stderr",
          "text": [
            "Some weights of Wav2Vec2Model were not initialized from the model checkpoint at facebook/wav2vec2-base-960h and are newly initialized: ['wav2vec2.masked_spec_embed']\n",
            "You should probably TRAIN this model on a down-stream task to be able to use it for predictions and inference.\n"
          ]
        }
      ]
    },
    {
      "cell_type": "code",
      "source": [
        "call_count=0\n",
        "def extract_wav2vec_features(batch):\n",
        "    global call_count\n",
        "    call_count+=1\n",
        "    print(call_count)\n",
        "    inputs = processor(batch[\"audio\"][\"array\"], sampling_rate=16000, return_tensors=\"pt\", padding=True)\n",
        "    with torch.no_grad():\n",
        "        outputs = model(**inputs,output_hidden_states=True)\n",
        "        # Pass through model and extract hidden states\n",
        "    # Extract 9th and 11th layer hidden states\n",
        "    layer_9_hidden_states = outputs.hidden_states[9]\n",
        "    layer_11_hidden_states = outputs.hidden_states[11]\n",
        "\n",
        "    # Average the two layers\n",
        "    averaged_features = torch.mean(torch.stack([layer_9_hidden_states, layer_11_hidden_states]), dim=0)\n",
        "\n",
        "    return averaged_features\n",
        ""
      ],
      "metadata": {
        "id": "xmopAfFFnqJY"
      },
      "execution_count": 24,
      "outputs": []
    },
    {
      "cell_type": "code",
      "source": [
        "extract_wav2vec_features(subset[0]).shape"
      ],
      "metadata": {
        "colab": {
          "base_uri": "https://localhost:8080/"
        },
        "id": "QrXH6AfFn7xM",
        "outputId": "5af26ce5-8807-40d9-84da-9c585573cc89"
      },
      "execution_count": 25,
      "outputs": [
        {
          "output_type": "stream",
          "name": "stdout",
          "text": [
            "1\n"
          ]
        },
        {
          "output_type": "execute_result",
          "data": {
            "text/plain": [
              "torch.Size([1, 1622, 768])"
            ]
          },
          "metadata": {},
          "execution_count": 25
        }
      ]
    },
    {
      "cell_type": "code",
      "source": [
        "#Number of parameters in the model\n",
        "\n",
        "# Count the parameters\n",
        "num_params = sum(p.numel() for p in model.parameters())\n",
        "\n",
        "# Convert to millions and round to two decimal places\n",
        "num_params_millions = round(num_params / 1e6, 2)\n",
        "\n",
        "print(f\"Total parameters (in millions): {num_params_millions}\")"
      ],
      "metadata": {
        "colab": {
          "base_uri": "https://localhost:8080/"
        },
        "id": "9P_tXM0gpdMa",
        "outputId": "23799660-1507-4416-f822-ab1e3c4ab1fd"
      },
      "execution_count": 26,
      "outputs": [
        {
          "output_type": "stream",
          "name": "stdout",
          "text": [
            "Total parameters (in millions): 94.37\n"
          ]
        }
      ]
    },
    {
      "cell_type": "code",
      "source": [
        "### checking the model\n",
        "print(model)"
      ],
      "metadata": {
        "colab": {
          "base_uri": "https://localhost:8080/"
        },
        "id": "qn600v8ajhvK",
        "outputId": "94acb070-8fca-4bfd-833b-e2234dfaf8c2"
      },
      "execution_count": 27,
      "outputs": [
        {
          "output_type": "stream",
          "name": "stdout",
          "text": [
            "Wav2Vec2Model(\n",
            "  (feature_extractor): Wav2Vec2FeatureEncoder(\n",
            "    (conv_layers): ModuleList(\n",
            "      (0): Wav2Vec2GroupNormConvLayer(\n",
            "        (conv): Conv1d(1, 512, kernel_size=(10,), stride=(5,), bias=False)\n",
            "        (activation): GELUActivation()\n",
            "        (layer_norm): GroupNorm(512, 512, eps=1e-05, affine=True)\n",
            "      )\n",
            "      (1-4): 4 x Wav2Vec2NoLayerNormConvLayer(\n",
            "        (conv): Conv1d(512, 512, kernel_size=(3,), stride=(2,), bias=False)\n",
            "        (activation): GELUActivation()\n",
            "      )\n",
            "      (5-6): 2 x Wav2Vec2NoLayerNormConvLayer(\n",
            "        (conv): Conv1d(512, 512, kernel_size=(2,), stride=(2,), bias=False)\n",
            "        (activation): GELUActivation()\n",
            "      )\n",
            "    )\n",
            "  )\n",
            "  (feature_projection): Wav2Vec2FeatureProjection(\n",
            "    (layer_norm): LayerNorm((512,), eps=1e-05, elementwise_affine=True)\n",
            "    (projection): Linear(in_features=512, out_features=768, bias=True)\n",
            "    (dropout): Dropout(p=0.1, inplace=False)\n",
            "  )\n",
            "  (encoder): Wav2Vec2Encoder(\n",
            "    (pos_conv_embed): Wav2Vec2PositionalConvEmbedding(\n",
            "      (conv): ParametrizedConv1d(\n",
            "        768, 768, kernel_size=(128,), stride=(1,), padding=(64,), groups=16\n",
            "        (parametrizations): ModuleDict(\n",
            "          (weight): ParametrizationList(\n",
            "            (0): _WeightNorm()\n",
            "          )\n",
            "        )\n",
            "      )\n",
            "      (padding): Wav2Vec2SamePadLayer()\n",
            "      (activation): GELUActivation()\n",
            "    )\n",
            "    (layer_norm): LayerNorm((768,), eps=1e-05, elementwise_affine=True)\n",
            "    (dropout): Dropout(p=0.1, inplace=False)\n",
            "    (layers): ModuleList(\n",
            "      (0-11): 12 x Wav2Vec2EncoderLayer(\n",
            "        (attention): Wav2Vec2SdpaAttention(\n",
            "          (k_proj): Linear(in_features=768, out_features=768, bias=True)\n",
            "          (v_proj): Linear(in_features=768, out_features=768, bias=True)\n",
            "          (q_proj): Linear(in_features=768, out_features=768, bias=True)\n",
            "          (out_proj): Linear(in_features=768, out_features=768, bias=True)\n",
            "        )\n",
            "        (dropout): Dropout(p=0.1, inplace=False)\n",
            "        (layer_norm): LayerNorm((768,), eps=1e-05, elementwise_affine=True)\n",
            "        (feed_forward): Wav2Vec2FeedForward(\n",
            "          (intermediate_dropout): Dropout(p=0.1, inplace=False)\n",
            "          (intermediate_dense): Linear(in_features=768, out_features=3072, bias=True)\n",
            "          (intermediate_act_fn): GELUActivation()\n",
            "          (output_dense): Linear(in_features=3072, out_features=768, bias=True)\n",
            "          (output_dropout): Dropout(p=0.1, inplace=False)\n",
            "        )\n",
            "        (final_layer_norm): LayerNorm((768,), eps=1e-05, elementwise_affine=True)\n",
            "      )\n",
            "    )\n",
            "  )\n",
            ")\n"
          ]
        }
      ]
    },
    {
      "cell_type": "code",
      "source": [
        "###checking the 7th and 12th layer\n",
        "\n",
        "call_count=0\n",
        "def extract_wav2vec_features(batch):\n",
        "    global call_count\n",
        "    call_count+=1\n",
        "    print(call_count)\n",
        "    inputs = processor(batch[\"audio\"][\"array\"], sampling_rate=16000, return_tensors=\"pt\", padding=True)\n",
        "    with torch.no_grad():\n",
        "        outputs = model(**inputs,output_hidden_states=True)\n",
        "        # Pass through model and extract hidden states\n",
        "    # Extract 9th and 11th layer hidden states\n",
        "    layer_7_hidden_states = outputs.hidden_states[7]\n",
        "    layer_12_hidden_states = outputs.hidden_states[12]\n",
        "\n",
        "    # Average the two layers\n",
        "    averaged_features = torch.mean(torch.stack([layer_7_hidden_states, layer_12_hidden_states]), dim=0)\n",
        "\n",
        "    return averaged_features"
      ],
      "metadata": {
        "id": "SzV8lKMNsBFD"
      },
      "execution_count": 28,
      "outputs": []
    },
    {
      "cell_type": "code",
      "source": [
        "extract_wav2vec_features(subset[0])"
      ],
      "metadata": {
        "colab": {
          "base_uri": "https://localhost:8080/"
        },
        "id": "zN8ThG3etTDi",
        "outputId": "c5c4917e-5c91-46d2-f76b-c493339bbe14"
      },
      "execution_count": 29,
      "outputs": [
        {
          "output_type": "stream",
          "name": "stdout",
          "text": [
            "1\n"
          ]
        },
        {
          "output_type": "execute_result",
          "data": {
            "text/plain": [
              "tensor([[[ 7.2330e-02, -2.9224e-02, -7.9637e-02,  ..., -6.4877e-03,\n",
              "           2.1220e-02, -5.3084e-02],\n",
              "         [ 1.1357e-01, -3.8196e-02, -6.1731e-02,  ...,  2.0457e-02,\n",
              "           1.2855e-02, -2.4083e-02],\n",
              "         [ 1.1619e-01, -4.9521e-02, -8.5681e-02,  ...,  1.7221e-02,\n",
              "          -1.7617e-04,  1.8520e-02],\n",
              "         ...,\n",
              "         [ 1.0888e-02, -1.8063e-02,  1.5697e-01,  ..., -1.9450e-01,\n",
              "           1.3999e-01, -7.9198e-02],\n",
              "         [ 5.9432e-02, -1.7651e-02,  1.7657e-01,  ..., -1.3508e-01,\n",
              "           1.4229e-01, -6.5013e-02],\n",
              "         [ 5.0563e-02, -1.6680e-02,  1.8727e-01,  ..., -1.2202e-01,\n",
              "           1.5047e-01, -6.9425e-02]]])"
            ]
          },
          "metadata": {},
          "execution_count": 29
        }
      ]
    },
    {
      "cell_type": "code",
      "source": [
        "for i , k in enumerate(dataset_tamil):\n",
        "  if i == 24:\n",
        "    print(k['gender'])\n",
        "    break"
      ],
      "metadata": {
        "colab": {
          "base_uri": "https://localhost:8080/"
        },
        "id": "Uy97Pme5tmCa",
        "outputId": "de3f461e-af02-48e7-fcd2-8b56b15ddf67"
      },
      "execution_count": 30,
      "outputs": [
        {
          "output_type": "stream",
          "name": "stdout",
          "text": [
            "0\n"
          ]
        }
      ]
    },
    {
      "cell_type": "code",
      "source": [
        "for i , k in enumerate(dataset_tamil):\n",
        "  if i == 24:\n",
        "    print(k)\n",
        "    break"
      ],
      "metadata": {
        "colab": {
          "base_uri": "https://localhost:8080/"
        },
        "id": "jN2dz7-fuKu0",
        "outputId": "0b5220c0-5a3a-49c3-b31a-9b2d4fea1301"
      },
      "execution_count": 31,
      "outputs": [
        {
          "output_type": "stream",
          "name": "stdout",
          "text": [
            "{'text': 'அது இல்லைனா சும்மா கட்டி மறு எண்ணைய் ஊற்றி சரி ஓகே இந்த இந்தளவுக்குதான் இது இருக்குது அப்படினு சொல்லி நீவி கை கால் நல்லா நீவி விட்டு கட்டு போட்டு இத்தனை நாளைக்கி கட்டு', 'lang': 0, 'samples': 561702, 'verbatim': 'அது இல்லனா சும்மா கட்டி மறு எண்ணை ஊத்தி செரி ஓகே இந்த இந்தளவுக்குதான் இது இருக்கு அப்டினு சொல்லி நீவி கை கால் நல்லாமே நீவி உட்டு கட்டு போட்டு இத்தன நாளக்கி கட்டு', 'normalized': 'அது இல்லைனா சும்மா கட்டி மறு எண்ணைய் ஊற்றி சரி ஓகே இந்த இந்தளவுக்குதான் இது இருக்குது அப்படினு சொல்லி நீவி கை கால் நல்லா நீவி விட்டு கட்டு போட்டு இத்தனை நாளைக்கி கட்டு', 'speaker_id': 'S4258334400348893', 'scenario': 0, 'task_name': 'Daily Life', 'gender': 0, 'age_group': 2, 'job_type': 0, 'qualification': 3, 'area': 0, 'district': 'Coimbatore', 'state': 0, 'occupation': 'Hand lumber', 'utterance_pitch_mean': 172.32358, 'utterance_pitch_std': 29.145819, 'snr': 62.4980964661, 'c50': 59.2988891602, 'speaking_rate': 13.1113862641, 'cer': 'tensor(0.0443)', 'duration': 12.7370208333, 'audio': {'path': '3096224744155158_chunk_5_enhanced.wav', 'array': array([-0.00100708,  0.00041199,  0.00027466, ...,  0.00387573,\n",
            "        0.0032959 ,  0.00128174]), 'sampling_rate': 48000}}\n"
          ]
        }
      ]
    },
    {
      "cell_type": "code",
      "source": [
        "subset[0]"
      ],
      "metadata": {
        "colab": {
          "base_uri": "https://localhost:8080/"
        },
        "id": "CgBDWC_m3InK",
        "outputId": "24e6331f-3a9d-4f14-e8ab-248e8f2efa76"
      },
      "execution_count": 32,
      "outputs": [
        {
          "output_type": "execute_result",
          "data": {
            "text/plain": [
              "{'text': 'শাড়ি তৈরি করে তাঁতের শাড়ি তৈরি করে ন্যায্য মূল্যে বিক্রি করে এবং আমাদের এখান থেকে অনেক মানুষ সেখানে শাড়ি কিনতে যার ফলে ন্যায্য মূল্য না পাওয়ার জন্য তাদের খুব সমস্যা হয়',\n",
              " 'lang': 0,\n",
              " 'samples': 477030,\n",
              " 'verbatim': 'শাড়ি তৈরি করে তাঁতের শাড়ি তৈরি করে ন্যায্য মূল্যে বিক্রি করে এবং আমাদের এখান থেকে অনেক মানুষ সেখানে শাড়ি কিনতে যার ফলে ন্যায্য মূল্য না পাওয়ার জন্য তাদের খুব সমস্যা হয়',\n",
              " 'normalized': 'শাড়ি তৈরি করে তাঁতের শাড়ি তৈরি করে ন্যায্য মূল্যে বিক্রি করে এবং আমাদের এখান থেকে অনেক মানুষ সেখানে শাড়ি কিনতে যার ফলে ন্যায্য মূল্য না পাওয়ার জন্য তাদের খুব সমস্যা হয়',\n",
              " 'speaker_id': 'S4258014500311887',\n",
              " 'scenario': 0,\n",
              " 'task_name': 'District Specific ',\n",
              " 'gender': 0,\n",
              " 'age_group': 2,\n",
              " 'job_type': 2,\n",
              " 'qualification': 3,\n",
              " 'area': 0,\n",
              " 'district': 'Nadia',\n",
              " 'state': 0,\n",
              " 'occupation': 'House wife',\n",
              " 'utterance_pitch_mean': 215.095,\n",
              " 'utterance_pitch_std': 14.8906975,\n",
              " 'snr': 55.088432312,\n",
              " 'c50': 59.8574905396,\n",
              " 'speaking_rate': 15.4386316319,\n",
              " 'cer': 'tensor(0.0051)',\n",
              " 'duration': 10.8170208333,\n",
              " 'audio': {'path': '1407374883665406_chunk_5_enhanced.wav',\n",
              "  'array': array([-0.01712036,  0.00930786,  0.03201294, ..., -0.00411987,\n",
              "         -0.00741577,  0.0012207 ]),\n",
              "  'sampling_rate': 48000}}"
            ]
          },
          "metadata": {},
          "execution_count": 32
        }
      ]
    },
    {
      "cell_type": "code",
      "source": [
        "import random\n",
        "import torch\n",
        "import numpy as np\n",
        "import gc\n",
        "from datasets import load_dataset\n",
        "from transformers import Wav2Vec2Processor, Wav2Vec2Model\n",
        "from sklearn.model_selection import train_test_split\n",
        "from sklearn.linear_model import LogisticRegression\n",
        "from sklearn.metrics import accuracy_score\n",
        "from tqdm import tqdm\n",
        "import joblib\n",
        "\n",
        "# Set random seed for reproducibility\n",
        "random.seed(42)\n",
        "torch.manual_seed(42)\n",
        "np.random.seed(42)\n",
        "\n",
        "# Define datasets\n",
        "languages = {\n",
        "    \"Tamil\": (\"SPRINGLab/IndicVoices-R_Tamil\", 0),\n",
        "    \"Hindi\": (\"SPRINGLab/IndicVoices-R_Hindi\", 1),\n",
        "    \"Bengali\": (\"SPRINGLab/IndicVoices-R_Bengali\", 2)\n",
        "}\n",
        "\n",
        "# Load datasets and process\n",
        "data_combined = []\n",
        "for lang, (dataset_name, label) in languages.items():\n",
        "    dataset = load_dataset(dataset_name, split=\"train\", streaming=True)\n",
        "    subset = dataset.take(500)\n",
        "\n",
        "    for example in subset:\n",
        "        example[\"lang\"] = label  # Assign label\n",
        "        data_combined.append(example)\n",
        "\n",
        "# Shuffle the combined dataset\n",
        "random.shuffle(data_combined)"
      ],
      "metadata": {
        "id": "C0mfjTab5fyA"
      },
      "execution_count": 8,
      "outputs": []
    },
    {
      "cell_type": "code",
      "source": [
        "print(type(data_combined), data_combined[0])"
      ],
      "metadata": {
        "colab": {
          "base_uri": "https://localhost:8080/"
        },
        "id": "0jwCID035xJy",
        "outputId": "0fb3e2a0-3d30-4a2b-e152-de203405a0db"
      },
      "execution_count": 11,
      "outputs": [
        {
          "output_type": "stream",
          "name": "stdout",
          "text": [
            "<class 'list'> {'text': 'শাড়ি তৈরি করে তাঁতের শাড়ি তৈরি করে ন্যায্য মূল্যে বিক্রি করে এবং আমাদের এখান থেকে অনেক মানুষ সেখানে শাড়ি কিনতে যার ফলে ন্যায্য মূল্য না পাওয়ার জন্য তাদের খুব সমস্যা হয়', 'lang': 2, 'samples': 477030, 'verbatim': 'শাড়ি তৈরি করে তাঁতের শাড়ি তৈরি করে ন্যায্য মূল্যে বিক্রি করে এবং আমাদের এখান থেকে অনেক মানুষ সেখানে শাড়ি কিনতে যার ফলে ন্যায্য মূল্য না পাওয়ার জন্য তাদের খুব সমস্যা হয়', 'normalized': 'শাড়ি তৈরি করে তাঁতের শাড়ি তৈরি করে ন্যায্য মূল্যে বিক্রি করে এবং আমাদের এখান থেকে অনেক মানুষ সেখানে শাড়ি কিনতে যার ফলে ন্যায্য মূল্য না পাওয়ার জন্য তাদের খুব সমস্যা হয়', 'speaker_id': 'S4258014500311887', 'scenario': 0, 'task_name': 'District Specific ', 'gender': 0, 'age_group': 2, 'job_type': 2, 'qualification': 3, 'area': 0, 'district': 'Nadia', 'state': 0, 'occupation': 'House wife', 'utterance_pitch_mean': 215.095, 'utterance_pitch_std': 14.8906975, 'snr': 55.088432312, 'c50': 59.8574905396, 'speaking_rate': 15.4386316319, 'cer': 'tensor(0.0051)', 'duration': 10.8170208333, 'audio': {'path': '1407374883665406_chunk_5_enhanced.wav', 'array': array([-0.01712036,  0.00930786,  0.03201294, ..., -0.00411987,\n",
            "       -0.00741577,  0.0012207 ]), 'sampling_rate': 48000}}\n"
          ]
        }
      ]
    },
    {
      "cell_type": "code",
      "source": [
        "# Load Wav2Vec2 processor and model\n",
        "device = \"cuda\" if torch.cuda.is_available() else \"cpu\"\n",
        "processor = Wav2Vec2Processor.from_pretrained(\"facebook/wav2vec2-base-960h\")\n",
        "model = Wav2Vec2Model.from_pretrained(\"facebook/wav2vec2-base-960h\").to(device)"
      ],
      "metadata": {
        "colab": {
          "base_uri": "https://localhost:8080/"
        },
        "id": "tHi0vr3f7J7a",
        "outputId": "32cc3d5b-2cfc-416d-ce45-2de4c29fbb6c"
      },
      "execution_count": 12,
      "outputs": [
        {
          "output_type": "stream",
          "name": "stderr",
          "text": [
            "Some weights of Wav2Vec2Model were not initialized from the model checkpoint at facebook/wav2vec2-base-960h and are newly initialized: ['wav2vec2.masked_spec_embed']\n",
            "You should probably TRAIN this model on a down-stream task to be able to use it for predictions and inference.\n"
          ]
        }
      ]
    },
    {
      "cell_type": "code",
      "source": [
        "def extract_features(audio_data):\n",
        "    \"\"\"Extract features from Wav2Vec2 model with proper aggregation.\"\"\"\n",
        "    input_values = processor(\n",
        "        audio_data,\n",
        "        sampling_rate=16000,\n",
        "        return_tensors=\"pt\",\n",
        "        padding=True\n",
        "    )['input_values'].to(device)\n",
        "\n",
        "    with torch.no_grad():\n",
        "        outputs = model(input_values, output_hidden_states=True)\n",
        "        layer_9 = outputs.hidden_states[9].cpu()\n",
        "        layer_11 = outputs.hidden_states[11].cpu()\n",
        "\n",
        "        # Average layers and time dimension\n",
        "        combined = (layer_9 + layer_11) / 2.0\n",
        "        features = torch.mean(combined, dim=1).squeeze().numpy()\n",
        "\n",
        "    # Free GPU memory\n",
        "    del outputs, layer_9, layer_11, input_values, combined\n",
        "    torch.cuda.empty_cache()\n",
        "    return features\n",
        "\n"
      ],
      "metadata": {
        "id": "OIcM9Vwt0v7t"
      },
      "execution_count": 13,
      "outputs": []
    },
    {
      "cell_type": "code",
      "source": [
        "# Process data in chunks and save separately\n",
        "chunk_size = 100\n",
        "features_filenames = []\n",
        "labels_filenames = []\n",
        "chunk_count = 0\n",
        "\n",
        "features_list = []\n",
        "labels_list = []\n",
        "count = 0\n",
        "\n",
        "for sample in tqdm(data_combined, desc=\"Extracting Features\", total=len(data_combined)):\n",
        "    try:\n",
        "        audio_array = sample['audio']['array']\n",
        "        label = sample['lang']\n",
        "\n",
        "        features = extract_features(audio_array)\n",
        "        features_list.append(features)\n",
        "        labels_list.append(label)\n",
        "        count += 1\n",
        "\n",
        "        # Save chunks and reset\n",
        "        if count % chunk_size == 0:\n",
        "            features_fn = f\"features_{chunk_count}.pkl\"\n",
        "            labels_fn = f\"labels_{chunk_count}.pkl\"\n",
        "\n",
        "            joblib.dump(features_list, features_fn)\n",
        "            joblib.dump(labels_list, labels_fn)\n",
        "\n",
        "            features_filenames.append(features_fn)\n",
        "            labels_filenames.append(labels_fn)\n",
        "\n",
        "            features_list.clear()\n",
        "            labels_list.clear()\n",
        "            chunk_count += 1\n",
        "            gc.collect()\n",
        "\n",
        "    except Exception as e:\n",
        "        print(f\"Error processing sample: {e}\")\n",
        "\n",
        "# Save remaining data\n",
        "if features_list:\n",
        "    features_fn = f\"features_{chunk_count}.pkl\"\n",
        "    labels_fn = f\"labels_{chunk_count}.pkl\"\n",
        "\n",
        "    joblib.dump(features_list, features_fn)\n",
        "    joblib.dump(labels_list, labels_fn)\n",
        "\n",
        "    features_filenames.append(features_fn)\n",
        "    labels_filenames.append(labels_fn)\n",
        "    features_list.clear()\n",
        "    labels_list.clear()\n",
        "    chunk_count += 1\n",
        "\n",
        "# Load all chunks\n",
        "all_features = []\n",
        "for fn in features_filenames:\n",
        "    all_features.extend(joblib.load(fn))\n",
        "\n",
        "all_labels = []\n",
        "for fn in labels_filenames:\n",
        "    all_labels.extend(joblib.load(fn))\n",
        "\n",
        "# Convert to numpy arrays\n",
        "X = np.vstack(all_features)\n",
        "y = np.array(all_labels)"
      ],
      "metadata": {
        "colab": {
          "base_uri": "https://localhost:8080/"
        },
        "id": "Nj0sd_na3_6Z",
        "outputId": "1cde055e-6c46-4136-e948-c75762f37de4"
      },
      "execution_count": 14,
      "outputs": [
        {
          "output_type": "stream",
          "name": "stderr",
          "text": [
            "Extracting Features: 100%|██████████| 1500/1500 [05:15<00:00,  4.75it/s]\n"
          ]
        }
      ]
    },
    {
      "cell_type": "code",
      "source": [
        "# Train-test split\n",
        "X_train, X_test, y_train, y_test = train_test_split(\n",
        "    X, y,\n",
        "    test_size=0.2,\n",
        "    random_state=42,\n",
        "    stratify=y\n",
        ")\n",
        "\n",
        "# Train and evaluate\n",
        "clf = LogisticRegression(random_state=42, max_iter=1000)\n",
        "clf.fit(X_train, y_train)\n",
        "\n",
        "y_pred = clf.predict(X_test)\n",
        "accuracy = accuracy_score(y_test, y_pred)\n",
        "\n",
        "print(f\"Test Accuracy: {accuracy * 100:.2f}%\")"
      ],
      "metadata": {
        "colab": {
          "base_uri": "https://localhost:8080/"
        },
        "id": "QnlIoMPK3_Ji",
        "outputId": "e3e803bd-0382-4d34-935b-2270f1daab54"
      },
      "execution_count": 15,
      "outputs": [
        {
          "output_type": "stream",
          "name": "stdout",
          "text": [
            "Test Accuracy: 74.33%\n"
          ]
        }
      ]
    },
    {
      "cell_type": "markdown",
      "source": [],
      "metadata": {
        "id": "BFAPl6PR9LU1"
      }
    },
    {
      "cell_type": "markdown",
      "source": [],
      "metadata": {
        "id": "96x1t-TM9MrE"
      }
    },
    {
      "cell_type": "code",
      "source": [
        " #Create validation split from X_train\n",
        "_, X_val, _, y_val = train_test_split(\n",
        "    X_train, y_train,\n",
        "    test_size=0.2,\n",
        "    random_state=42,\n",
        "    stratify=y_train\n",
        ")\n",
        "\n",
        "# Predict using existing model\n",
        "val_pred = clf.predict(X_val)\n",
        "val_accuracy = accuracy_score(y_val, val_pred)\n",
        "print(f\"Validation Accuracy: {val_accuracy * 100:.2f}%\")"
      ],
      "metadata": {
        "colab": {
          "base_uri": "https://localhost:8080/"
        },
        "id": "J6wC0mm_0fDE",
        "outputId": "2e2f020f-5b41-407b-a1c8-c8c190546ddc"
      },
      "execution_count": 17,
      "outputs": [
        {
          "output_type": "stream",
          "name": "stdout",
          "text": [
            "Validation Accuracy: 79.58%\n"
          ]
        }
      ]
    },
    {
      "cell_type": "code",
      "source": [
        "from sklearn.model_selection import train_test_split\n",
        "\n",
        "# Split the dataset into train, validation, and test sets\n",
        "train_data, test_data = train_test_split(subset_with_features, test_size=0.2)\n",
        "train_data, val_data = train_test_split(train_data, test_size=0.1)\n",
        "\n",
        "# Extract features and labels\n",
        "def prepare_data(data):\n",
        "    features = [item[\"features\"] for item in data]\n",
        "    labels = [item[\"label\"] for item in data]\n",
        "    return torch.tensor(features), torch.tensor(labels)\n",
        "\n",
        "\n",
        "train_features, train_labels = prepare_data(train_data)\n",
        "val_features, val_labels = prepare_data(val_data)\n",
        "test_features, test_labels = prepare_data(test_data)"
      ],
      "metadata": {
        "id": "Vpbqm6fZ0Z3S"
      },
      "execution_count": null,
      "outputs": []
    },
    {
      "cell_type": "code",
      "source": [],
      "metadata": {
        "id": "T5rP62wP0ZiT"
      },
      "execution_count": null,
      "outputs": []
    },
    {
      "cell_type": "code",
      "source": [],
      "metadata": {
        "id": "OVEt5qJDwetT"
      },
      "execution_count": null,
      "outputs": []
    }
  ]
}