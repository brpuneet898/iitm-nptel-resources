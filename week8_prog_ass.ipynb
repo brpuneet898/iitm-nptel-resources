{
 "cells": [
  {
   "cell_type": "markdown",
   "metadata": {},
   "source": [
    "The kingdom is falling into ruin. People live in fear. Dragons pillage, kill, and just generally cause as much havoc as they possibly can. The king has just sent out a royal decree:\n",
    "\n",
    "To any man out there who is able to bring me the heads of K dragons, I shall bequeath a lordship–to him, his sons and his grandsons, till the end of time.\n",
    "Having seen this royal decree, and knowing that you are capable of killing dragons thanks to your extensive medieval combat training, you set out on a quest to hunt down the evil creatures. Being a busy kind of guy, you would like to complete your quest quickly and kill K dragons through the shortest route.\n",
    "\n",
    "The kingdom is arranged in a grid with R rows, numbered 0 to R-1, and C columns, numbered 0 to C-1 You start your quest at the top left corner of the grid, (0,0).\n",
    "\n",
    "The total number of dragons in the kingdom is D, of which you have to kill K. Dragons are very territorial in nature, so each row of the grid contains at most one dragon. Also, since the kingdom is situated on a hill, you travel only downwards on the grid, though you may move left or right as you please.\n",
    "\n",
    "You are told that no two dragons are on the same row of the grid. Also, no dragon is at position (0,0).\n",
    "\n",
    "For example, suppose the grid has 5 rows and 5 columns with 3 dragons, of which you have to kill any 2. The three dragons are located at (1,4), (2,3) and (4,4), as shown below. In this case, your shortest route is to take 7 steps and kill the dragons in row 1 and row 2. Killing any other combination of 2 dragons takes 8 steps, so this is the minimum possible. Note that once you've killed K dragons, you don't incur any cost to return home. You just want to find how long it takes to do all the killing."
   ]
  },
  {
   "cell_type": "code",
   "execution_count": null,
   "metadata": {
    "vscode": {
     "languageId": "plaintext"
    }
   },
   "outputs": [],
   "source": [
    "import sys\n",
    "\n",
    "def min_distance_to_kill_dragons(R, C, K, D, dragons):\n",
    "    # Step 1: Sort dragons by row number\n",
    "    dragons.sort()\n",
    "    \n",
    "    # Step 2: Initialize DP table with large values\n",
    "    INF = float('inf')\n",
    "    dp = [[INF] * (K + 1) for _ in range(D)]\n",
    "    \n",
    "    # Step 3: Base Case - Killing first dragon\n",
    "    for i in range(D):\n",
    "        r, c = dragons[i]\n",
    "        dp[i][1] = r + abs(c)  # Distance from (0,0) to (r,c)\n",
    "\n",
    "    # Step 4: Fill DP table\n",
    "    for j in range(2, K + 1):  # Killing at least 2 dragons\n",
    "        for i in range(D):\n",
    "            r_i, c_i = dragons[i]\n",
    "            for prev in range(i):  # Transition from any previous dragon\n",
    "                r_p, c_p = dragons[prev]\n",
    "                dist = abs(r_i - r_p) + abs(c_i - c_p)\n",
    "                dp[i][j] = min(dp[i][j], dp[prev][j-1] + dist)\n",
    "\n",
    "    # Step 5: Find the minimum distance for killing exactly K dragons\n",
    "    return min(dp[i][K] for i in range(K-1, D))\n",
    "\n",
    "# Read input\n",
    "R, C, K, D = map(int, sys.stdin.readline().split())\n",
    "dragons = [tuple(map(int, sys.stdin.readline().split())) for _ in range(D)]\n",
    "\n",
    "print(min_distance_to_kill_dragons(R, C, K, D, dragons))"
   ]
  }
 ],
 "metadata": {
  "language_info": {
   "name": "python"
  }
 },
 "nbformat": 4,
 "nbformat_minor": 2
}
