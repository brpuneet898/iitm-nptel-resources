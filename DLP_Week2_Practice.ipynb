{
  "nbformat": 4,
  "nbformat_minor": 0,
  "metadata": {
    "colab": {
      "provenance": []
    },
    "kernelspec": {
      "name": "python3",
      "display_name": "Python 3"
    },
    "language_info": {
      "name": "python"
    }
  },
  "cells": [
    {
      "cell_type": "markdown",
      "source": [
        "# L6 - Building and Training a Tokenizer"
      ],
      "metadata": {
        "id": "A1xxW8sHT0FF"
      }
    },
    {
      "cell_type": "code",
      "source": [
        "!pip install datasets"
      ],
      "metadata": {
        "colab": {
          "base_uri": "https://localhost:8080/"
        },
        "id": "feX8A_4eUas5",
        "outputId": "93d5d8d5-c24c-4ebf-ac04-9d3d3d5e0623"
      },
      "execution_count": 8,
      "outputs": [
        {
          "output_type": "stream",
          "name": "stdout",
          "text": [
            "Requirement already satisfied: datasets in /usr/local/lib/python3.11/dist-packages (3.2.0)\n",
            "Requirement already satisfied: filelock in /usr/local/lib/python3.11/dist-packages (from datasets) (3.16.1)\n",
            "Requirement already satisfied: numpy>=1.17 in /usr/local/lib/python3.11/dist-packages (from datasets) (1.26.4)\n",
            "Requirement already satisfied: pyarrow>=15.0.0 in /usr/local/lib/python3.11/dist-packages (from datasets) (17.0.0)\n",
            "Requirement already satisfied: dill<0.3.9,>=0.3.0 in /usr/local/lib/python3.11/dist-packages (from datasets) (0.3.8)\n",
            "Requirement already satisfied: pandas in /usr/local/lib/python3.11/dist-packages (from datasets) (2.2.2)\n",
            "Requirement already satisfied: requests>=2.32.2 in /usr/local/lib/python3.11/dist-packages (from datasets) (2.32.3)\n",
            "Requirement already satisfied: tqdm>=4.66.3 in /usr/local/lib/python3.11/dist-packages (from datasets) (4.67.1)\n",
            "Requirement already satisfied: xxhash in /usr/local/lib/python3.11/dist-packages (from datasets) (3.5.0)\n",
            "Requirement already satisfied: multiprocess<0.70.17 in /usr/local/lib/python3.11/dist-packages (from datasets) (0.70.16)\n",
            "Requirement already satisfied: fsspec<=2024.9.0,>=2023.1.0 in /usr/local/lib/python3.11/dist-packages (from fsspec[http]<=2024.9.0,>=2023.1.0->datasets) (2024.9.0)\n",
            "Requirement already satisfied: aiohttp in /usr/local/lib/python3.11/dist-packages (from datasets) (3.11.11)\n",
            "Requirement already satisfied: huggingface-hub>=0.23.0 in /usr/local/lib/python3.11/dist-packages (from datasets) (0.27.1)\n",
            "Requirement already satisfied: packaging in /usr/local/lib/python3.11/dist-packages (from datasets) (24.2)\n",
            "Requirement already satisfied: pyyaml>=5.1 in /usr/local/lib/python3.11/dist-packages (from datasets) (6.0.2)\n",
            "Requirement already satisfied: aiohappyeyeballs>=2.3.0 in /usr/local/lib/python3.11/dist-packages (from aiohttp->datasets) (2.4.4)\n",
            "Requirement already satisfied: aiosignal>=1.1.2 in /usr/local/lib/python3.11/dist-packages (from aiohttp->datasets) (1.3.2)\n",
            "Requirement already satisfied: attrs>=17.3.0 in /usr/local/lib/python3.11/dist-packages (from aiohttp->datasets) (24.3.0)\n",
            "Requirement already satisfied: frozenlist>=1.1.1 in /usr/local/lib/python3.11/dist-packages (from aiohttp->datasets) (1.5.0)\n",
            "Requirement already satisfied: multidict<7.0,>=4.5 in /usr/local/lib/python3.11/dist-packages (from aiohttp->datasets) (6.1.0)\n",
            "Requirement already satisfied: propcache>=0.2.0 in /usr/local/lib/python3.11/dist-packages (from aiohttp->datasets) (0.2.1)\n",
            "Requirement already satisfied: yarl<2.0,>=1.17.0 in /usr/local/lib/python3.11/dist-packages (from aiohttp->datasets) (1.18.3)\n",
            "Requirement already satisfied: typing-extensions>=3.7.4.3 in /usr/local/lib/python3.11/dist-packages (from huggingface-hub>=0.23.0->datasets) (4.12.2)\n",
            "Requirement already satisfied: charset-normalizer<4,>=2 in /usr/local/lib/python3.11/dist-packages (from requests>=2.32.2->datasets) (3.4.1)\n",
            "Requirement already satisfied: idna<4,>=2.5 in /usr/local/lib/python3.11/dist-packages (from requests>=2.32.2->datasets) (3.10)\n",
            "Requirement already satisfied: urllib3<3,>=1.21.1 in /usr/local/lib/python3.11/dist-packages (from requests>=2.32.2->datasets) (2.3.0)\n",
            "Requirement already satisfied: certifi>=2017.4.17 in /usr/local/lib/python3.11/dist-packages (from requests>=2.32.2->datasets) (2024.12.14)\n",
            "Requirement already satisfied: python-dateutil>=2.8.2 in /usr/local/lib/python3.11/dist-packages (from pandas->datasets) (2.8.2)\n",
            "Requirement already satisfied: pytz>=2020.1 in /usr/local/lib/python3.11/dist-packages (from pandas->datasets) (2024.2)\n",
            "Requirement already satisfied: tzdata>=2022.7 in /usr/local/lib/python3.11/dist-packages (from pandas->datasets) (2024.2)\n",
            "Requirement already satisfied: six>=1.5 in /usr/local/lib/python3.11/dist-packages (from python-dateutil>=2.8.2->pandas->datasets) (1.17.0)\n"
          ]
        }
      ]
    },
    {
      "cell_type": "code",
      "execution_count": 9,
      "metadata": {
        "id": "JzZQwZK7TvrJ"
      },
      "outputs": [],
      "source": [
        "from datasets import load_dataset"
      ]
    },
    {
      "cell_type": "code",
      "source": [
        "bc = load_dataset(\"bookcorpus\", split=\"train\", trust_remote_code=True)"
      ],
      "metadata": {
        "id": "vpnrNp2HVGKd"
      },
      "execution_count": 10,
      "outputs": []
    },
    {
      "cell_type": "code",
      "source": [
        "num_samples=6\n",
        "for idx, sample in enumerate(bc[0:num_samples]['text']):\n",
        "  print(f'{idx}: {sample}')"
      ],
      "metadata": {
        "colab": {
          "base_uri": "https://localhost:8080/"
        },
        "id": "5qSFhyH8bJyo",
        "outputId": "7c5d816b-23ca-4988-e0ce-a11652a6ae95"
      },
      "execution_count": 12,
      "outputs": [
        {
          "output_type": "stream",
          "name": "stdout",
          "text": [
            "0: usually , he would be tearing around the living room , playing with his toys .\n",
            "1: but just one look at a minion sent him practically catatonic .\n",
            "2: that had been megan 's plan when she got him dressed earlier .\n",
            "3: he 'd seen the movie almost by mistake , considering he was a little young for the pg cartoon , but with older cousins , along with her brothers , mason was often exposed to things that were older .\n",
            "4: she liked to think being surrounded by adults and older kids was one reason why he was a such a good talker for his age .\n",
            "5: `` are n't you being a good boy ? ''\n"
          ]
        }
      ]
    },
    {
      "cell_type": "code",
      "source": [
        "from tokenizers import Tokenizer\n",
        "from tokenizers.normalizers import Lowercase\n",
        "from tokenizers.pre_tokenizers import Whitespace\n",
        "from tokenizers.models import BPE"
      ],
      "metadata": {
        "id": "qfzAvgehbU1r"
      },
      "execution_count": 17,
      "outputs": []
    },
    {
      "cell_type": "code",
      "source": [
        "model = BPE(unk_token=\"[UNK]\")\n",
        "tokenizer = Tokenizer(model)"
      ],
      "metadata": {
        "id": "NxlN8bMNbhKG"
      },
      "execution_count": 18,
      "outputs": []
    },
    {
      "cell_type": "code",
      "source": [
        "tokenizer.normalizer = Lowercase()\n",
        "tokenizer.pre_tokenizer = Whitespace()"
      ],
      "metadata": {
        "id": "gLThIGv_cC-5"
      },
      "execution_count": 19,
      "outputs": []
    },
    {
      "cell_type": "code",
      "source": [
        "from tokenizers.trainers import BpeTrainer\n",
        "trainer = BpeTrainer(vocab_size=32000, special_tokens=[\"[PAD]\", \"[UNK]\"], continuing_subword_prefix=\"##\")"
      ],
      "metadata": {
        "id": "JgFTkMr8cMIn"
      },
      "execution_count": 20,
      "outputs": []
    },
    {
      "cell_type": "code",
      "source": [
        "def get_examples(batch_size=1000):\n",
        "  for i in range(0, len(bc), batch_size):\n",
        "    yield bc[i : i + batch_size]['text']"
      ],
      "metadata": {
        "id": "q0vQ2SPxcmdM"
      },
      "execution_count": 21,
      "outputs": []
    },
    {
      "cell_type": "code",
      "source": [
        "from multiprocessing import cpu_count\n",
        "print(cpu_count())"
      ],
      "metadata": {
        "colab": {
          "base_uri": "https://localhost:8080/"
        },
        "id": "YeuDrJkNdDIJ",
        "outputId": "2ab0b1c3-3fe8-49b3-8d86-51bf59434550"
      },
      "execution_count": 22,
      "outputs": [
        {
          "output_type": "stream",
          "name": "stdout",
          "text": [
            "2\n"
          ]
        }
      ]
    },
    {
      "cell_type": "code",
      "source": [
        "tokenizer.train_from_iterator(get_examples(batch_size=10000), trainer = trainer, length=len(bc))"
      ],
      "metadata": {
        "id": "Jvbt95JEdJlh"
      },
      "execution_count": 23,
      "outputs": []
    },
    {
      "cell_type": "code",
      "source": [
        "tokenizer.model.save('model', prefix='hopper')"
      ],
      "metadata": {
        "colab": {
          "base_uri": "https://localhost:8080/"
        },
        "id": "r4Ue7uchfQrf",
        "outputId": "9dc482c2-eb01-4029-a0e8-530567910424"
      },
      "execution_count": 25,
      "outputs": [
        {
          "output_type": "execute_result",
          "data": {
            "text/plain": [
              "['model/hopper-vocab.json', 'model/hopper-merges.txt']"
            ]
          },
          "metadata": {},
          "execution_count": 25
        }
      ]
    },
    {
      "cell_type": "code",
      "source": [
        "with open('model/hopper-merges.txt', 'r') as file:\n",
        "  row = 0\n",
        "  num_lines = 10\n",
        "  for line in file.readlines():\n",
        "    print(line)\n",
        "    row+=1\n",
        "    if row >= num_lines:\n",
        "      break"
      ],
      "metadata": {
        "colab": {
          "base_uri": "https://localhost:8080/"
        },
        "id": "VkNxEJ00fZCc",
        "outputId": "50c49b00-3f32-4b8b-e389-8734e945535d"
      },
      "execution_count": 26,
      "outputs": [
        {
          "output_type": "stream",
          "name": "stdout",
          "text": [
            "#version: 0.2\n",
            "\n",
            "##h ##e\n",
            "\n",
            "t ##he\n",
            "\n",
            "##i ##n\n",
            "\n",
            "##e ##r\n",
            "\n",
            "##e ##d\n",
            "\n",
            "##o ##u\n",
            "\n",
            "##n ##d\n",
            "\n",
            "##in ##g\n",
            "\n",
            "t ##o\n",
            "\n"
          ]
        }
      ]
    },
    {
      "cell_type": "code",
      "source": [
        "with open('model/hopper-merges.txt', 'r') as file:\n",
        "  row = 0\n",
        "  num_lines = 10\n",
        "  for line in reversed(file.readlines()):\n",
        "    print(line)\n",
        "    row+=1\n",
        "    if row >= num_lines:\n",
        "      break"
      ],
      "metadata": {
        "colab": {
          "base_uri": "https://localhost:8080/"
        },
        "id": "06PE6nGdf1j7",
        "outputId": "edf80692-1e7b-4410-fe74-c600064c3ca5"
      },
      "execution_count": 27,
      "outputs": [
        {
          "output_type": "stream",
          "name": "stdout",
          "text": [
            "mel ##anthe\n",
            "\n",
            "black ##er\n",
            "\n",
            "ad ##ject\n",
            "\n",
            "v ##ang\n",
            "\n",
            "betroth ##al\n",
            "\n",
            "tiptoe ##ing\n",
            "\n",
            "restroom ##s\n",
            "\n",
            "consol ##ing\n",
            "\n",
            "esp ##ionage\n",
            "\n",
            "influ ##x\n",
            "\n"
          ]
        }
      ]
    },
    {
      "cell_type": "code",
      "source": [
        "with open('model/hopper-merges.txt', 'r') as file:\n",
        "  lines = file.readlines()\n",
        "\n",
        "print(f'The total number of merges are - {len(lines)}')\n",
        "print(f'vocab size is - {tokenizer.get_vocab_size()}')"
      ],
      "metadata": {
        "colab": {
          "base_uri": "https://localhost:8080/"
        },
        "id": "aWyq7J5Mf93O",
        "outputId": "b3b963ba-cc0d-4dc1-8f45-19891183f3b3"
      },
      "execution_count": 29,
      "outputs": [
        {
          "output_type": "stream",
          "name": "stdout",
          "text": [
            "The total number of merges are - 31871\n",
            "vocab size is - 32000\n"
          ]
        }
      ]
    },
    {
      "cell_type": "markdown",
      "source": [
        "# L7 - Encoder and Decoder"
      ],
      "metadata": {
        "id": "CbfFHGK_jH9a"
      }
    },
    {
      "cell_type": "code",
      "source": [
        "sample = bc[0]['text']\n",
        "print(f'sample: {sample}')\n",
        "encoding = tokenizer.encode(sample)\n",
        "print(encoding)"
      ],
      "metadata": {
        "colab": {
          "base_uri": "https://localhost:8080/"
        },
        "id": "ihmgG0pbgLH5",
        "outputId": "1ceb4d7c-fa10-4277-ffdf-bf72c4fc87b3"
      },
      "execution_count": 30,
      "outputs": [
        {
          "output_type": "stream",
          "name": "stdout",
          "text": [
            "sample: usually , he would be tearing around the living room , playing with his toys .\n",
            "Encoding(num_tokens=16, attributes=[ids, type_ids, tokens, offsets, attention_mask, special_tokens_mask, overflowing])\n"
          ]
        }
      ]
    },
    {
      "cell_type": "code",
      "source": [
        "token_ids = encoding.ids\n",
        "tokens = encoding.tokens\n",
        "type_ids = encoding.type_ids\n",
        "attention_mask = encoding.attention_mask"
      ],
      "metadata": {
        "id": "Cy4olS4Ejdft"
      },
      "execution_count": 31,
      "outputs": []
    },
    {
      "cell_type": "code",
      "source": [
        "from tokenizers.tools import EncodingVisualizer\n",
        "visualizer = EncodingVisualizer(tokenizer=tokenizer)\n",
        "visualizer(text=sample)"
      ],
      "metadata": {
        "colab": {
          "base_uri": "https://localhost:8080/",
          "height": 145
        },
        "id": "b9y_CCbbjpGx",
        "outputId": "3d2570d0-6e66-4d79-87e2-bb4263b9b9a7"
      },
      "execution_count": 32,
      "outputs": [
        {
          "output_type": "display_data",
          "data": {
            "text/plain": [
              "<IPython.core.display.HTML object>"
            ],
            "text/html": [
              "\n",
              "    <html>\n",
              "        <head>\n",
              "            <style>\n",
              "                .tokenized-text {\n",
              "    width:100%;\n",
              "    padding:2rem;\n",
              "    max-height: 400px;\n",
              "    overflow-y: auto;\n",
              "    box-sizing:border-box;\n",
              "    line-height:4rem; /* Lots of space between lines */\n",
              "    font-family: \"Roboto Light\", \"Ubuntu Light\", \"Ubuntu\", monospace;\n",
              "    box-shadow: 2px 2px 2px rgba(0,0,0,0.2);\n",
              "    background-color: rgba(0,0,0,0.01);\n",
              "    letter-spacing:2px; /* Give some extra separation between chars */\n",
              "}\n",
              ".non-token{\n",
              "    /* White space and other things the tokenizer ignores*/\n",
              "    white-space: pre;\n",
              "    letter-spacing:4px;\n",
              "    border-top:1px solid #A0A0A0; /* A gentle border on top and bottom makes tabs more ovious*/\n",
              "    border-bottom:1px solid #A0A0A0;\n",
              "    line-height: 1rem;\n",
              "    height: calc(100% - 2px);\n",
              "}\n",
              "\n",
              ".token {\n",
              "    white-space: pre;\n",
              "    position:relative;\n",
              "    color:black;\n",
              "    letter-spacing:2px;\n",
              "}\n",
              "\n",
              ".annotation{\n",
              "    white-space:nowrap; /* Important - ensures that annotations appears even if the annotated text wraps a line */\n",
              "    border-radius:4px;\n",
              "    position:relative;\n",
              "    width:fit-content;\n",
              "}\n",
              ".annotation:before {\n",
              "    /*The before holds the text and the after holds the background*/\n",
              "    z-index:1000; /* Make sure this is above the background */\n",
              "    content:attr(data-label); /* The annotations label is on a data attribute */\n",
              "    color:white;\n",
              "    position:absolute;\n",
              "    font-size:1rem;\n",
              "    text-align:center;\n",
              "    font-weight:bold;\n",
              "\n",
              "    top:1.75rem;\n",
              "    line-height:0;\n",
              "    left:0;\n",
              "    width:100%;\n",
              "    padding:0.5rem 0;\n",
              "    /* These make it so an annotation doesn't stretch beyond the annotated text if the label is longer*/\n",
              "    overflow: hidden;\n",
              "    white-space: nowrap;\n",
              "    text-overflow:ellipsis;\n",
              "}\n",
              "\n",
              ".annotation:after {\n",
              "    content:attr(data-label); /* The content defines the width of the annotation*/\n",
              "    position:absolute;\n",
              "    font-size:0.75rem;\n",
              "    text-align:center;\n",
              "    font-weight:bold;\n",
              "    text-overflow:ellipsis;\n",
              "    top:1.75rem;\n",
              "    line-height:0;\n",
              "    overflow: hidden;\n",
              "    white-space: nowrap;\n",
              "\n",
              "    left:0;\n",
              "    width:100%; /* 100% of the parent, which is the annotation whose width is the tokens inside it*/\n",
              "\n",
              "    padding:0.5rem 0;\n",
              "    /* Nast hack below:\n",
              "    We set the annotations color in code because we don't know the colors at css time.\n",
              "    But you can't pass a color as a data attribute to get it into the pseudo element (this thing)\n",
              "    So to get around that, annotations have the color set on them with a style attribute and then we\n",
              "    can get the color with currentColor.\n",
              "    Annotations wrap tokens and tokens set the color back to black\n",
              "     */\n",
              "    background-color: currentColor;\n",
              "}\n",
              ".annotation:hover::after, .annotation:hover::before{\n",
              "    /* When the user hovers over an annotation expand the label to display in full\n",
              "     */\n",
              "    min-width: fit-content;\n",
              "}\n",
              "\n",
              ".annotation:hover{\n",
              "    /* Emphasize the annotation start end with a border on hover*/\n",
              "    border-color: currentColor;\n",
              "    border: 2px solid;\n",
              "}\n",
              ".special-token:not(:empty){\n",
              "    /*\n",
              "    A none empty special token is like UNK (as opposed to CLS which has no representation in the text )\n",
              "     */\n",
              "    position:relative;\n",
              "}\n",
              ".special-token:empty::before{\n",
              "    /* Special tokens that don't have text are displayed as pseudo elements so we dont select them with the mouse*/\n",
              "    content:attr(data-stok);\n",
              "    background:#202020;\n",
              "    font-size:0.75rem;\n",
              "    color:white;\n",
              "    margin: 0 0.25rem;\n",
              "    padding: 0.25rem;\n",
              "    border-radius:4px\n",
              "}\n",
              "\n",
              ".special-token:not(:empty):before {\n",
              "    /* Special tokens that have text (UNK) are displayed above the actual text*/\n",
              "    content:attr(data-stok);\n",
              "    position:absolute;\n",
              "    bottom:1.75rem;\n",
              "    min-width:100%;\n",
              "    width:100%;\n",
              "    height:1rem;\n",
              "    line-height:1rem;\n",
              "    font-size:1rem;\n",
              "    text-align:center;\n",
              "    color:white;\n",
              "    font-weight:bold;\n",
              "    background:#202020;\n",
              "    border-radius:10%;\n",
              "}\n",
              "/*\n",
              "We want to alternate the color of tokens, but we can't use nth child because tokens might be broken up by annotations\n",
              "instead we apply even and odd class at generation time and color them that way\n",
              " */\n",
              ".even-token{\n",
              "    background:#DCDCDC\t;\n",
              "    border: 1px solid #DCDCDC;\n",
              "}\n",
              ".odd-token{\n",
              "    background:#A0A0A0;\n",
              "    border: 1px solid #A0A0A0;\n",
              "}\n",
              ".even-token.multi-token,.odd-token.multi-token{\n",
              "    background:  repeating-linear-gradient(\n",
              "    45deg,\n",
              "    transparent,\n",
              "    transparent 1px,\n",
              "    #ccc 1px,\n",
              "    #ccc 1px\n",
              "    ),\n",
              "    /* on \"bottom\" */\n",
              "    linear-gradient(\n",
              "    to bottom,\n",
              "    #FFB6C1,\n",
              "    #999\n",
              "    );\n",
              "}\n",
              "\n",
              ".multi-token:hover::after {\n",
              "    content:\"This char has more than 1 token\"; /* The content defines the width of the annotation*/\n",
              "    color:white;\n",
              "    background-color: black;\n",
              "    position:absolute;\n",
              "    font-size:0.75rem;\n",
              "    text-align:center;\n",
              "    font-weight:bold;\n",
              "    text-overflow:ellipsis;\n",
              "    top:1.75rem;\n",
              "    line-height:0;\n",
              "    overflow: hidden;\n",
              "    white-space: nowrap;\n",
              "    left:0;\n",
              "    width:fit-content; /* 100% of the parent, which is the annotation whose width is the tokens inside it*/\n",
              "    padding:0.5rem 0;\n",
              "}\n",
              "\n",
              "            </style>\n",
              "        </head>\n",
              "        <body>\n",
              "            <div class=\"tokenized-text\" dir=auto>\n",
              "            <span class=\"token even-token\"  >usually</span><span class=\"non-token\"  > </span><span class=\"token odd-token\"  >,</span><span class=\"non-token\"  > </span><span class=\"token even-token\"  >he</span><span class=\"non-token\"  > </span><span class=\"token odd-token\"  >would</span><span class=\"non-token\"  > </span><span class=\"token even-token\"  >be</span><span class=\"non-token\"  > </span><span class=\"token odd-token\"  >tearing</span><span class=\"non-token\"  > </span><span class=\"token even-token\"  >around</span><span class=\"non-token\"  > </span><span class=\"token odd-token\"  >the</span><span class=\"non-token\"  > </span><span class=\"token even-token\"  >living</span><span class=\"non-token\"  > </span><span class=\"token odd-token\"  >room</span><span class=\"non-token\"  > </span><span class=\"token even-token\"  >,</span><span class=\"non-token\"  > </span><span class=\"token odd-token\"  >playing</span><span class=\"non-token\"  > </span><span class=\"token even-token\"  >with</span><span class=\"non-token\"  > </span><span class=\"token odd-token\"  >his</span><span class=\"non-token\"  > </span><span class=\"token even-token\"  >toys</span><span class=\"non-token\"  > </span><span class=\"token odd-token\"  >.</span>\n",
              "            </div>\n",
              "        </body>\n",
              "    </html>\n",
              "    "
            ]
          },
          "metadata": {}
        }
      ]
    },
    {
      "cell_type": "code",
      "source": [
        "import pandas as pd\n",
        "outdict = {'tokens': tokens, 'ids': token_ids, 'type_id': type_ids, 'attention_mask': attention_mask}\n",
        "df = pd.DataFrame.from_dict(outdict)\n",
        "df"
      ],
      "metadata": {
        "colab": {
          "base_uri": "https://localhost:8080/",
          "height": 551
        },
        "id": "-0N4Emssj3H2",
        "outputId": "519b6a9f-0f74-44d6-8c5f-00cec6a92f90"
      },
      "execution_count": 35,
      "outputs": [
        {
          "output_type": "execute_result",
          "data": {
            "text/plain": [
              "     tokens   ids  type_id  attention_mask\n",
              "0   usually  2462        0               1\n",
              "1         ,    19        0               1\n",
              "2        he   149        0               1\n",
              "3     would   277        0               1\n",
              "4        be   162        0               1\n",
              "5   tearing  6456        0               1\n",
              "6    around   422        0               1\n",
              "7       the   131        0               1\n",
              "8    living  1559        0               1\n",
              "9      room   536        0               1\n",
              "10        ,    19        0               1\n",
              "11  playing  2301        0               1\n",
              "12     with   201        0               1\n",
              "13      his   177        0               1\n",
              "14     toys  9774        0               1\n",
              "15        .    21        0               1"
            ],
            "text/html": [
              "\n",
              "  <div id=\"df-de2d05aa-ff82-4ee7-869a-ed793f434010\" class=\"colab-df-container\">\n",
              "    <div>\n",
              "<style scoped>\n",
              "    .dataframe tbody tr th:only-of-type {\n",
              "        vertical-align: middle;\n",
              "    }\n",
              "\n",
              "    .dataframe tbody tr th {\n",
              "        vertical-align: top;\n",
              "    }\n",
              "\n",
              "    .dataframe thead th {\n",
              "        text-align: right;\n",
              "    }\n",
              "</style>\n",
              "<table border=\"1\" class=\"dataframe\">\n",
              "  <thead>\n",
              "    <tr style=\"text-align: right;\">\n",
              "      <th></th>\n",
              "      <th>tokens</th>\n",
              "      <th>ids</th>\n",
              "      <th>type_id</th>\n",
              "      <th>attention_mask</th>\n",
              "    </tr>\n",
              "  </thead>\n",
              "  <tbody>\n",
              "    <tr>\n",
              "      <th>0</th>\n",
              "      <td>usually</td>\n",
              "      <td>2462</td>\n",
              "      <td>0</td>\n",
              "      <td>1</td>\n",
              "    </tr>\n",
              "    <tr>\n",
              "      <th>1</th>\n",
              "      <td>,</td>\n",
              "      <td>19</td>\n",
              "      <td>0</td>\n",
              "      <td>1</td>\n",
              "    </tr>\n",
              "    <tr>\n",
              "      <th>2</th>\n",
              "      <td>he</td>\n",
              "      <td>149</td>\n",
              "      <td>0</td>\n",
              "      <td>1</td>\n",
              "    </tr>\n",
              "    <tr>\n",
              "      <th>3</th>\n",
              "      <td>would</td>\n",
              "      <td>277</td>\n",
              "      <td>0</td>\n",
              "      <td>1</td>\n",
              "    </tr>\n",
              "    <tr>\n",
              "      <th>4</th>\n",
              "      <td>be</td>\n",
              "      <td>162</td>\n",
              "      <td>0</td>\n",
              "      <td>1</td>\n",
              "    </tr>\n",
              "    <tr>\n",
              "      <th>5</th>\n",
              "      <td>tearing</td>\n",
              "      <td>6456</td>\n",
              "      <td>0</td>\n",
              "      <td>1</td>\n",
              "    </tr>\n",
              "    <tr>\n",
              "      <th>6</th>\n",
              "      <td>around</td>\n",
              "      <td>422</td>\n",
              "      <td>0</td>\n",
              "      <td>1</td>\n",
              "    </tr>\n",
              "    <tr>\n",
              "      <th>7</th>\n",
              "      <td>the</td>\n",
              "      <td>131</td>\n",
              "      <td>0</td>\n",
              "      <td>1</td>\n",
              "    </tr>\n",
              "    <tr>\n",
              "      <th>8</th>\n",
              "      <td>living</td>\n",
              "      <td>1559</td>\n",
              "      <td>0</td>\n",
              "      <td>1</td>\n",
              "    </tr>\n",
              "    <tr>\n",
              "      <th>9</th>\n",
              "      <td>room</td>\n",
              "      <td>536</td>\n",
              "      <td>0</td>\n",
              "      <td>1</td>\n",
              "    </tr>\n",
              "    <tr>\n",
              "      <th>10</th>\n",
              "      <td>,</td>\n",
              "      <td>19</td>\n",
              "      <td>0</td>\n",
              "      <td>1</td>\n",
              "    </tr>\n",
              "    <tr>\n",
              "      <th>11</th>\n",
              "      <td>playing</td>\n",
              "      <td>2301</td>\n",
              "      <td>0</td>\n",
              "      <td>1</td>\n",
              "    </tr>\n",
              "    <tr>\n",
              "      <th>12</th>\n",
              "      <td>with</td>\n",
              "      <td>201</td>\n",
              "      <td>0</td>\n",
              "      <td>1</td>\n",
              "    </tr>\n",
              "    <tr>\n",
              "      <th>13</th>\n",
              "      <td>his</td>\n",
              "      <td>177</td>\n",
              "      <td>0</td>\n",
              "      <td>1</td>\n",
              "    </tr>\n",
              "    <tr>\n",
              "      <th>14</th>\n",
              "      <td>toys</td>\n",
              "      <td>9774</td>\n",
              "      <td>0</td>\n",
              "      <td>1</td>\n",
              "    </tr>\n",
              "    <tr>\n",
              "      <th>15</th>\n",
              "      <td>.</td>\n",
              "      <td>21</td>\n",
              "      <td>0</td>\n",
              "      <td>1</td>\n",
              "    </tr>\n",
              "  </tbody>\n",
              "</table>\n",
              "</div>\n",
              "    <div class=\"colab-df-buttons\">\n",
              "\n",
              "  <div class=\"colab-df-container\">\n",
              "    <button class=\"colab-df-convert\" onclick=\"convertToInteractive('df-de2d05aa-ff82-4ee7-869a-ed793f434010')\"\n",
              "            title=\"Convert this dataframe to an interactive table.\"\n",
              "            style=\"display:none;\">\n",
              "\n",
              "  <svg xmlns=\"http://www.w3.org/2000/svg\" height=\"24px\" viewBox=\"0 -960 960 960\">\n",
              "    <path d=\"M120-120v-720h720v720H120Zm60-500h600v-160H180v160Zm220 220h160v-160H400v160Zm0 220h160v-160H400v160ZM180-400h160v-160H180v160Zm440 0h160v-160H620v160ZM180-180h160v-160H180v160Zm440 0h160v-160H620v160Z\"/>\n",
              "  </svg>\n",
              "    </button>\n",
              "\n",
              "  <style>\n",
              "    .colab-df-container {\n",
              "      display:flex;\n",
              "      gap: 12px;\n",
              "    }\n",
              "\n",
              "    .colab-df-convert {\n",
              "      background-color: #E8F0FE;\n",
              "      border: none;\n",
              "      border-radius: 50%;\n",
              "      cursor: pointer;\n",
              "      display: none;\n",
              "      fill: #1967D2;\n",
              "      height: 32px;\n",
              "      padding: 0 0 0 0;\n",
              "      width: 32px;\n",
              "    }\n",
              "\n",
              "    .colab-df-convert:hover {\n",
              "      background-color: #E2EBFA;\n",
              "      box-shadow: 0px 1px 2px rgba(60, 64, 67, 0.3), 0px 1px 3px 1px rgba(60, 64, 67, 0.15);\n",
              "      fill: #174EA6;\n",
              "    }\n",
              "\n",
              "    .colab-df-buttons div {\n",
              "      margin-bottom: 4px;\n",
              "    }\n",
              "\n",
              "    [theme=dark] .colab-df-convert {\n",
              "      background-color: #3B4455;\n",
              "      fill: #D2E3FC;\n",
              "    }\n",
              "\n",
              "    [theme=dark] .colab-df-convert:hover {\n",
              "      background-color: #434B5C;\n",
              "      box-shadow: 0px 1px 3px 1px rgba(0, 0, 0, 0.15);\n",
              "      filter: drop-shadow(0px 1px 2px rgba(0, 0, 0, 0.3));\n",
              "      fill: #FFFFFF;\n",
              "    }\n",
              "  </style>\n",
              "\n",
              "    <script>\n",
              "      const buttonEl =\n",
              "        document.querySelector('#df-de2d05aa-ff82-4ee7-869a-ed793f434010 button.colab-df-convert');\n",
              "      buttonEl.style.display =\n",
              "        google.colab.kernel.accessAllowed ? 'block' : 'none';\n",
              "\n",
              "      async function convertToInteractive(key) {\n",
              "        const element = document.querySelector('#df-de2d05aa-ff82-4ee7-869a-ed793f434010');\n",
              "        const dataTable =\n",
              "          await google.colab.kernel.invokeFunction('convertToInteractive',\n",
              "                                                    [key], {});\n",
              "        if (!dataTable) return;\n",
              "\n",
              "        const docLinkHtml = 'Like what you see? Visit the ' +\n",
              "          '<a target=\"_blank\" href=https://colab.research.google.com/notebooks/data_table.ipynb>data table notebook</a>'\n",
              "          + ' to learn more about interactive tables.';\n",
              "        element.innerHTML = '';\n",
              "        dataTable['output_type'] = 'display_data';\n",
              "        await google.colab.output.renderOutput(dataTable, element);\n",
              "        const docLink = document.createElement('div');\n",
              "        docLink.innerHTML = docLinkHtml;\n",
              "        element.appendChild(docLink);\n",
              "      }\n",
              "    </script>\n",
              "  </div>\n",
              "\n",
              "\n",
              "<div id=\"df-ab62c450-5dea-490a-be59-45651cb8208a\">\n",
              "  <button class=\"colab-df-quickchart\" onclick=\"quickchart('df-ab62c450-5dea-490a-be59-45651cb8208a')\"\n",
              "            title=\"Suggest charts\"\n",
              "            style=\"display:none;\">\n",
              "\n",
              "<svg xmlns=\"http://www.w3.org/2000/svg\" height=\"24px\"viewBox=\"0 0 24 24\"\n",
              "     width=\"24px\">\n",
              "    <g>\n",
              "        <path d=\"M19 3H5c-1.1 0-2 .9-2 2v14c0 1.1.9 2 2 2h14c1.1 0 2-.9 2-2V5c0-1.1-.9-2-2-2zM9 17H7v-7h2v7zm4 0h-2V7h2v10zm4 0h-2v-4h2v4z\"/>\n",
              "    </g>\n",
              "</svg>\n",
              "  </button>\n",
              "\n",
              "<style>\n",
              "  .colab-df-quickchart {\n",
              "      --bg-color: #E8F0FE;\n",
              "      --fill-color: #1967D2;\n",
              "      --hover-bg-color: #E2EBFA;\n",
              "      --hover-fill-color: #174EA6;\n",
              "      --disabled-fill-color: #AAA;\n",
              "      --disabled-bg-color: #DDD;\n",
              "  }\n",
              "\n",
              "  [theme=dark] .colab-df-quickchart {\n",
              "      --bg-color: #3B4455;\n",
              "      --fill-color: #D2E3FC;\n",
              "      --hover-bg-color: #434B5C;\n",
              "      --hover-fill-color: #FFFFFF;\n",
              "      --disabled-bg-color: #3B4455;\n",
              "      --disabled-fill-color: #666;\n",
              "  }\n",
              "\n",
              "  .colab-df-quickchart {\n",
              "    background-color: var(--bg-color);\n",
              "    border: none;\n",
              "    border-radius: 50%;\n",
              "    cursor: pointer;\n",
              "    display: none;\n",
              "    fill: var(--fill-color);\n",
              "    height: 32px;\n",
              "    padding: 0;\n",
              "    width: 32px;\n",
              "  }\n",
              "\n",
              "  .colab-df-quickchart:hover {\n",
              "    background-color: var(--hover-bg-color);\n",
              "    box-shadow: 0 1px 2px rgba(60, 64, 67, 0.3), 0 1px 3px 1px rgba(60, 64, 67, 0.15);\n",
              "    fill: var(--button-hover-fill-color);\n",
              "  }\n",
              "\n",
              "  .colab-df-quickchart-complete:disabled,\n",
              "  .colab-df-quickchart-complete:disabled:hover {\n",
              "    background-color: var(--disabled-bg-color);\n",
              "    fill: var(--disabled-fill-color);\n",
              "    box-shadow: none;\n",
              "  }\n",
              "\n",
              "  .colab-df-spinner {\n",
              "    border: 2px solid var(--fill-color);\n",
              "    border-color: transparent;\n",
              "    border-bottom-color: var(--fill-color);\n",
              "    animation:\n",
              "      spin 1s steps(1) infinite;\n",
              "  }\n",
              "\n",
              "  @keyframes spin {\n",
              "    0% {\n",
              "      border-color: transparent;\n",
              "      border-bottom-color: var(--fill-color);\n",
              "      border-left-color: var(--fill-color);\n",
              "    }\n",
              "    20% {\n",
              "      border-color: transparent;\n",
              "      border-left-color: var(--fill-color);\n",
              "      border-top-color: var(--fill-color);\n",
              "    }\n",
              "    30% {\n",
              "      border-color: transparent;\n",
              "      border-left-color: var(--fill-color);\n",
              "      border-top-color: var(--fill-color);\n",
              "      border-right-color: var(--fill-color);\n",
              "    }\n",
              "    40% {\n",
              "      border-color: transparent;\n",
              "      border-right-color: var(--fill-color);\n",
              "      border-top-color: var(--fill-color);\n",
              "    }\n",
              "    60% {\n",
              "      border-color: transparent;\n",
              "      border-right-color: var(--fill-color);\n",
              "    }\n",
              "    80% {\n",
              "      border-color: transparent;\n",
              "      border-right-color: var(--fill-color);\n",
              "      border-bottom-color: var(--fill-color);\n",
              "    }\n",
              "    90% {\n",
              "      border-color: transparent;\n",
              "      border-bottom-color: var(--fill-color);\n",
              "    }\n",
              "  }\n",
              "</style>\n",
              "\n",
              "  <script>\n",
              "    async function quickchart(key) {\n",
              "      const quickchartButtonEl =\n",
              "        document.querySelector('#' + key + ' button');\n",
              "      quickchartButtonEl.disabled = true;  // To prevent multiple clicks.\n",
              "      quickchartButtonEl.classList.add('colab-df-spinner');\n",
              "      try {\n",
              "        const charts = await google.colab.kernel.invokeFunction(\n",
              "            'suggestCharts', [key], {});\n",
              "      } catch (error) {\n",
              "        console.error('Error during call to suggestCharts:', error);\n",
              "      }\n",
              "      quickchartButtonEl.classList.remove('colab-df-spinner');\n",
              "      quickchartButtonEl.classList.add('colab-df-quickchart-complete');\n",
              "    }\n",
              "    (() => {\n",
              "      let quickchartButtonEl =\n",
              "        document.querySelector('#df-ab62c450-5dea-490a-be59-45651cb8208a button');\n",
              "      quickchartButtonEl.style.display =\n",
              "        google.colab.kernel.accessAllowed ? 'block' : 'none';\n",
              "    })();\n",
              "  </script>\n",
              "</div>\n",
              "\n",
              "  <div id=\"id_558bdb0f-61a4-4fff-90af-166bb746faf6\">\n",
              "    <style>\n",
              "      .colab-df-generate {\n",
              "        background-color: #E8F0FE;\n",
              "        border: none;\n",
              "        border-radius: 50%;\n",
              "        cursor: pointer;\n",
              "        display: none;\n",
              "        fill: #1967D2;\n",
              "        height: 32px;\n",
              "        padding: 0 0 0 0;\n",
              "        width: 32px;\n",
              "      }\n",
              "\n",
              "      .colab-df-generate:hover {\n",
              "        background-color: #E2EBFA;\n",
              "        box-shadow: 0px 1px 2px rgba(60, 64, 67, 0.3), 0px 1px 3px 1px rgba(60, 64, 67, 0.15);\n",
              "        fill: #174EA6;\n",
              "      }\n",
              "\n",
              "      [theme=dark] .colab-df-generate {\n",
              "        background-color: #3B4455;\n",
              "        fill: #D2E3FC;\n",
              "      }\n",
              "\n",
              "      [theme=dark] .colab-df-generate:hover {\n",
              "        background-color: #434B5C;\n",
              "        box-shadow: 0px 1px 3px 1px rgba(0, 0, 0, 0.15);\n",
              "        filter: drop-shadow(0px 1px 2px rgba(0, 0, 0, 0.3));\n",
              "        fill: #FFFFFF;\n",
              "      }\n",
              "    </style>\n",
              "    <button class=\"colab-df-generate\" onclick=\"generateWithVariable('df')\"\n",
              "            title=\"Generate code using this dataframe.\"\n",
              "            style=\"display:none;\">\n",
              "\n",
              "  <svg xmlns=\"http://www.w3.org/2000/svg\" height=\"24px\"viewBox=\"0 0 24 24\"\n",
              "       width=\"24px\">\n",
              "    <path d=\"M7,19H8.4L18.45,9,17,7.55,7,17.6ZM5,21V16.75L18.45,3.32a2,2,0,0,1,2.83,0l1.4,1.43a1.91,1.91,0,0,1,.58,1.4,1.91,1.91,0,0,1-.58,1.4L9.25,21ZM18.45,9,17,7.55Zm-12,3A5.31,5.31,0,0,0,4.9,8.1,5.31,5.31,0,0,0,1,6.5,5.31,5.31,0,0,0,4.9,4.9,5.31,5.31,0,0,0,6.5,1,5.31,5.31,0,0,0,8.1,4.9,5.31,5.31,0,0,0,12,6.5,5.46,5.46,0,0,0,6.5,12Z\"/>\n",
              "  </svg>\n",
              "    </button>\n",
              "    <script>\n",
              "      (() => {\n",
              "      const buttonEl =\n",
              "        document.querySelector('#id_558bdb0f-61a4-4fff-90af-166bb746faf6 button.colab-df-generate');\n",
              "      buttonEl.style.display =\n",
              "        google.colab.kernel.accessAllowed ? 'block' : 'none';\n",
              "\n",
              "      buttonEl.onclick = () => {\n",
              "        google.colab.notebook.generateWithVariable('df');\n",
              "      }\n",
              "      })();\n",
              "    </script>\n",
              "  </div>\n",
              "\n",
              "    </div>\n",
              "  </div>\n"
            ],
            "application/vnd.google.colaboratory.intrinsic+json": {
              "type": "dataframe",
              "variable_name": "df",
              "summary": "{\n  \"name\": \"df\",\n  \"rows\": 16,\n  \"fields\": [\n    {\n      \"column\": \"tokens\",\n      \"properties\": {\n        \"dtype\": \"string\",\n        \"num_unique_values\": 15,\n        \"samples\": [\n          \"room\",\n          \"with\",\n          \"usually\"\n        ],\n        \"semantic_type\": \"\",\n        \"description\": \"\"\n      }\n    },\n    {\n      \"column\": \"ids\",\n      \"properties\": {\n        \"dtype\": \"number\",\n        \"std\": 2752,\n        \"min\": 19,\n        \"max\": 9774,\n        \"num_unique_values\": 15,\n        \"samples\": [\n          536,\n          201,\n          2462\n        ],\n        \"semantic_type\": \"\",\n        \"description\": \"\"\n      }\n    },\n    {\n      \"column\": \"type_id\",\n      \"properties\": {\n        \"dtype\": \"number\",\n        \"std\": 0,\n        \"min\": 0,\n        \"max\": 0,\n        \"num_unique_values\": 1,\n        \"samples\": [\n          0\n        ],\n        \"semantic_type\": \"\",\n        \"description\": \"\"\n      }\n    },\n    {\n      \"column\": \"attention_mask\",\n      \"properties\": {\n        \"dtype\": \"number\",\n        \"std\": 0,\n        \"min\": 1,\n        \"max\": 1,\n        \"num_unique_values\": 1,\n        \"samples\": [\n          1\n        ],\n        \"semantic_type\": \"\",\n        \"description\": \"\"\n      }\n    }\n  ]\n}"
            }
          },
          "metadata": {},
          "execution_count": 35
        }
      ]
    },
    {
      "cell_type": "code",
      "source": [
        "from pprint import pprint\n",
        "samples = bc[0:4]['text']\n",
        "batch_enc = tokenizer.encode_batch(samples)\n",
        "pprint(batch_enc)"
      ],
      "metadata": {
        "colab": {
          "base_uri": "https://localhost:8080/"
        },
        "id": "B3q3TdGlkTBr",
        "outputId": "582f6438-1a3e-4478-912c-ed45c99dddd1"
      },
      "execution_count": 39,
      "outputs": [
        {
          "output_type": "stream",
          "name": "stdout",
          "text": [
            "[Encoding(num_tokens=16, attributes=[ids, type_ids, tokens, offsets, attention_mask, special_tokens_mask, overflowing]),\n",
            " Encoding(num_tokens=14, attributes=[ids, type_ids, tokens, offsets, attention_mask, special_tokens_mask, overflowing]),\n",
            " Encoding(num_tokens=14, attributes=[ids, type_ids, tokens, offsets, attention_mask, special_tokens_mask, overflowing]),\n",
            " Encoding(num_tokens=42, attributes=[ids, type_ids, tokens, offsets, attention_mask, special_tokens_mask, overflowing])]\n"
          ]
        }
      ]
    },
    {
      "cell_type": "code",
      "source": [
        "tokenizer.enable_padding(direction='right', pad_id=0, pad_type_id=0, pad_token='[PAD]', length=None, pad_to_multiple_of=None)\n",
        "tokenizer.enable_truncation(max_length=512)\n",
        "batch_enc = tokenizer.encode_batch(samples)\n",
        "pprint(batch_enc)"
      ],
      "metadata": {
        "colab": {
          "base_uri": "https://localhost:8080/"
        },
        "id": "hqxq8TIelMFw",
        "outputId": "36141bde-25af-4b31-d003-d7a9dffbf0c1"
      },
      "execution_count": 41,
      "outputs": [
        {
          "output_type": "stream",
          "name": "stdout",
          "text": [
            "[Encoding(num_tokens=42, attributes=[ids, type_ids, tokens, offsets, attention_mask, special_tokens_mask, overflowing]),\n",
            " Encoding(num_tokens=42, attributes=[ids, type_ids, tokens, offsets, attention_mask, special_tokens_mask, overflowing]),\n",
            " Encoding(num_tokens=42, attributes=[ids, type_ids, tokens, offsets, attention_mask, special_tokens_mask, overflowing]),\n",
            " Encoding(num_tokens=42, attributes=[ids, type_ids, tokens, offsets, attention_mask, special_tokens_mask, overflowing])]\n"
          ]
        }
      ]
    },
    {
      "cell_type": "code",
      "source": [
        "text = \"aayi nayi wala song sunn rha hun.\"\n",
        "encoded = tokenizer.encode(text).tokens\n",
        "print(encoded)"
      ],
      "metadata": {
        "colab": {
          "base_uri": "https://localhost:8080/"
        },
        "id": "w9sPT-JMmZbK",
        "outputId": "9f0c0061-0066-4294-9a3c-1197b7330cc4"
      },
      "execution_count": 42,
      "outputs": [
        {
          "output_type": "stream",
          "name": "stdout",
          "text": [
            "['a', '##ay', '##i', 'nay', '##i', 'wal', '##a', 'song', 'sun', '##n', 'r', '##ha', 'hun', '.']\n"
          ]
        }
      ]
    },
    {
      "cell_type": "code",
      "source": [
        "tokenizer.save('hopper.json')"
      ],
      "metadata": {
        "id": "CsDTzr9Cmn8Q"
      },
      "execution_count": 43,
      "outputs": []
    },
    {
      "cell_type": "code",
      "source": [
        "import json\n",
        "with open('hopper.json', 'r') as file:\n",
        "  json_data = json.load(file)"
      ],
      "metadata": {
        "id": "VPjcIejzmsHM"
      },
      "execution_count": 44,
      "outputs": []
    },
    {
      "cell_type": "code",
      "source": [
        "pprint(json_data, depth=1)"
      ],
      "metadata": {
        "colab": {
          "base_uri": "https://localhost:8080/"
        },
        "id": "gWZ3CJa6nDe2",
        "outputId": "d800a01d-7bb0-4de6-f13a-445b3998f2e9"
      },
      "execution_count": 47,
      "outputs": [
        {
          "output_type": "stream",
          "name": "stdout",
          "text": [
            "{'added_tokens': [...],\n",
            " 'decoder': None,\n",
            " 'model': {...},\n",
            " 'normalizer': {...},\n",
            " 'padding': {...},\n",
            " 'post_processor': None,\n",
            " 'pre_tokenizer': {...},\n",
            " 'truncation': {...},\n",
            " 'version': '1.0'}\n"
          ]
        }
      ]
    },
    {
      "cell_type": "code",
      "source": [
        "trained = Tokenizer(BPE())\n",
        "trainer = trained.from_file('hopper.json')\n",
        "tokens = trained.encode(text).tokens\n",
        "print(tokens)"
      ],
      "metadata": {
        "colab": {
          "base_uri": "https://localhost:8080/"
        },
        "id": "d5104Q1EnPcp",
        "outputId": "5473c00e-aaba-49ea-aa82-c318c1ca7a40"
      },
      "execution_count": 48,
      "outputs": [
        {
          "output_type": "stream",
          "name": "stdout",
          "text": [
            "[]\n"
          ]
        }
      ]
    },
    {
      "cell_type": "code",
      "source": [
        "bert = Tokenizer(BPE(unk_token='[UNK]'))\n",
        "bert.normalizer = Lowercase()\n",
        "bert.pre_tokenizer = Whitespace()\n",
        "berttrain = BpeTrainer(vocab_size=32000, special_tokens=[\"[PAD]\", \"[UNK]\", \"[CLS]\", \"[SEP]\", \"[MASK]\"], continuing_subword_prefix=\"##\")\n"
      ],
      "metadata": {
        "id": "pMNtd16ypwQ6"
      },
      "execution_count": 49,
      "outputs": []
    },
    {
      "cell_type": "code",
      "source": [
        "from tokenizers.processors import TemplateProcessing"
      ],
      "metadata": {
        "id": "CMPc7fBvqdA1"
      },
      "execution_count": 50,
      "outputs": []
    },
    {
      "cell_type": "code",
      "source": [
        "bert.post_processor = TemplateProcessing()"
      ],
      "metadata": {
        "id": "ZwSpZ6uiqhdV"
      },
      "execution_count": 51,
      "outputs": []
    },
    {
      "cell_type": "markdown",
      "source": [
        "# L8 - Wrap it with PreTrainedTokenizer"
      ],
      "metadata": {
        "id": "FeiqKX2bqwne"
      }
    },
    {
      "cell_type": "code",
      "source": [
        "encoding = tokenizer.encode(text)\n",
        "print(encoding)"
      ],
      "metadata": {
        "colab": {
          "base_uri": "https://localhost:8080/"
        },
        "id": "nWlBp2SisUt5",
        "outputId": "39622a82-3f93-445c-d489-bc99b20fd1fc"
      },
      "execution_count": 52,
      "outputs": [
        {
          "output_type": "stream",
          "name": "stdout",
          "text": [
            "Encoding(num_tokens=14, attributes=[ids, type_ids, tokens, offsets, attention_mask, special_tokens_mask, overflowing])\n"
          ]
        }
      ]
    },
    {
      "cell_type": "code",
      "source": [
        "from transformers import PreTrainedTokenizerFast\n",
        "\n",
        "pt = PreTrainedTokenizerFast(tokenizer_file='hopper.json', unk_token='[UNK]', pad_token='[PAD]', model_input_names=[\"input_ids\", \"token_type_ids\", \"attention_mask\"],)"
      ],
      "metadata": {
        "id": "QcTqXUIlsgD0"
      },
      "execution_count": 53,
      "outputs": []
    },
    {
      "cell_type": "code",
      "source": [
        "model_inputs = pt(text)\n",
        "pprint(model_inputs, compact=True)"
      ],
      "metadata": {
        "colab": {
          "base_uri": "https://localhost:8080/"
        },
        "id": "7Wr5PEIHtD2_",
        "outputId": "cde44dfb-3d18-4954-c025-5df80bb0c509"
      },
      "execution_count": 54,
      "outputs": [
        {
          "output_type": "stream",
          "name": "stdout",
          "text": [
            "{'attention_mask': [1, 1, 1, 1, 1, 1, 1, 1, 1, 1, 1, 1, 1, 1],\n",
            " 'input_ids': [46, 181, 82, 11951, 82, 563, 81, 2984, 1239, 85, 63, 1901, 2087,\n",
            "               21],\n",
            " 'token_type_ids': [0, 0, 0, 0, 0, 0, 0, 0, 0, 0, 0, 0, 0, 0]}\n"
          ]
        }
      ]
    }
  ]
}