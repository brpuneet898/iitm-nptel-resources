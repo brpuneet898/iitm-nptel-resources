{
 "cells": [
  {
   "cell_type": "markdown",
   "metadata": {},
   "source": [
    "# Kaggle Starter Code"
   ]
  },
  {
   "cell_type": "code",
   "execution_count": 1,
   "metadata": {
    "_cell_guid": "b1076dfc-b9ad-4769-8c92-a6c4dae69d19",
    "_uuid": "8f2839f25d086af736a60e9eeb907d3b93b6e0e5",
    "execution": {
     "iopub.execute_input": "2025-03-10T10:15:03.332518Z",
     "iopub.status.busy": "2025-03-10T10:15:03.332132Z",
     "iopub.status.idle": "2025-03-10T10:15:04.241267Z",
     "shell.execute_reply": "2025-03-10T10:15:04.240045Z",
     "shell.execute_reply.started": "2025-03-10T10:15:03.332486Z"
    },
    "trusted": true
   },
   "outputs": [
    {
     "name": "stdout",
     "output_type": "stream",
     "text": [
      "/kaggle/input/indic-tts-deepfake-challenge/sample.csv\n"
     ]
    }
   ],
   "source": [
    "# This Python 3 environment comes with many helpful analytics libraries installed\n",
    "# It is defined by the kaggle/python Docker image: https://github.com/kaggle/docker-python\n",
    "# For example, here's several helpful packages to load\n",
    "\n",
    "import numpy as np # linear algebra\n",
    "import pandas as pd # data processing, CSV file I/O (e.g. pd.read_csv)\n",
    "\n",
    "# Input data files are available in the read-only \"../input/\" directory\n",
    "# For example, running this (by clicking run or pressing Shift+Enter) will list all files under the input directory\n",
    "\n",
    "import os\n",
    "for dirname, _, filenames in os.walk('/kaggle/input'):\n",
    "    for filename in filenames:\n",
    "        print(os.path.join(dirname, filename))\n",
    "\n",
    "# You can write up to 20GB to the current directory (/kaggle/working/) that gets preserved as output when you create a version using \"Save & Run All\" \n",
    "# You can also write temporary files to /kaggle/temp/, but they won't be saved outside of the current session"
   ]
  },
  {
   "cell_type": "markdown",
   "metadata": {},
   "source": [
    "# Loading the Dataset"
   ]
  },
  {
   "cell_type": "code",
   "execution_count": 2,
   "metadata": {
    "execution": {
     "iopub.execute_input": "2025-03-10T10:15:04.243292Z",
     "iopub.status.busy": "2025-03-10T10:15:04.242774Z",
     "iopub.status.idle": "2025-03-10T10:20:06.106647Z",
     "shell.execute_reply": "2025-03-10T10:20:06.105467Z",
     "shell.execute_reply.started": "2025-03-10T10:15:04.243259Z"
    },
    "trusted": true
   },
   "outputs": [
    {
     "data": {
      "application/vnd.jupyter.widget-view+json": {
       "model_id": "ee82b51b9c924e3580d6a0a5ff9cd3d8",
       "version_major": 2,
       "version_minor": 0
      },
      "text/plain": [
       "README.md:   0%|          | 0.00/2.81k [00:00<?, ?B/s]"
      ]
     },
     "metadata": {},
     "output_type": "display_data"
    },
    {
     "data": {
      "application/vnd.jupyter.widget-view+json": {
       "model_id": "06084edc31dd4e61a1d464d41353bcbf",
       "version_major": 2,
       "version_minor": 0
      },
      "text/plain": [
       "Resolving data files:   0%|          | 0/35 [00:00<?, ?it/s]"
      ]
     },
     "metadata": {},
     "output_type": "display_data"
    },
    {
     "data": {
      "application/vnd.jupyter.widget-view+json": {
       "model_id": "582d9e164e644d10a25f84fa14d394e8",
       "version_major": 2,
       "version_minor": 0
      },
      "text/plain": [
       "Resolving data files:   0%|          | 0/35 [00:00<?, ?it/s]"
      ]
     },
     "metadata": {},
     "output_type": "display_data"
    },
    {
     "data": {
      "application/vnd.jupyter.widget-view+json": {
       "model_id": "a64a2682c88945c4bf5d5c921edc9081",
       "version_major": 2,
       "version_minor": 0
      },
      "text/plain": [
       "Downloading data:   0%|          | 0/35 [00:00<?, ?files/s]"
      ]
     },
     "metadata": {},
     "output_type": "display_data"
    },
    {
     "data": {
      "application/vnd.jupyter.widget-view+json": {
       "model_id": "ff354b51ab0e406caa05ecb18023bd67",
       "version_major": 2,
       "version_minor": 0
      },
      "text/plain": [
       "train-00000-of-00035.parquet:   0%|          | 0.00/453M [00:00<?, ?B/s]"
      ]
     },
     "metadata": {},
     "output_type": "display_data"
    },
    {
     "data": {
      "application/vnd.jupyter.widget-view+json": {
       "model_id": "ba077a3fcee74c3c82c8ace596085c6f",
       "version_major": 2,
       "version_minor": 0
      },
      "text/plain": [
       "train-00001-of-00035.parquet:   0%|          | 0.00/461M [00:00<?, ?B/s]"
      ]
     },
     "metadata": {},
     "output_type": "display_data"
    },
    {
     "data": {
      "application/vnd.jupyter.widget-view+json": {
       "model_id": "1006148a2e914bbfbfeeccafc368320b",
       "version_major": 2,
       "version_minor": 0
      },
      "text/plain": [
       "train-00002-of-00035.parquet:   0%|          | 0.00/464M [00:00<?, ?B/s]"
      ]
     },
     "metadata": {},
     "output_type": "display_data"
    },
    {
     "data": {
      "application/vnd.jupyter.widget-view+json": {
       "model_id": "c1308339f7994caf8de6aa398ec82f19",
       "version_major": 2,
       "version_minor": 0
      },
      "text/plain": [
       "train-00003-of-00035.parquet:   0%|          | 0.00/443M [00:00<?, ?B/s]"
      ]
     },
     "metadata": {},
     "output_type": "display_data"
    },
    {
     "data": {
      "application/vnd.jupyter.widget-view+json": {
       "model_id": "86f0efe8f1eb4a0d95135bb730901136",
       "version_major": 2,
       "version_minor": 0
      },
      "text/plain": [
       "train-00004-of-00035.parquet:   0%|          | 0.00/470M [00:00<?, ?B/s]"
      ]
     },
     "metadata": {},
     "output_type": "display_data"
    },
    {
     "data": {
      "application/vnd.jupyter.widget-view+json": {
       "model_id": "10f67171a6d449f5baa05b4bffb85a23",
       "version_major": 2,
       "version_minor": 0
      },
      "text/plain": [
       "train-00005-of-00035.parquet:   0%|          | 0.00/475M [00:00<?, ?B/s]"
      ]
     },
     "metadata": {},
     "output_type": "display_data"
    },
    {
     "data": {
      "application/vnd.jupyter.widget-view+json": {
       "model_id": "f9cd470d5a124116afe7f127297d5ba8",
       "version_major": 2,
       "version_minor": 0
      },
      "text/plain": [
       "train-00006-of-00035.parquet:   0%|          | 0.00/447M [00:00<?, ?B/s]"
      ]
     },
     "metadata": {},
     "output_type": "display_data"
    },
    {
     "data": {
      "application/vnd.jupyter.widget-view+json": {
       "model_id": "ecb82cd2ef3c4bf2be43d2551132c5d6",
       "version_major": 2,
       "version_minor": 0
      },
      "text/plain": [
       "train-00007-of-00035.parquet:   0%|          | 0.00/516M [00:00<?, ?B/s]"
      ]
     },
     "metadata": {},
     "output_type": "display_data"
    },
    {
     "data": {
      "application/vnd.jupyter.widget-view+json": {
       "model_id": "a40228e3a4514297b87fceea727396e5",
       "version_major": 2,
       "version_minor": 0
      },
      "text/plain": [
       "train-00008-of-00035.parquet:   0%|          | 0.00/557M [00:00<?, ?B/s]"
      ]
     },
     "metadata": {},
     "output_type": "display_data"
    },
    {
     "data": {
      "application/vnd.jupyter.widget-view+json": {
       "model_id": "4feb5c1921664d5ab60457587a7ff544",
       "version_major": 2,
       "version_minor": 0
      },
      "text/plain": [
       "train-00009-of-00035.parquet:   0%|          | 0.00/521M [00:00<?, ?B/s]"
      ]
     },
     "metadata": {},
     "output_type": "display_data"
    },
    {
     "data": {
      "application/vnd.jupyter.widget-view+json": {
       "model_id": "ce78da9173f94647b67351d42c2e7472",
       "version_major": 2,
       "version_minor": 0
      },
      "text/plain": [
       "train-00010-of-00035.parquet:   0%|          | 0.00/491M [00:00<?, ?B/s]"
      ]
     },
     "metadata": {},
     "output_type": "display_data"
    },
    {
     "data": {
      "application/vnd.jupyter.widget-view+json": {
       "model_id": "0dbfe62ddf974799b34726d65016b75b",
       "version_major": 2,
       "version_minor": 0
      },
      "text/plain": [
       "train-00011-of-00035.parquet:   0%|          | 0.00/426M [00:00<?, ?B/s]"
      ]
     },
     "metadata": {},
     "output_type": "display_data"
    },
    {
     "data": {
      "application/vnd.jupyter.widget-view+json": {
       "model_id": "fc9fcf3969a64d228f4c265ec6c22c9b",
       "version_major": 2,
       "version_minor": 0
      },
      "text/plain": [
       "train-00012-of-00035.parquet:   0%|          | 0.00/414M [00:00<?, ?B/s]"
      ]
     },
     "metadata": {},
     "output_type": "display_data"
    },
    {
     "data": {
      "application/vnd.jupyter.widget-view+json": {
       "model_id": "0194891d600b4c5cb236909e8ee3a2e5",
       "version_major": 2,
       "version_minor": 0
      },
      "text/plain": [
       "train-00013-of-00035.parquet:   0%|          | 0.00/473M [00:00<?, ?B/s]"
      ]
     },
     "metadata": {},
     "output_type": "display_data"
    },
    {
     "data": {
      "application/vnd.jupyter.widget-view+json": {
       "model_id": "f35995cf2773414bbd855656152bf999",
       "version_major": 2,
       "version_minor": 0
      },
      "text/plain": [
       "train-00014-of-00035.parquet:   0%|          | 0.00/481M [00:00<?, ?B/s]"
      ]
     },
     "metadata": {},
     "output_type": "display_data"
    },
    {
     "data": {
      "application/vnd.jupyter.widget-view+json": {
       "model_id": "31154a42c9a84b18aefbd301b17c83df",
       "version_major": 2,
       "version_minor": 0
      },
      "text/plain": [
       "train-00015-of-00035.parquet:   0%|          | 0.00/467M [00:00<?, ?B/s]"
      ]
     },
     "metadata": {},
     "output_type": "display_data"
    },
    {
     "data": {
      "application/vnd.jupyter.widget-view+json": {
       "model_id": "fd6e55bd509941088e8571ef78ba9df2",
       "version_major": 2,
       "version_minor": 0
      },
      "text/plain": [
       "train-00016-of-00035.parquet:   0%|          | 0.00/532M [00:00<?, ?B/s]"
      ]
     },
     "metadata": {},
     "output_type": "display_data"
    },
    {
     "data": {
      "application/vnd.jupyter.widget-view+json": {
       "model_id": "1ca7aca4f9bf4148942a82b58383dc94",
       "version_major": 2,
       "version_minor": 0
      },
      "text/plain": [
       "train-00017-of-00035.parquet:   0%|          | 0.00/510M [00:00<?, ?B/s]"
      ]
     },
     "metadata": {},
     "output_type": "display_data"
    },
    {
     "data": {
      "application/vnd.jupyter.widget-view+json": {
       "model_id": "65782eb89e424101a1d0c0c3cb8f794d",
       "version_major": 2,
       "version_minor": 0
      },
      "text/plain": [
       "train-00018-of-00035.parquet:   0%|          | 0.00/471M [00:00<?, ?B/s]"
      ]
     },
     "metadata": {},
     "output_type": "display_data"
    },
    {
     "data": {
      "application/vnd.jupyter.widget-view+json": {
       "model_id": "b129f6db84ff4b31a0eed680be821f42",
       "version_major": 2,
       "version_minor": 0
      },
      "text/plain": [
       "train-00019-of-00035.parquet:   0%|          | 0.00/501M [00:00<?, ?B/s]"
      ]
     },
     "metadata": {},
     "output_type": "display_data"
    },
    {
     "data": {
      "application/vnd.jupyter.widget-view+json": {
       "model_id": "cf537d0df77d4920b351a12079c55d53",
       "version_major": 2,
       "version_minor": 0
      },
      "text/plain": [
       "train-00020-of-00035.parquet:   0%|          | 0.00/559M [00:00<?, ?B/s]"
      ]
     },
     "metadata": {},
     "output_type": "display_data"
    },
    {
     "data": {
      "application/vnd.jupyter.widget-view+json": {
       "model_id": "a21d0dcdd68549fe8b3824e544cb7afb",
       "version_major": 2,
       "version_minor": 0
      },
      "text/plain": [
       "train-00021-of-00035.parquet:   0%|          | 0.00/541M [00:00<?, ?B/s]"
      ]
     },
     "metadata": {},
     "output_type": "display_data"
    },
    {
     "data": {
      "application/vnd.jupyter.widget-view+json": {
       "model_id": "574246e8b98e4502ad73be20f6cff295",
       "version_major": 2,
       "version_minor": 0
      },
      "text/plain": [
       "train-00022-of-00035.parquet:   0%|          | 0.00/558M [00:00<?, ?B/s]"
      ]
     },
     "metadata": {},
     "output_type": "display_data"
    },
    {
     "data": {
      "application/vnd.jupyter.widget-view+json": {
       "model_id": "1c432b251e0c41558c01b7afb5954716",
       "version_major": 2,
       "version_minor": 0
      },
      "text/plain": [
       "train-00023-of-00035.parquet:   0%|          | 0.00/599M [00:00<?, ?B/s]"
      ]
     },
     "metadata": {},
     "output_type": "display_data"
    },
    {
     "data": {
      "application/vnd.jupyter.widget-view+json": {
       "model_id": "5dc627d54b4542cfa163e4932eff1659",
       "version_major": 2,
       "version_minor": 0
      },
      "text/plain": [
       "train-00024-of-00035.parquet:   0%|          | 0.00/576M [00:00<?, ?B/s]"
      ]
     },
     "metadata": {},
     "output_type": "display_data"
    },
    {
     "data": {
      "application/vnd.jupyter.widget-view+json": {
       "model_id": "e291c3741b8e444d8e6a1368596e6f46",
       "version_major": 2,
       "version_minor": 0
      },
      "text/plain": [
       "train-00025-of-00035.parquet:   0%|          | 0.00/547M [00:00<?, ?B/s]"
      ]
     },
     "metadata": {},
     "output_type": "display_data"
    },
    {
     "data": {
      "application/vnd.jupyter.widget-view+json": {
       "model_id": "0bac1ccbab3946988405e87210dd1dfb",
       "version_major": 2,
       "version_minor": 0
      },
      "text/plain": [
       "train-00026-of-00035.parquet:   0%|          | 0.00/537M [00:00<?, ?B/s]"
      ]
     },
     "metadata": {},
     "output_type": "display_data"
    },
    {
     "data": {
      "application/vnd.jupyter.widget-view+json": {
       "model_id": "e7fb5d8522504735a63300dfcc6eca15",
       "version_major": 2,
       "version_minor": 0
      },
      "text/plain": [
       "train-00027-of-00035.parquet:   0%|          | 0.00/421M [00:00<?, ?B/s]"
      ]
     },
     "metadata": {},
     "output_type": "display_data"
    },
    {
     "data": {
      "application/vnd.jupyter.widget-view+json": {
       "model_id": "3d82269cd581421ba26179441795e191",
       "version_major": 2,
       "version_minor": 0
      },
      "text/plain": [
       "train-00028-of-00035.parquet:   0%|          | 0.00/382M [00:00<?, ?B/s]"
      ]
     },
     "metadata": {},
     "output_type": "display_data"
    },
    {
     "data": {
      "application/vnd.jupyter.widget-view+json": {
       "model_id": "2d65fcd4a7514ae1a5a4799bed7d3b06",
       "version_major": 2,
       "version_minor": 0
      },
      "text/plain": [
       "train-00029-of-00035.parquet:   0%|          | 0.00/287M [00:00<?, ?B/s]"
      ]
     },
     "metadata": {},
     "output_type": "display_data"
    },
    {
     "data": {
      "application/vnd.jupyter.widget-view+json": {
       "model_id": "a753001af2854f7dbf0e3a6a39f58178",
       "version_major": 2,
       "version_minor": 0
      },
      "text/plain": [
       "train-00030-of-00035.parquet:   0%|          | 0.00/282M [00:00<?, ?B/s]"
      ]
     },
     "metadata": {},
     "output_type": "display_data"
    },
    {
     "data": {
      "application/vnd.jupyter.widget-view+json": {
       "model_id": "64c0f8a2b3184daeabd9425a499480ae",
       "version_major": 2,
       "version_minor": 0
      },
      "text/plain": [
       "train-00031-of-00035.parquet:   0%|          | 0.00/688M [00:00<?, ?B/s]"
      ]
     },
     "metadata": {},
     "output_type": "display_data"
    },
    {
     "data": {
      "application/vnd.jupyter.widget-view+json": {
       "model_id": "7b1409aec29a4809a87a020a7009cc59",
       "version_major": 2,
       "version_minor": 0
      },
      "text/plain": [
       "train-00032-of-00035.parquet:   0%|          | 0.00/613M [00:00<?, ?B/s]"
      ]
     },
     "metadata": {},
     "output_type": "display_data"
    },
    {
     "data": {
      "application/vnd.jupyter.widget-view+json": {
       "model_id": "cedb5c399506405f9d914903c6730c36",
       "version_major": 2,
       "version_minor": 0
      },
      "text/plain": [
       "train-00033-of-00035.parquet:   0%|          | 0.00/309M [00:00<?, ?B/s]"
      ]
     },
     "metadata": {},
     "output_type": "display_data"
    },
    {
     "data": {
      "application/vnd.jupyter.widget-view+json": {
       "model_id": "06aa343748f5452eaf7c68673570adb2",
       "version_major": 2,
       "version_minor": 0
      },
      "text/plain": [
       "train-00034-of-00035.parquet:   0%|          | 0.00/424M [00:00<?, ?B/s]"
      ]
     },
     "metadata": {},
     "output_type": "display_data"
    },
    {
     "data": {
      "application/vnd.jupyter.widget-view+json": {
       "model_id": "e1076eabbfe34c0399a58ea46ce3ac8c",
       "version_major": 2,
       "version_minor": 0
      },
      "text/plain": [
       "test-00000-of-00004.parquet:   0%|          | 0.00/356M [00:00<?, ?B/s]"
      ]
     },
     "metadata": {},
     "output_type": "display_data"
    },
    {
     "data": {
      "application/vnd.jupyter.widget-view+json": {
       "model_id": "95fb831902064009aeca644ed7124284",
       "version_major": 2,
       "version_minor": 0
      },
      "text/plain": [
       "test-00001-of-00004.parquet:   0%|          | 0.00/364M [00:00<?, ?B/s]"
      ]
     },
     "metadata": {},
     "output_type": "display_data"
    },
    {
     "data": {
      "application/vnd.jupyter.widget-view+json": {
       "model_id": "9f1c934888784233962731e98e86e384",
       "version_major": 2,
       "version_minor": 0
      },
      "text/plain": [
       "test-00002-of-00004.parquet:   0%|          | 0.00/410M [00:00<?, ?B/s]"
      ]
     },
     "metadata": {},
     "output_type": "display_data"
    },
    {
     "data": {
      "application/vnd.jupyter.widget-view+json": {
       "model_id": "837e245a9fae4a99a42577ba634f30dd",
       "version_major": 2,
       "version_minor": 0
      },
      "text/plain": [
       "test-00003-of-00004.parquet:   0%|          | 0.00/291M [00:00<?, ?B/s]"
      ]
     },
     "metadata": {},
     "output_type": "display_data"
    },
    {
     "data": {
      "application/vnd.jupyter.widget-view+json": {
       "model_id": "08a5773a59e84dad98f975f5f4e6e9ab",
       "version_major": 2,
       "version_minor": 0
      },
      "text/plain": [
       "Generating train split:   0%|          | 0/31102 [00:00<?, ? examples/s]"
      ]
     },
     "metadata": {},
     "output_type": "display_data"
    },
    {
     "data": {
      "application/vnd.jupyter.widget-view+json": {
       "model_id": "8293bdbcb9c64787aa6952d3d1dd3b01",
       "version_major": 2,
       "version_minor": 0
      },
      "text/plain": [
       "Generating test split:   0%|          | 0/2635 [00:00<?, ? examples/s]"
      ]
     },
     "metadata": {},
     "output_type": "display_data"
    },
    {
     "data": {
      "application/vnd.jupyter.widget-view+json": {
       "model_id": "b4edb0cfdf904a108d890dbdf5584955",
       "version_major": 2,
       "version_minor": 0
      },
      "text/plain": [
       "Loading dataset shards:   0%|          | 0/35 [00:00<?, ?it/s]"
      ]
     },
     "metadata": {},
     "output_type": "display_data"
    }
   ],
   "source": [
    "from datasets import load_dataset\n",
    "\n",
    "# Official dataset for this challenge\n",
    "dataset = load_dataset(\"SherryT997/IndicTTS-Deepfake-Challenge-Data\")  \n",
    "\n",
    "# Train and test splits\n",
    "train_data = dataset[\"train\"] \n",
    "test_data = dataset[\"test\"]"
   ]
  },
  {
   "cell_type": "code",
   "execution_count": 3,
   "metadata": {
    "execution": {
     "iopub.execute_input": "2025-03-10T10:20:06.109551Z",
     "iopub.status.busy": "2025-03-10T10:20:06.108880Z",
     "iopub.status.idle": "2025-03-10T10:20:25.561586Z",
     "shell.execute_reply": "2025-03-10T10:20:25.560433Z",
     "shell.execute_reply.started": "2025-03-10T10:20:06.109515Z"
    },
    "trusted": true
   },
   "outputs": [
    {
     "data": {
      "text/plain": [
       "{'text': 'বিত্তীয় সময়সীমা মানি চলাত বাৰে বাৰে বিফল হোৱাৰ বাবে মই বৰ হতাশ হৈছোঁ।',\n",
       " 'id': 'ASM_F_ANGER_00342',\n",
       " 'language': 'Assamese',\n",
       " 'is_tts': 1,\n",
       " 'audio': {'path': 'ASM_F_ANGER_00342.wav',\n",
       "  'array': array([-0.00297868, -0.00474697, -0.00408163, ..., -0.00600238,\n",
       "         -0.00075703,  0.00277057]),\n",
       "  'sampling_rate': 16000}}"
      ]
     },
     "execution_count": 3,
     "metadata": {},
     "output_type": "execute_result"
    }
   ],
   "source": [
    "train_data[0]"
   ]
  },
  {
   "cell_type": "markdown",
   "metadata": {},
   "source": [
    "### This code has been used during the sampling of the dataset to check how well the model performs on the validation set. "
   ]
  },
  {
   "cell_type": "code",
   "execution_count": 4,
   "metadata": {
    "execution": {
     "iopub.execute_input": "2025-03-10T10:20:25.563894Z",
     "iopub.status.busy": "2025-03-10T10:20:25.563149Z",
     "iopub.status.idle": "2025-03-10T10:20:25.584929Z",
     "shell.execute_reply": "2025-03-10T10:20:25.583463Z",
     "shell.execute_reply.started": "2025-03-10T10:20:25.563858Z"
    },
    "trusted": true
   },
   "outputs": [],
   "source": [
    "# train_sample = train_data.select(range(30000))  # First 91 rows (index 0 to 90)\n",
    "# test_sample = train_data.select(range(30001, 31102))"
   ]
  },
  {
   "cell_type": "code",
   "execution_count": 20,
   "metadata": {
    "execution": {
     "iopub.execute_input": "2025-03-10T11:14:29.464127Z",
     "iopub.status.busy": "2025-03-10T11:14:29.463753Z",
     "iopub.status.idle": "2025-03-10T11:14:29.468729Z",
     "shell.execute_reply": "2025-03-10T11:14:29.467510Z",
     "shell.execute_reply.started": "2025-03-10T11:14:29.464096Z"
    },
    "trusted": true
   },
   "outputs": [],
   "source": [
    "train_sample = train_data\n",
    "test_sample = test_data"
   ]
  },
  {
   "cell_type": "code",
   "execution_count": 18,
   "metadata": {
    "execution": {
     "iopub.execute_input": "2025-03-10T11:14:02.605900Z",
     "iopub.status.busy": "2025-03-10T11:14:02.605513Z",
     "iopub.status.idle": "2025-03-10T11:14:02.612889Z",
     "shell.execute_reply": "2025-03-10T11:14:02.611601Z",
     "shell.execute_reply.started": "2025-03-10T11:14:02.605871Z"
    },
    "trusted": true
   },
   "outputs": [
    {
     "data": {
      "text/plain": [
       "Dataset({\n",
       "    features: ['text', 'id', 'language', 'is_tts', 'audio'],\n",
       "    num_rows: 31102\n",
       "})"
      ]
     },
     "execution_count": 18,
     "metadata": {},
     "output_type": "execute_result"
    }
   ],
   "source": [
    "train_sample"
   ]
  },
  {
   "cell_type": "markdown",
   "metadata": {},
   "source": [
    "# Importing the necessary libraries"
   ]
  },
  {
   "cell_type": "code",
   "execution_count": 5,
   "metadata": {
    "execution": {
     "iopub.execute_input": "2025-03-10T10:20:25.586165Z",
     "iopub.status.busy": "2025-03-10T10:20:25.585830Z",
     "iopub.status.idle": "2025-03-10T10:20:42.384941Z",
     "shell.execute_reply": "2025-03-10T10:20:42.383851Z",
     "shell.execute_reply.started": "2025-03-10T10:20:25.586137Z"
    },
    "trusted": true
   },
   "outputs": [],
   "source": [
    "import numpy as np\n",
    "import librosa\n",
    "from sklearn.metrics import roc_auc_score\n",
    "import tensorflow as tf\n",
    "from tensorflow.keras import layers, models\n",
    "from datasets import load_dataset"
   ]
  },
  {
   "cell_type": "markdown",
   "metadata": {},
   "source": [
    "# Helper Functions"
   ]
  },
  {
   "cell_type": "code",
   "execution_count": 21,
   "metadata": {
    "execution": {
     "iopub.execute_input": "2025-03-10T11:14:33.254132Z",
     "iopub.status.busy": "2025-03-10T11:14:33.253745Z",
     "iopub.status.idle": "2025-03-10T11:14:33.261266Z",
     "shell.execute_reply": "2025-03-10T11:14:33.259996Z",
     "shell.execute_reply.started": "2025-03-10T11:14:33.254101Z"
    },
    "trusted": true
   },
   "outputs": [],
   "source": [
    "def extract_features_from_array(audio_array, sr=16000, n_mels=40, duration=2):\n",
    "    # Ensure the audio is of the correct length (duration x sampling rate)\n",
    "    audio = audio_array[:sr * duration]\n",
    "    \n",
    "    # Compute Mel-spectrogram\n",
    "    mel_spectrogram = librosa.feature.melspectrogram(y=audio, sr=sr, n_mels=n_mels)\n",
    "    \n",
    "    # Convert to dB scale (logarithmic scale)\n",
    "    mel_spectrogram = librosa.power_to_db(mel_spectrogram, ref=np.max)\n",
    "    \n",
    "    return mel_spectrogram.T  # Transpose to have time as the first axis\n",
    "\n",
    "# Padding function to make all Mel-spectrograms the same size\n",
    "def pad_features(features, target_length):\n",
    "    # Pad sequences to the target length\n",
    "    return np.pad(features, ((0, target_length - features.shape[0]), (0, 0)), mode='constant', constant_values=0)"
   ]
  },
  {
   "cell_type": "code",
   "execution_count": 22,
   "metadata": {
    "execution": {
     "iopub.execute_input": "2025-03-10T11:14:35.653603Z",
     "iopub.status.busy": "2025-03-10T11:14:35.653121Z",
     "iopub.status.idle": "2025-03-10T11:14:35.658184Z",
     "shell.execute_reply": "2025-03-10T11:14:35.657194Z",
     "shell.execute_reply.started": "2025-03-10T11:14:35.653566Z"
    },
    "trusted": true
   },
   "outputs": [],
   "source": [
    "X_train = []\n",
    "y_train = []\n",
    "X_test = []\n",
    "y_test = []\n",
    "\n",
    "target_time_steps = 130"
   ]
  },
  {
   "cell_type": "markdown",
   "metadata": {},
   "source": [
    "### Extracting the Training Samples"
   ]
  },
  {
   "cell_type": "code",
   "execution_count": 23,
   "metadata": {
    "execution": {
     "iopub.execute_input": "2025-03-10T11:14:38.076607Z",
     "iopub.status.busy": "2025-03-10T11:14:38.076186Z",
     "iopub.status.idle": "2025-03-10T11:24:47.377324Z",
     "shell.execute_reply": "2025-03-10T11:24:47.376298Z",
     "shell.execute_reply.started": "2025-03-10T11:14:38.076573Z"
    },
    "trusted": true
   },
   "outputs": [
    {
     "name": "stderr",
     "output_type": "stream",
     "text": [
      "/usr/local/lib/python3.10/dist-packages/librosa/core/spectrum.py:266: UserWarning: n_fft=2048 is too large for input signal of length=929\n",
      "  warnings.warn(\n",
      "/usr/local/lib/python3.10/dist-packages/librosa/core/spectrum.py:266: UserWarning: n_fft=2048 is too large for input signal of length=2044\n",
      "  warnings.warn(\n",
      "/usr/local/lib/python3.10/dist-packages/librosa/core/spectrum.py:266: UserWarning: n_fft=2048 is too large for input signal of length=1672\n",
      "  warnings.warn(\n",
      "/usr/local/lib/python3.10/dist-packages/librosa/core/spectrum.py:266: UserWarning: n_fft=2048 is too large for input signal of length=744\n",
      "  warnings.warn(\n"
     ]
    }
   ],
   "source": [
    "for sample in train_sample:\n",
    "    audio_array = sample['audio']['array']\n",
    "    label = sample['is_tts']\n",
    "    \n",
    "    # Extract features and append to training set\n",
    "    mel_spec = extract_features_from_array(audio_array)\n",
    "    X_train.append(pad_features(mel_spec, target_time_steps))  # Pad features\n",
    "    y_train.append(label)"
   ]
  },
  {
   "cell_type": "markdown",
   "metadata": {},
   "source": [
    "### Extracting the Testing Samples"
   ]
  },
  {
   "cell_type": "code",
   "execution_count": 24,
   "metadata": {
    "execution": {
     "iopub.execute_input": "2025-03-10T11:24:53.048922Z",
     "iopub.status.busy": "2025-03-10T11:24:53.048454Z",
     "iopub.status.idle": "2025-03-10T11:25:42.108903Z",
     "shell.execute_reply": "2025-03-10T11:25:42.107642Z",
     "shell.execute_reply.started": "2025-03-10T11:24:53.048883Z"
    },
    "trusted": true
   },
   "outputs": [],
   "source": [
    "for sample in test_sample:\n",
    "    audio_array = sample['audio']['array']\n",
    "    label = sample['is_tts']\n",
    "    \n",
    "    # Extract features and append to test set\n",
    "    mel_spec = extract_features_from_array(audio_array)\n",
    "    X_test.append(pad_features(mel_spec, target_time_steps))  # Pad features\n",
    "    y_test.append(label)"
   ]
  },
  {
   "cell_type": "markdown",
   "metadata": {},
   "source": [
    "### Converting the data into numpy arrays"
   ]
  },
  {
   "cell_type": "code",
   "execution_count": 25,
   "metadata": {
    "execution": {
     "iopub.execute_input": "2025-03-10T11:25:46.117357Z",
     "iopub.status.busy": "2025-03-10T11:25:46.116881Z",
     "iopub.status.idle": "2025-03-10T11:25:49.475955Z",
     "shell.execute_reply": "2025-03-10T11:25:49.474558Z",
     "shell.execute_reply.started": "2025-03-10T11:25:46.117302Z"
    },
    "trusted": true
   },
   "outputs": [],
   "source": [
    "X_train = np.array(X_train)\n",
    "X_test = np.array(X_test)\n",
    "y_train = np.array(y_train)\n",
    "y_test = np.array(y_test)"
   ]
  },
  {
   "cell_type": "markdown",
   "metadata": {},
   "source": [
    "### Adding a channel for CNN Network"
   ]
  },
  {
   "cell_type": "code",
   "execution_count": 26,
   "metadata": {
    "execution": {
     "iopub.execute_input": "2025-03-10T11:25:54.488067Z",
     "iopub.status.busy": "2025-03-10T11:25:54.487560Z",
     "iopub.status.idle": "2025-03-10T11:25:54.493536Z",
     "shell.execute_reply": "2025-03-10T11:25:54.492116Z",
     "shell.execute_reply.started": "2025-03-10T11:25:54.488020Z"
    },
    "trusted": true
   },
   "outputs": [],
   "source": [
    "X_train = X_train[..., np.newaxis]  # Adding a channel axis for CNN\n",
    "X_test = X_test[..., np.newaxis]"
   ]
  },
  {
   "cell_type": "markdown",
   "metadata": {},
   "source": [
    "# Defining CNN Model"
   ]
  },
  {
   "cell_type": "code",
   "execution_count": 27,
   "metadata": {
    "execution": {
     "iopub.execute_input": "2025-03-10T11:25:57.633684Z",
     "iopub.status.busy": "2025-03-10T11:25:57.633187Z",
     "iopub.status.idle": "2025-03-10T11:25:57.737062Z",
     "shell.execute_reply": "2025-03-10T11:25:57.735711Z",
     "shell.execute_reply.started": "2025-03-10T11:25:57.633647Z"
    },
    "trusted": true
   },
   "outputs": [
    {
     "name": "stderr",
     "output_type": "stream",
     "text": [
      "/usr/local/lib/python3.10/dist-packages/keras/src/layers/convolutional/base_conv.py:107: UserWarning: Do not pass an `input_shape`/`input_dim` argument to a layer. When using Sequential models, prefer using an `Input(shape)` object as the first layer in the model instead.\n",
      "  super().__init__(activity_regularizer=activity_regularizer, **kwargs)\n"
     ]
    }
   ],
   "source": [
    "model = models.Sequential([\n",
    "    layers.Conv2D(32, (3, 3), activation='relu', input_shape=(X_train.shape[1], X_train.shape[2], 1)),\n",
    "    layers.MaxPooling2D((2, 2)),\n",
    "    layers.Conv2D(64, (3, 3), activation='relu'),\n",
    "    layers.MaxPooling2D((2, 2)),\n",
    "    layers.Conv2D(128, (3, 3), activation='relu'),\n",
    "    layers.MaxPooling2D((2, 2)),\n",
    "    layers.Flatten(),\n",
    "    layers.Dense(128, activation='relu'),\n",
    "    layers.Dense(1, activation='sigmoid')  # Sigmoid for binary classification\n",
    "])\n"
   ]
  },
  {
   "cell_type": "code",
   "execution_count": 28,
   "metadata": {
    "execution": {
     "iopub.execute_input": "2025-03-10T11:26:02.303966Z",
     "iopub.status.busy": "2025-03-10T11:26:02.303498Z",
     "iopub.status.idle": "2025-03-10T11:26:02.319064Z",
     "shell.execute_reply": "2025-03-10T11:26:02.317467Z",
     "shell.execute_reply.started": "2025-03-10T11:26:02.303931Z"
    },
    "trusted": true
   },
   "outputs": [],
   "source": [
    "model.compile(optimizer='adam', loss='binary_crossentropy', metrics=['accuracy'])"
   ]
  },
  {
   "cell_type": "markdown",
   "metadata": {},
   "source": [
    "# Model Training"
   ]
  },
  {
   "cell_type": "code",
   "execution_count": 29,
   "metadata": {
    "execution": {
     "iopub.execute_input": "2025-03-10T11:26:06.128495Z",
     "iopub.status.busy": "2025-03-10T11:26:06.128031Z",
     "iopub.status.idle": "2025-03-10T12:09:23.436995Z",
     "shell.execute_reply": "2025-03-10T12:09:23.435893Z",
     "shell.execute_reply.started": "2025-03-10T11:26:06.128461Z"
    },
    "trusted": true
   },
   "outputs": [
    {
     "name": "stdout",
     "output_type": "stream",
     "text": [
      "Epoch 1/20\n",
      "\u001b[1m972/972\u001b[0m \u001b[32m━━━━━━━━━━━━━━━━━━━━\u001b[0m\u001b[37m\u001b[0m \u001b[1m127s\u001b[0m 129ms/step - accuracy: 0.5053 - loss: 0.9473 - val_accuracy: 0.0000e+00 - val_loss: 1.0739\n",
      "Epoch 2/20\n",
      "\u001b[1m972/972\u001b[0m \u001b[32m━━━━━━━━━━━━━━━━━━━━\u001b[0m\u001b[37m\u001b[0m \u001b[1m126s\u001b[0m 130ms/step - accuracy: 0.5605 - loss: 0.6775 - val_accuracy: 0.0000e+00 - val_loss: 0.6829\n",
      "Epoch 3/20\n",
      "\u001b[1m972/972\u001b[0m \u001b[32m━━━━━━━━━━━━━━━━━━━━\u001b[0m\u001b[37m\u001b[0m \u001b[1m147s\u001b[0m 151ms/step - accuracy: 0.7698 - loss: 0.4585 - val_accuracy: 0.0000e+00 - val_loss: 1.5674\n",
      "Epoch 4/20\n",
      "\u001b[1m972/972\u001b[0m \u001b[32m━━━━━━━━━━━━━━━━━━━━\u001b[0m\u001b[37m\u001b[0m \u001b[1m124s\u001b[0m 127ms/step - accuracy: 0.8569 - loss: 0.3168 - val_accuracy: 0.0000e+00 - val_loss: 0.2750\n",
      "Epoch 5/20\n",
      "\u001b[1m972/972\u001b[0m \u001b[32m━━━━━━━━━━━━━━━━━━━━\u001b[0m\u001b[37m\u001b[0m \u001b[1m125s\u001b[0m 129ms/step - accuracy: 0.8910 - loss: 0.2521 - val_accuracy: 0.0000e+00 - val_loss: 0.6834\n",
      "Epoch 6/20\n",
      "\u001b[1m972/972\u001b[0m \u001b[32m━━━━━━━━━━━━━━━━━━━━\u001b[0m\u001b[37m\u001b[0m \u001b[1m141s\u001b[0m 128ms/step - accuracy: 0.9090 - loss: 0.2163 - val_accuracy: 0.0000e+00 - val_loss: 3.0283\n",
      "Epoch 7/20\n",
      "\u001b[1m972/972\u001b[0m \u001b[32m━━━━━━━━━━━━━━━━━━━━\u001b[0m\u001b[37m\u001b[0m \u001b[1m125s\u001b[0m 129ms/step - accuracy: 0.9274 - loss: 0.1786 - val_accuracy: 0.0000e+00 - val_loss: 0.5431\n",
      "Epoch 8/20\n",
      "\u001b[1m972/972\u001b[0m \u001b[32m━━━━━━━━━━━━━━━━━━━━\u001b[0m\u001b[37m\u001b[0m \u001b[1m153s\u001b[0m 141ms/step - accuracy: 0.9376 - loss: 0.1496 - val_accuracy: 0.0000e+00 - val_loss: -0.4268\n",
      "Epoch 9/20\n",
      "\u001b[1m972/972\u001b[0m \u001b[32m━━━━━━━━━━━━━━━━━━━━\u001b[0m\u001b[37m\u001b[0m \u001b[1m126s\u001b[0m 129ms/step - accuracy: 0.9386 - loss: 0.1464 - val_accuracy: 0.0000e+00 - val_loss: -2.1205\n",
      "Epoch 10/20\n",
      "\u001b[1m972/972\u001b[0m \u001b[32m━━━━━━━━━━━━━━━━━━━━\u001b[0m\u001b[37m\u001b[0m \u001b[1m123s\u001b[0m 126ms/step - accuracy: 0.9471 - loss: 0.1334 - val_accuracy: 0.0000e+00 - val_loss: 0.5709\n",
      "Epoch 11/20\n",
      "\u001b[1m972/972\u001b[0m \u001b[32m━━━━━━━━━━━━━━━━━━━━\u001b[0m\u001b[37m\u001b[0m \u001b[1m124s\u001b[0m 127ms/step - accuracy: 0.9524 - loss: 0.1191 - val_accuracy: 0.0000e+00 - val_loss: 0.6865\n",
      "Epoch 12/20\n",
      "\u001b[1m972/972\u001b[0m \u001b[32m━━━━━━━━━━━━━━━━━━━━\u001b[0m\u001b[37m\u001b[0m \u001b[1m124s\u001b[0m 127ms/step - accuracy: 0.9531 - loss: 0.1168 - val_accuracy: 0.0000e+00 - val_loss: 2.7531\n",
      "Epoch 13/20\n",
      "\u001b[1m972/972\u001b[0m \u001b[32m━━━━━━━━━━━━━━━━━━━━\u001b[0m\u001b[37m\u001b[0m \u001b[1m133s\u001b[0m 137ms/step - accuracy: 0.9600 - loss: 0.0986 - val_accuracy: 0.0000e+00 - val_loss: -2.3940\n",
      "Epoch 14/20\n",
      "\u001b[1m972/972\u001b[0m \u001b[32m━━━━━━━━━━━━━━━━━━━━\u001b[0m\u001b[37m\u001b[0m \u001b[1m127s\u001b[0m 130ms/step - accuracy: 0.9613 - loss: 0.0959 - val_accuracy: 0.0000e+00 - val_loss: 2.3036\n",
      "Epoch 15/20\n",
      "\u001b[1m972/972\u001b[0m \u001b[32m━━━━━━━━━━━━━━━━━━━━\u001b[0m\u001b[37m\u001b[0m \u001b[1m126s\u001b[0m 130ms/step - accuracy: 0.9672 - loss: 0.0871 - val_accuracy: 0.0000e+00 - val_loss: -0.1761\n",
      "Epoch 16/20\n",
      "\u001b[1m972/972\u001b[0m \u001b[32m━━━━━━━━━━━━━━━━━━━━\u001b[0m\u001b[37m\u001b[0m \u001b[1m127s\u001b[0m 130ms/step - accuracy: 0.9679 - loss: 0.0826 - val_accuracy: 0.0000e+00 - val_loss: 1.3447\n",
      "Epoch 17/20\n",
      "\u001b[1m972/972\u001b[0m \u001b[32m━━━━━━━━━━━━━━━━━━━━\u001b[0m\u001b[37m\u001b[0m \u001b[1m124s\u001b[0m 127ms/step - accuracy: 0.9694 - loss: 0.0798 - val_accuracy: 0.0000e+00 - val_loss: 0.8800\n",
      "Epoch 18/20\n",
      "\u001b[1m972/972\u001b[0m \u001b[32m━━━━━━━━━━━━━━━━━━━━\u001b[0m\u001b[37m\u001b[0m \u001b[1m125s\u001b[0m 129ms/step - accuracy: 0.9695 - loss: 0.0767 - val_accuracy: 0.0000e+00 - val_loss: -0.4342\n",
      "Epoch 19/20\n",
      "\u001b[1m972/972\u001b[0m \u001b[32m━━━━━━━━━━━━━━━━━━━━\u001b[0m\u001b[37m\u001b[0m \u001b[1m124s\u001b[0m 128ms/step - accuracy: 0.9739 - loss: 0.0666 - val_accuracy: 0.0000e+00 - val_loss: 0.0300\n",
      "Epoch 20/20\n",
      "\u001b[1m972/972\u001b[0m \u001b[32m━━━━━━━━━━━━━━━━━━━━\u001b[0m\u001b[37m\u001b[0m \u001b[1m143s\u001b[0m 129ms/step - accuracy: 0.9763 - loss: 0.0617 - val_accuracy: 0.0000e+00 - val_loss: -4.3213\n"
     ]
    },
    {
     "data": {
      "text/plain": [
       "<keras.src.callbacks.history.History at 0x7f5d2f5e2d40>"
      ]
     },
     "execution_count": 29,
     "metadata": {},
     "output_type": "execute_result"
    }
   ],
   "source": [
    "model.fit(X_train, y_train, epochs=20, batch_size=32, validation_data=(X_test, y_test))"
   ]
  },
  {
   "cell_type": "code",
   "execution_count": 30,
   "metadata": {
    "execution": {
     "iopub.execute_input": "2025-03-10T12:09:34.812178Z",
     "iopub.status.busy": "2025-03-10T12:09:34.811136Z",
     "iopub.status.idle": "2025-03-10T12:09:39.490498Z",
     "shell.execute_reply": "2025-03-10T12:09:39.489239Z",
     "shell.execute_reply.started": "2025-03-10T12:09:34.812036Z"
    },
    "trusted": true
   },
   "outputs": [
    {
     "name": "stdout",
     "output_type": "stream",
     "text": [
      "\u001b[1m83/83\u001b[0m \u001b[32m━━━━━━━━━━━━━━━━━━━━\u001b[0m\u001b[37m\u001b[0m \u001b[1m4s\u001b[0m 51ms/step\n"
     ]
    }
   ],
   "source": [
    "# y_pred_prob = model.predict(X_test)"
   ]
  },
  {
   "cell_type": "markdown",
   "metadata": {},
   "source": [
    "# Model Evaluation"
   ]
  },
  {
   "cell_type": "code",
   "execution_count": 33,
   "metadata": {
    "execution": {
     "iopub.execute_input": "2025-03-10T12:12:46.102787Z",
     "iopub.status.busy": "2025-03-10T12:12:46.102232Z",
     "iopub.status.idle": "2025-03-10T12:12:49.267411Z",
     "shell.execute_reply": "2025-03-10T12:12:49.266101Z",
     "shell.execute_reply.started": "2025-03-10T12:12:46.102753Z"
    },
    "trusted": true
   },
   "outputs": [
    {
     "name": "stdout",
     "output_type": "stream",
     "text": [
      "\u001b[1m83/83\u001b[0m \u001b[32m━━━━━━━━━━━━━━━━━━━━\u001b[0m\u001b[37m\u001b[0m \u001b[1m3s\u001b[0m 35ms/step\n"
     ]
    }
   ],
   "source": [
    "y_pred_prob = model.predict(X_test)[:, 0] "
   ]
  },
  {
   "cell_type": "markdown",
   "metadata": {},
   "source": [
    "# Preparing the Submission File"
   ]
  },
  {
   "cell_type": "code",
   "execution_count": 37,
   "metadata": {
    "execution": {
     "iopub.execute_input": "2025-03-10T12:13:56.519995Z",
     "iopub.status.busy": "2025-03-10T12:13:56.519544Z",
     "iopub.status.idle": "2025-03-10T12:14:19.380785Z",
     "shell.execute_reply": "2025-03-10T12:14:19.379589Z",
     "shell.execute_reply.started": "2025-03-10T12:13:56.519963Z"
    },
    "trusted": true
   },
   "outputs": [],
   "source": [
    "submission = pd.DataFrame({\n",
    "    'id': [sample['id'] for sample in test_data], \n",
    "    'is_tts': y_pred_prob \n",
    "})"
   ]
  },
  {
   "cell_type": "code",
   "execution_count": 38,
   "metadata": {
    "execution": {
     "iopub.execute_input": "2025-03-10T12:14:23.764632Z",
     "iopub.status.busy": "2025-03-10T12:14:23.764142Z",
     "iopub.status.idle": "2025-03-10T12:14:23.825952Z",
     "shell.execute_reply": "2025-03-10T12:14:23.824590Z",
     "shell.execute_reply.started": "2025-03-10T12:14:23.764592Z"
    },
    "trusted": true
   },
   "outputs": [
    {
     "name": "stdout",
     "output_type": "stream",
     "text": [
      "                  id        is_tts\n",
      "0  ASM_F_ANGER_00109  3.624132e-19\n",
      "1  ASM_F_ANGER_00127  9.697998e-01\n",
      "2  ASM_F_ANGER_00386  6.084698e-10\n",
      "3  ASM_F_ANGER_00103  9.948132e-01\n",
      "4  ASM_F_ANGER_00434  1.337250e-06\n"
     ]
    }
   ],
   "source": [
    "print(submission.head())"
   ]
  },
  {
   "cell_type": "code",
   "execution_count": 16,
   "metadata": {
    "execution": {
     "iopub.execute_input": "2025-03-10T11:11:29.932793Z",
     "iopub.status.busy": "2025-03-10T11:11:29.932478Z",
     "iopub.status.idle": "2025-03-10T11:11:29.949680Z",
     "shell.execute_reply": "2025-03-10T11:11:29.948299Z",
     "shell.execute_reply.started": "2025-03-10T11:11:29.932765Z"
    },
    "trusted": true
   },
   "outputs": [
    {
     "name": "stdout",
     "output_type": "stream",
     "text": [
      "ROC-AUC Score: 0.9938524995875269\n"
     ]
    }
   ],
   "source": [
    "# roc_auc = roc_auc_score(y_test, y_pred_prob)\n",
    "# print(f'ROC-AUC Score: {roc_auc}')"
   ]
  },
  {
   "cell_type": "code",
   "execution_count": 39,
   "metadata": {
    "execution": {
     "iopub.execute_input": "2025-03-10T12:15:12.388372Z",
     "iopub.status.busy": "2025-03-10T12:15:12.387836Z",
     "iopub.status.idle": "2025-03-10T12:15:12.449041Z",
     "shell.execute_reply": "2025-03-10T12:15:12.447309Z",
     "shell.execute_reply.started": "2025-03-10T12:15:12.388311Z"
    },
    "trusted": true
   },
   "outputs": [],
   "source": [
    "submission.to_csv('submission.csv', index=False)"
   ]
  }
 ],
 "metadata": {
  "kaggle": {
   "accelerator": "none",
   "dataSources": [
    {
     "databundleVersionId": 11325230,
     "sourceId": 95302,
     "sourceType": "competition"
    }
   ],
   "dockerImageVersionId": 30918,
   "isGpuEnabled": false,
   "isInternetEnabled": true,
   "language": "python",
   "sourceType": "notebook"
  },
  "kernelspec": {
   "display_name": "Python 3",
   "language": "python",
   "name": "python3"
  },
  "language_info": {
   "codemirror_mode": {
    "name": "ipython",
    "version": 3
   },
   "file_extension": ".py",
   "mimetype": "text/x-python",
   "name": "python",
   "nbconvert_exporter": "python",
   "pygments_lexer": "ipython3",
   "version": "3.10.12"
  }
 },
 "nbformat": 4,
 "nbformat_minor": 4
}
