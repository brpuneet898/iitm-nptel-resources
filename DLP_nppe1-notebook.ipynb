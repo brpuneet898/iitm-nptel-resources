{
 "cells": [
  {
   "cell_type": "code",
   "execution_count": 1,
   "id": "bdaef817",
   "metadata": {
    "execution": {
     "iopub.execute_input": "2025-02-14T14:20:51.839251Z",
     "iopub.status.busy": "2025-02-14T14:20:51.838778Z",
     "iopub.status.idle": "2025-02-14T14:20:52.915988Z",
     "shell.execute_reply": "2025-02-14T14:20:52.914857Z"
    },
    "papermill": {
     "duration": 1.084582,
     "end_time": "2025-02-14T14:20:52.918411",
     "exception": false,
     "start_time": "2025-02-14T14:20:51.833829",
     "status": "completed"
    },
    "tags": []
   },
   "outputs": [],
   "source": [
    "import pandas as pd\n",
    "import numpy as np"
   ]
  },
  {
   "cell_type": "code",
   "execution_count": 2,
   "id": "cbeb9acb",
   "metadata": {
    "execution": {
     "iopub.execute_input": "2025-02-14T14:20:52.927310Z",
     "iopub.status.busy": "2025-02-14T14:20:52.926710Z",
     "iopub.status.idle": "2025-02-14T14:20:55.379845Z",
     "shell.execute_reply": "2025-02-14T14:20:55.376792Z"
    },
    "papermill": {
     "duration": 2.459803,
     "end_time": "2025-02-14T14:20:55.382160",
     "exception": false,
     "start_time": "2025-02-14T14:20:52.922357",
     "status": "completed"
    },
    "tags": []
   },
   "outputs": [
    {
     "name": "stdout",
     "output_type": "stream",
     "text": [
      "F1 Score: 0.6337\n"
     ]
    }
   ],
   "source": [
    "import pandas as pd\n",
    "from sklearn.feature_extraction.text import TfidfVectorizer\n",
    "from sklearn.metrics import f1_score\n",
    "import xgboost as xgb\n",
    "from sklearn.preprocessing import LabelEncoder\n",
    "\n",
    "train_data = pd.read_csv(\"/kaggle/input/multi-lingual-sentiment-analysis/train.csv\")\n",
    "\n",
    "train_sample_data = train_data.iloc[:900].copy()  \n",
    "test_sample_data = train_data.iloc[900:].copy()  \n",
    "\n",
    "label_encoder = LabelEncoder()\n",
    "train_sample_data.loc[:, 'label'] = label_encoder.fit_transform(train_sample_data['label'])\n",
    "test_sample_data.loc[:, 'label'] = label_encoder.transform(test_sample_data['label'])\n",
    "\n",
    "X_train = train_sample_data['sentence']\n",
    "y_train = train_sample_data['label']\n",
    "X_test = test_sample_data['sentence']\n",
    "y_test = test_sample_data['label']\n",
    "\n",
    "y_train = y_train.astype('int64')\n",
    "y_test = y_test.astype('int64')\n",
    "\n",
    "vectorizer = TfidfVectorizer(max_features=1000)  \n",
    "X_train_tfidf = vectorizer.fit_transform(X_train)\n",
    "X_test_tfidf = vectorizer.transform(X_test)\n",
    "\n",
    "xgb_model = xgb.XGBClassifier(eval_metric='mlogloss', use_label_encoder=False)\n",
    "xgb_model.fit(X_train_tfidf, y_train)\n",
    "\n",
    "y_pred = xgb_model.predict(X_test_tfidf)\n",
    "\n",
    "y_pred = y_pred.astype('int64')\n",
    "\n",
    "# print(f\"Unique values in y_test: {set(y_test)}\")\n",
    "# print(f\"Unique values in y_pred: {set(y_pred)}\")\n",
    "\n",
    "f1 = f1_score(y_test, y_pred)\n",
    "print(f\"F1 Score: {f1:.4f}\")"
   ]
  },
  {
   "cell_type": "code",
   "execution_count": 3,
   "id": "faee3db6",
   "metadata": {
    "execution": {
     "iopub.execute_input": "2025-02-14T14:20:55.392470Z",
     "iopub.status.busy": "2025-02-14T14:20:55.391939Z",
     "iopub.status.idle": "2025-02-14T14:21:04.574703Z",
     "shell.execute_reply": "2025-02-14T14:21:04.572690Z"
    },
    "papermill": {
     "duration": 9.190034,
     "end_time": "2025-02-14T14:21:04.576751",
     "exception": false,
     "start_time": "2025-02-14T14:20:55.386717",
     "status": "completed"
    },
    "tags": []
   },
   "outputs": [
    {
     "name": "stdout",
     "output_type": "stream",
     "text": [
      "Fitting 3 folds for each of 10 candidates, totalling 30 fits\n",
      "Best parameters found:  {'subsample': 0.7, 'n_estimators': 500, 'max_depth': 6, 'learning_rate': 0.1, 'gamma': 0.2, 'colsample_bytree': 0.7}\n",
      "F1 Score with Best Model: 0.6286\n"
     ]
    }
   ],
   "source": [
    "from sklearn.model_selection import RandomizedSearchCV\n",
    "\n",
    "train_sample_data = train_data.iloc[:900].copy()  \n",
    "test_sample_data = train_data.iloc[900:].copy()  \n",
    "\n",
    "label_encoder = LabelEncoder()\n",
    "train_sample_data.loc[:, 'label'] = label_encoder.fit_transform(train_sample_data['label'])\n",
    "test_sample_data.loc[:, 'label'] = label_encoder.transform(test_sample_data['label'])\n",
    "\n",
    "X_train = train_sample_data['sentence']\n",
    "y_train = train_sample_data['label']\n",
    "X_test = test_sample_data['sentence']\n",
    "y_test = test_sample_data['label']\n",
    "\n",
    "y_train = y_train.astype('int64')\n",
    "y_test = y_test.astype('int64')\n",
    "\n",
    "vectorizer = TfidfVectorizer(max_features=1000)\n",
    "X_train_tfidf = vectorizer.fit_transform(X_train)\n",
    "X_test_tfidf = vectorizer.transform(X_test)\n",
    "\n",
    "xgb_model = xgb.XGBClassifier(eval_metric='mlogloss', use_label_encoder=False)\n",
    "\n",
    "param_grid = {\n",
    "    'max_depth': [3, 4, 5, 6, 7],  \n",
    "    'learning_rate': [0.001, 0.01, 0.1, 0.2], \n",
    "    'n_estimators': [100, 200, 300, 500], \n",
    "    'subsample': [0.7, 0.8, 0.9, 1], \n",
    "    'colsample_bytree': [0.7, 0.8, 0.9, 1],  \n",
    "    'gamma': [0, 0.1, 0.2, 0.3], \n",
    "}\n",
    "\n",
    "random_search = RandomizedSearchCV(\n",
    "    xgb_model, param_grid, n_iter=10, cv=3, verbose=1, random_state=42, n_jobs=-1\n",
    ")\n",
    "\n",
    "random_search.fit(X_train_tfidf, y_train)\n",
    "\n",
    "print(\"Best parameters found: \", random_search.best_params_)\n",
    "\n",
    "best_xgb_model = random_search.best_estimator_\n",
    "\n",
    "y_pred = best_xgb_model.predict(X_test_tfidf)\n",
    "y_pred = y_pred.astype('int64')\n",
    "\n",
    "f1 = f1_score(y_test, y_pred)\n",
    "print(f\"F1 Score with Best Model: {f1:.4f}\")"
   ]
  },
  {
   "cell_type": "code",
   "execution_count": 4,
   "id": "1a15ec46",
   "metadata": {
    "execution": {
     "iopub.execute_input": "2025-02-14T14:21:04.586329Z",
     "iopub.status.busy": "2025-02-14T14:21:04.585950Z",
     "iopub.status.idle": "2025-02-14T14:21:28.784105Z",
     "shell.execute_reply": "2025-02-14T14:21:28.782612Z"
    },
    "papermill": {
     "duration": 24.205282,
     "end_time": "2025-02-14T14:21:28.786202",
     "exception": false,
     "start_time": "2025-02-14T14:21:04.580920",
     "status": "completed"
    },
    "tags": []
   },
   "outputs": [
    {
     "name": "stdout",
     "output_type": "stream",
     "text": [
      "Fitting 3 folds for each of 10 candidates, totalling 30 fits\n",
      "F1 Score with Improved Preprocessing and Hyperparameter Search: 0.6038\n"
     ]
    }
   ],
   "source": [
    "import pandas as pd\n",
    "import spacy\n",
    "from sklearn.feature_extraction.text import TfidfVectorizer\n",
    "from sklearn.metrics import f1_score\n",
    "import xgboost as xgb\n",
    "from sklearn.preprocessing import LabelEncoder\n",
    "from sklearn.model_selection import RandomizedSearchCV\n",
    "\n",
    "nlp = spacy.load('en_core_web_sm')\n",
    "\n",
    "def preprocess_text(text):\n",
    "    doc = nlp(text)\n",
    "    return \" \".join([token.lemma_ for token in doc if not token.is_stop and not token.is_punct])\n",
    "\n",
    "train_data = pd.read_csv(\"/kaggle/input/multi-lingual-sentiment-analysis/train.csv\")\n",
    "\n",
    "train_sample_data = train_data.iloc[:900].copy()\n",
    "test_sample_data = train_data.iloc[900:].copy()\n",
    "\n",
    "label_encoder = LabelEncoder()\n",
    "train_sample_data.loc[:, 'label'] = label_encoder.fit_transform(train_sample_data['label'])\n",
    "test_sample_data.loc[:, 'label'] = label_encoder.transform(test_sample_data['label'])\n",
    "\n",
    "train_sample_data['sentence'] = train_sample_data['sentence'].apply(preprocess_text)\n",
    "test_sample_data['sentence'] = test_sample_data['sentence'].apply(preprocess_text)\n",
    "\n",
    "X_train = train_sample_data['sentence']\n",
    "y_train = train_sample_data['label']\n",
    "X_test = test_sample_data['sentence']\n",
    "y_test = test_sample_data['label']\n",
    "\n",
    "y_train = y_train.astype('int64')\n",
    "y_test = y_test.astype('int64')\n",
    "\n",
    "vectorizer = TfidfVectorizer(ngram_range=(1, 2), max_features=1000)\n",
    "X_train_tfidf = vectorizer.fit_transform(X_train)\n",
    "X_test_tfidf = vectorizer.transform(X_test)\n",
    "\n",
    "xgb_model = xgb.XGBClassifier(eval_metric='mlogloss', use_label_encoder=False)\n",
    "\n",
    "param_grid = {\n",
    "    'max_depth': [3, 4, 5, 6, 7],\n",
    "    'learning_rate': [0.001, 0.01, 0.1, 0.2],\n",
    "    'n_estimators': [100, 200, 300, 500],\n",
    "    'subsample': [0.7, 0.8, 0.9, 1],\n",
    "    'colsample_bytree': [0.7, 0.8, 0.9, 1],\n",
    "    'gamma': [0, 0.1, 0.2, 0.3],\n",
    "}\n",
    "\n",
    "random_search = RandomizedSearchCV(xgb_model, param_grid, n_iter=10, cv=3, verbose=1, random_state=42, n_jobs=-1)\n",
    "random_search.fit(X_train_tfidf, y_train)\n",
    "\n",
    "best_xgb_model = random_search.best_estimator_\n",
    "\n",
    "y_pred = best_xgb_model.predict(X_test_tfidf)\n",
    "f1 = f1_score(y_test, y_pred)\n",
    "print(f\"F1 Score with Improved Preprocessing and Hyperparameter Search: {f1:.4f}\")\n"
   ]
  },
  {
   "cell_type": "code",
   "execution_count": 5,
   "id": "09dbbc8c",
   "metadata": {
    "execution": {
     "iopub.execute_input": "2025-02-14T14:21:28.796269Z",
     "iopub.status.busy": "2025-02-14T14:21:28.795876Z",
     "iopub.status.idle": "2025-02-14T14:21:29.036886Z",
     "shell.execute_reply": "2025-02-14T14:21:29.035601Z"
    },
    "papermill": {
     "duration": 0.248128,
     "end_time": "2025-02-14T14:21:29.038604",
     "exception": false,
     "start_time": "2025-02-14T14:21:28.790476",
     "status": "completed"
    },
    "tags": []
   },
   "outputs": [
    {
     "name": "stdout",
     "output_type": "stream",
     "text": [
      "F1 Score with Logistic Regression: 0.7143\n"
     ]
    }
   ],
   "source": [
    "import pandas as pd\n",
    "from sklearn.feature_extraction.text import TfidfVectorizer\n",
    "from sklearn.linear_model import LogisticRegression\n",
    "from sklearn.metrics import f1_score\n",
    "from sklearn.preprocessing import LabelEncoder\n",
    "from sklearn.model_selection import train_test_split\n",
    "\n",
    "train_data = pd.read_csv(\"/kaggle/input/multi-lingual-sentiment-analysis/train.csv\")\n",
    "\n",
    "train_sample_data = train_data.iloc[:900].copy()\n",
    "test_sample_data = train_data.iloc[900:].copy()\n",
    "\n",
    "label_encoder = LabelEncoder()\n",
    "train_sample_data.loc[:, 'label'] = label_encoder.fit_transform(train_sample_data['label'])\n",
    "test_sample_data.loc[:, 'label'] = label_encoder.transform(test_sample_data['label'])\n",
    "\n",
    "X_train = train_sample_data['sentence']\n",
    "y_train = train_sample_data['label']\n",
    "X_test = test_sample_data['sentence']\n",
    "y_test = test_sample_data['label']\n",
    "\n",
    "y_train = y_train.astype('int64')\n",
    "y_test = y_test.astype('int64')\n",
    "\n",
    "vectorizer = TfidfVectorizer(ngram_range=(1, 2), max_features=1000)\n",
    "X_train_tfidf = vectorizer.fit_transform(X_train)\n",
    "X_test_tfidf = vectorizer.transform(X_test)\n",
    "\n",
    "log_reg_model = LogisticRegression(max_iter=1000, random_state=42)\n",
    "\n",
    "log_reg_model.fit(X_train_tfidf, y_train)\n",
    "y_pred = log_reg_model.predict(X_test_tfidf)\n",
    "\n",
    "f1 = f1_score(y_test, y_pred)\n",
    "print(f\"F1 Score with Logistic Regression: {f1:.4f}\")\n"
   ]
  },
  {
   "cell_type": "code",
   "execution_count": 6,
   "id": "c132aa89",
   "metadata": {
    "execution": {
     "iopub.execute_input": "2025-02-14T14:21:29.046942Z",
     "iopub.status.busy": "2025-02-14T14:21:29.046586Z",
     "iopub.status.idle": "2025-02-14T14:21:29.885770Z",
     "shell.execute_reply": "2025-02-14T14:21:29.884484Z"
    },
    "papermill": {
     "duration": 0.845313,
     "end_time": "2025-02-14T14:21:29.887467",
     "exception": false,
     "start_time": "2025-02-14T14:21:29.042154",
     "status": "completed"
    },
    "tags": []
   },
   "outputs": [
    {
     "name": "stdout",
     "output_type": "stream",
     "text": [
      "F1 Score with Random Forest: 0.6198\n"
     ]
    }
   ],
   "source": [
    "import pandas as pd\n",
    "from sklearn.feature_extraction.text import TfidfVectorizer\n",
    "from sklearn.ensemble import RandomForestClassifier\n",
    "from sklearn.metrics import f1_score\n",
    "from sklearn.preprocessing import LabelEncoder\n",
    "from sklearn.model_selection import train_test_split\n",
    "\n",
    "train_data = pd.read_csv(\"/kaggle/input/multi-lingual-sentiment-analysis/train.csv\")\n",
    "\n",
    "train_sample_data = train_data.iloc[:900].copy()\n",
    "test_sample_data = train_data.iloc[900:].copy()\n",
    "\n",
    "label_encoder = LabelEncoder()\n",
    "train_sample_data.loc[:, 'label'] = label_encoder.fit_transform(train_sample_data['label'])\n",
    "test_sample_data.loc[:, 'label'] = label_encoder.transform(test_sample_data['label'])\n",
    "\n",
    "X_train = train_sample_data['sentence']\n",
    "y_train = train_sample_data['label']\n",
    "X_test = test_sample_data['sentence']\n",
    "y_test = test_sample_data['label']\n",
    "\n",
    "y_train = y_train.astype('int64')\n",
    "y_test = y_test.astype('int64')\n",
    "\n",
    "vectorizer = TfidfVectorizer(ngram_range=(1, 2), max_features=1000)\n",
    "X_train_tfidf = vectorizer.fit_transform(X_train)\n",
    "X_test_tfidf = vectorizer.transform(X_test)\n",
    "\n",
    "rf_model = RandomForestClassifier(n_estimators=100, random_state=42)\n",
    "\n",
    "rf_model.fit(X_train_tfidf, y_train)\n",
    "\n",
    "y_pred = rf_model.predict(X_test_tfidf)\n",
    "\n",
    "f1 = f1_score(y_test, y_pred, average='macro')\n",
    "print(f\"F1 Score with Random Forest: {f1:.4f}\")\n"
   ]
  },
  {
   "cell_type": "code",
   "execution_count": 7,
   "id": "8988b2dc",
   "metadata": {
    "execution": {
     "iopub.execute_input": "2025-02-14T14:21:29.895868Z",
     "iopub.status.busy": "2025-02-14T14:21:29.895491Z",
     "iopub.status.idle": "2025-02-14T14:21:30.042815Z",
     "shell.execute_reply": "2025-02-14T14:21:30.041661Z"
    },
    "papermill": {
     "duration": 0.153714,
     "end_time": "2025-02-14T14:21:30.044867",
     "exception": false,
     "start_time": "2025-02-14T14:21:29.891153",
     "status": "completed"
    },
    "tags": []
   },
   "outputs": [
    {
     "name": "stdout",
     "output_type": "stream",
     "text": [
      "F1 Score with SVM: 0.6144\n"
     ]
    }
   ],
   "source": [
    "import pandas as pd\n",
    "from sklearn.feature_extraction.text import TfidfVectorizer\n",
    "from sklearn.svm import SVC\n",
    "from sklearn.metrics import f1_score\n",
    "from sklearn.preprocessing import LabelEncoder\n",
    "from sklearn.model_selection import train_test_split\n",
    "\n",
    "train_data = pd.read_csv(\"/kaggle/input/multi-lingual-sentiment-analysis/train.csv\")\n",
    "train_sample_data = train_data.iloc[:900].copy()\n",
    "test_sample_data = train_data.iloc[900:].copy()\n",
    "label_encoder = LabelEncoder()\n",
    "train_sample_data.loc[:, 'label'] = label_encoder.fit_transform(train_sample_data['label'])\n",
    "test_sample_data.loc[:, 'label'] = label_encoder.transform(test_sample_data['label'])\n",
    "\n",
    "X_train = train_sample_data['sentence']\n",
    "y_train = train_sample_data['label']\n",
    "X_test = test_sample_data['sentence']\n",
    "y_test = test_sample_data['label']\n",
    "\n",
    "y_train = y_train.astype('int64')\n",
    "y_test = y_test.astype('int64')\n",
    "\n",
    "vectorizer = TfidfVectorizer(ngram_range=(1, 2), max_features=1000)\n",
    "X_train_tfidf = vectorizer.fit_transform(X_train)\n",
    "X_test_tfidf = vectorizer.transform(X_test)\n",
    "\n",
    "svm_model = SVC(kernel='linear', random_state=42)\n",
    "\n",
    "svm_model.fit(X_train_tfidf, y_train)\n",
    "y_pred = svm_model.predict(X_test_tfidf)\n",
    "f1 = f1_score(y_test, y_pred, average='macro')\n",
    "print(f\"F1 Score with SVM: {f1:.4f}\")\n"
   ]
  },
  {
   "cell_type": "code",
   "execution_count": 8,
   "id": "375c9b29",
   "metadata": {
    "execution": {
     "iopub.execute_input": "2025-02-14T14:21:30.053628Z",
     "iopub.status.busy": "2025-02-14T14:21:30.053224Z",
     "iopub.status.idle": "2025-02-14T14:21:30.400526Z",
     "shell.execute_reply": "2025-02-14T14:21:30.399071Z"
    },
    "papermill": {
     "duration": 0.353758,
     "end_time": "2025-02-14T14:21:30.402404",
     "exception": false,
     "start_time": "2025-02-14T14:21:30.048646",
     "status": "completed"
    },
    "tags": []
   },
   "outputs": [
    {
     "name": "stdout",
     "output_type": "stream",
     "text": [
      "Submission file saved.\n"
     ]
    }
   ],
   "source": [
    "train_data = pd.read_csv(\"/kaggle/input/multi-lingual-sentiment-analysis/train.csv\")\n",
    "test_data = pd.read_csv(\"/kaggle/input/multi-lingual-sentiment-analysis/test.csv\")\n",
    "\n",
    "label_encoder = LabelEncoder()\n",
    "train_data['label'] = label_encoder.fit_transform(train_data['label'])\n",
    "\n",
    "X_train = train_data['sentence']\n",
    "y_train = train_data['label']\n",
    "\n",
    "vectorizer = TfidfVectorizer(max_features=1000)\n",
    "X_train_tfidf = vectorizer.fit_transform(X_train)\n",
    "\n",
    "xgb_model = xgb.XGBClassifier(eval_metric='mlogloss', use_label_encoder=False)\n",
    "xgb_model.fit(X_train_tfidf, y_train)\n",
    "\n",
    "X_test = test_data['sentence']\n",
    "X_test_tfidf = vectorizer.transform(X_test)\n",
    "\n",
    "y_pred = xgb_model.predict(X_test_tfidf)\n",
    "\n",
    "y_pred_labels = label_encoder.inverse_transform(y_pred)\n",
    "\n",
    "submission = pd.DataFrame({\n",
    "    'ID': test_data['ID'],  \n",
    "    'label': y_pred_labels  \n",
    "})\n",
    "\n",
    "# submission.to_csv('/kaggle/working/submission.csv', index=False)\n",
    "\n",
    "print(\"Submission file saved.\")"
   ]
  },
  {
   "cell_type": "code",
   "execution_count": 9,
   "id": "8cc27a07",
   "metadata": {
    "execution": {
     "iopub.execute_input": "2025-02-14T14:21:30.411158Z",
     "iopub.status.busy": "2025-02-14T14:21:30.410810Z",
     "iopub.status.idle": "2025-02-14T14:21:30.500266Z",
     "shell.execute_reply": "2025-02-14T14:21:30.498939Z"
    },
    "papermill": {
     "duration": 0.095975,
     "end_time": "2025-02-14T14:21:30.502139",
     "exception": false,
     "start_time": "2025-02-14T14:21:30.406164",
     "status": "completed"
    },
    "tags": []
   },
   "outputs": [
    {
     "name": "stdout",
     "output_type": "stream",
     "text": [
      "Submission file saved.\n"
     ]
    }
   ],
   "source": [
    "import pandas as pd\n",
    "from sklearn.feature_extraction.text import TfidfVectorizer\n",
    "from sklearn.linear_model import LogisticRegression\n",
    "from sklearn.preprocessing import LabelEncoder\n",
    "\n",
    "train_data = pd.read_csv(\"/kaggle/input/multi-lingual-sentiment-analysis/train.csv\")\n",
    "test_data = pd.read_csv(\"/kaggle/input/multi-lingual-sentiment-analysis/test.csv\")\n",
    "\n",
    "label_encoder = LabelEncoder()\n",
    "train_data['label'] = label_encoder.fit_transform(train_data['label'])\n",
    "\n",
    "X_train = train_data['sentence']\n",
    "y_train = train_data['label']\n",
    "\n",
    "vectorizer = TfidfVectorizer(max_features=1000)\n",
    "X_train_tfidf = vectorizer.fit_transform(X_train)\n",
    "\n",
    "log_reg_model = LogisticRegression(max_iter=1000, random_state=42)\n",
    "log_reg_model.fit(X_train_tfidf, y_train)\n",
    "\n",
    "X_test = test_data['sentence']\n",
    "X_test_tfidf = vectorizer.transform(X_test)\n",
    "\n",
    "y_pred = log_reg_model.predict(X_test_tfidf)\n",
    "y_pred_labels = label_encoder.inverse_transform(y_pred)\n",
    "\n",
    "submission = pd.DataFrame({\n",
    "    'ID': test_data['ID'],  \n",
    "    'label': y_pred_labels  \n",
    "})\n",
    "\n",
    "submission.to_csv('/kaggle/working/submission.csv', index=False)\n",
    "\n",
    "print(\"Submission file saved.\")\n"
   ]
  }
 ],
 "metadata": {
  "kaggle": {
   "accelerator": "none",
   "dataSources": [
    {
     "databundleVersionId": 11098970,
     "sourceId": 93282,
     "sourceType": "competition"
    }
   ],
   "dockerImageVersionId": 30886,
   "isGpuEnabled": false,
   "isInternetEnabled": true,
   "language": "python",
   "sourceType": "notebook"
  },
  "kernelspec": {
   "display_name": "Python 3",
   "language": "python",
   "name": "python3"
  },
  "language_info": {
   "codemirror_mode": {
    "name": "ipython",
    "version": 3
   },
   "file_extension": ".py",
   "mimetype": "text/x-python",
   "name": "python",
   "nbconvert_exporter": "python",
   "pygments_lexer": "ipython3",
   "version": "3.10.12"
  },
  "papermill": {
   "default_parameters": {},
   "duration": 44.723409,
   "end_time": "2025-02-14T14:21:33.445892",
   "environment_variables": {},
   "exception": null,
   "input_path": "__notebook__.ipynb",
   "output_path": "__notebook__.ipynb",
   "parameters": {},
   "start_time": "2025-02-14T14:20:48.722483",
   "version": "2.6.0"
  }
 },
 "nbformat": 4,
 "nbformat_minor": 5
}
